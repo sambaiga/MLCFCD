{
 "cells": [
  {
   "cell_type": "code",
   "execution_count": 39,
   "metadata": {},
   "outputs": [
    {
     "name": "stdout",
     "output_type": "stream",
     "text": [
      "set seed\n"
     ]
    }
   ],
   "source": [
    "import sys\n",
    "sys.path.append('../src/')\n",
    "import numpy as np\n",
    "import matplotlib\n",
    "import matplotlib.pyplot as plt\n",
    "import matplotlib.ticker as ticker\n",
    "import pandas as pd\n",
    "from utils.visual_functions import *\n",
    "from utils.utils import *\n",
    "from utils.data_generator import *\n",
    "import numpy as np\n",
    "from sklearn.manifold import TSNE\n",
    "%matplotlib inline\n",
    "fig_path=\"../figure/paper/\"\n",
    "seed = 4783957\n",
    "print(\"set seed\")\n",
    "np.random.seed(seed)\n",
    "import torch\n",
    "from palettable.colorbrewer.qualitative import Pastel1_9\n",
    "from utils.data_generator import get_data, get_loaders\n",
    "plaid_names = ['CFL','ILB','Waterkettle','Fan','AC','HairIron','LaptopCharger','SolderingIron','Fridge','Vacuum',\n",
    "               'CoffeeMaker','FridgeDefroster']"
   ]
  },
  {
   "cell_type": "markdown",
   "metadata": {},
   "source": [
    "### Functions"
   ]
  },
  {
   "cell_type": "code",
   "execution_count": 40,
   "metadata": {},
   "outputs": [],
   "source": [
    "def calculatePower(train_current, train_voltage, NN=500):\n",
    "  \n",
    "\n",
    "    n = len(current)\n",
    "    PQ = np.empty([n,2])\n",
    "    for i in range(n):\n",
    "        # extract current and voltage in two cycle\n",
    "        # extract current and voltage in two cycle\n",
    "        temp_I = current[i]\n",
    "        temp_V = voltage[i]\n",
    "        Irms = np.mean(temp_I**2)**0.5\n",
    "        Vrms = np.mean(temp_V**2)**0.5\n",
    "\n",
    "        # Instantaneous power: obtained by multiplying the instantaneous voltage and current values\n",
    "        Pinst = temp_I * temp_V\n",
    "        Pactive = np.mean(Pinst) \n",
    "\n",
    "        # Apparent power: obtained by multiplying the RMS values of voltage and current\n",
    "        Papparent = Vrms*Irms;\n",
    "\n",
    "        # Ractive power if power triangle holds:\n",
    "        Preactive = np.sqrt(Papparent**2 - Pactive**2);\n",
    "\n",
    "\n",
    "\n",
    "\n",
    "        PQ[i,0]=Pactive\n",
    "        PQ[i,1]=Preactive\n",
    "    return PQ\n",
    "\n"
   ]
  },
  {
   "cell_type": "code",
   "execution_count": 41,
   "metadata": {},
   "outputs": [],
   "source": [
    "def plot_PQPlane(labels, PQ, legends=None, sample=True):\n",
    "    \n",
    "    if legends:\n",
    "        Legends=legends\n",
    "    else:\n",
    "        Legends=np.unique(labels)\n",
    "        \n",
    "    clrs = sns.color_palette(\"Paired\", len(Legends))\n",
    "    markers='1v^<P4ph+DX*8os3<-'\n",
    "    \n",
    "    minx,maxx,miny,maxy = (0,0,0,0)\n",
    "    \n",
    "\n",
    "    for i, app in enumerate(Legends):\n",
    "        ix=np.where(labels==app)[0]\n",
    "        if sample:\n",
    "            ix1 = np.random.randint(PQ.shape[0],size=6)\n",
    "            tempx = PQ[ix1,0]\n",
    "            tempy = PQ[ix1,1]\n",
    "        else:\n",
    "            tempx = PQ[ix,0]\n",
    "            tempy = PQ[ix,1]\n",
    "        plt.scatter(tempx,tempy,marker=markers[i], s=30, label=Legends[i], color=clrs[i])\n",
    "        minx = min(minx,min(tempx))\n",
    "        maxx = max(maxx,max(tempx))\n",
    "        miny = min(miny,min(tempy))\n",
    "        maxy = max(maxy,max(tempy))    \n",
    "    plt.axis([minx*0.9,maxx*1.1,miny*0.9,maxy*1.1])\n",
    "    plt.xlabel('Real Power(W)')\n",
    "    plt.ylabel('Reactive Power (VAR)')\n",
    "    plt.legend(bbox_to_anchor=(1.01, 1), loc=2, borderaxespad=0.)\n",
    "    plt.tight_layout()\n",
    "\n",
    "    \n",
    "def tsne_visualizer(labels, feature, legends=None):\n",
    "    if legends:\n",
    "        Legends=legends\n",
    "    else:\n",
    "        Legends=np.unique(labels)\n",
    "    clrs = sns.color_palette(\"Paired\", len(Legends))\n",
    "    model  = TSNE(perplexity=20, min_grad_norm=1E-12, n_iter=10000, random_state=42)\n",
    "    #model = TSNE(n_components=2, random_state=0, perplexity=20, n_iter=1000)\n",
    "    TSNEF  = model.fit_transform(feature.reshape(len(feature), -1))\n",
    "    \n",
    "    for i, app in enumerate(Legends):\n",
    "        ix=np.where(labels==app)[0]\n",
    "        plt.scatter(TSNEF[ix,0], TSNEF[ix,1],label=app, color=clrs[i])\n",
    "    plt.legend(bbox_to_anchor=(1.01, 1), loc=2, borderaxespad=0.)\n",
    "    plt.xlabel(\"tsne-2d-one\")\n",
    "    plt.ylabel(\"tsne-2d-two\")\n",
    "    \n",
    "def list_intersection(a, b): \n",
    "    a_set = set(a) \n",
    "    b_set = set(b) \n",
    "    return a_set.intersection(b_set) \n",
    "\n"
   ]
  },
  {
   "cell_type": "markdown",
   "metadata": {},
   "source": [
    "### PLAID"
   ]
  },
  {
   "cell_type": "code",
   "execution_count": 42,
   "metadata": {},
   "outputs": [
    {
     "name": "stdout",
     "output_type": "stream",
     "text": [
      "Load plaid aggregated data from ../data/plaid/\n"
     ]
    }
   ],
   "source": [
    "current, voltage, labels, I_max = get_data(data_type=\"plaid\")"
   ]
  },
  {
   "cell_type": "code",
   "execution_count": 43,
   "metadata": {},
   "outputs": [
    {
     "name": "stdout",
     "output_type": "stream",
     "text": [
      "['AC', 'Waterkettle', 'SolderingIron', 'SolderingIron']\n",
      "['AC', 'CoffeeMaker', 'SolderingIron', 'SolderingIron']\n",
      "['SolderingIron', 'SolderingIron', 'AC', 'CoffeeMaker']\n",
      "['SolderingIron', 'SolderingIron', 'CoffeeMaker', 'Vacuum']\n",
      "['SolderingIron', 'SolderingIron', 'ILB', 'AC']\n",
      "['CoffeeMaker', 'Vacuum', 'SolderingIron', 'SolderingIron']\n",
      "['Fridge', 'SolderingIron', 'SolderingIron', 'ILB']\n",
      "['ILB', 'SolderingIron', 'SolderingIron', 'Fridge']\n",
      "['Vacuum', 'SolderingIron', 'SolderingIron', 'FridgeDefroster']\n"
     ]
    }
   ],
   "source": [
    "for x in labels:\n",
    "    if len(x)==4:\n",
    "        print(x)"
   ]
  },
  {
   "cell_type": "code",
   "execution_count": 44,
   "metadata": {},
   "outputs": [],
   "source": [
    "active_apps = np.array([len(set(x)) for x in labels])\n",
    "l, count=np.unique(active_apps, return_counts=True)\n",
    "volgorde = np.argsort(count)\n",
    "fig = figure(fig_width=6)\n",
    "barwidth = 0.3\n",
    "plt.bar(np.array(l), count, width=barwidth, color=\"C1\")\n",
    "plt.xticks(np.array(l), np.array([\"1\", '2', '3', '4']));\n",
    "plt.tight_layout()\n",
    "ax = plt.gca()  \n",
    "ax.set_ylabel(f'Counts', fontsize=18)\n",
    "ax.set_xlabel(\"\",fontsize=20)\n",
    "        \n",
    "for p in ax.patches:\n",
    "        #ax.annotate('{:.0%}'.format(height), (p.get_x()+.15*width, p.get_y() + height + 0.01))\n",
    "        ax.annotate(\"${}$\".format(p.get_height()), (p.get_x() + p.get_width() / 2., p.get_height()),\n",
    "                    ha='center', va='center', xytext=(0, 10), textcoords='offset points')\n",
    "ax.set_xlabel(f'Number of active appliances', fontsize=18)     \n",
    "ax.tick_params(axis='both', which='major', labelsize=18)\n",
    "format_axes(ax)\n",
    "ax.autoscale(tight=True)\n",
    "savefig(fig_path+\"active_appliances_distribution_plaid\",format=\".pdf\")"
   ]
  },
  {
   "cell_type": "code",
   "execution_count": 45,
   "metadata": {},
   "outputs": [
    {
     "name": "stdout",
     "output_type": "stream",
     "text": [
      "Rectangle(xy=(0.85, 0), width=0.3, height=674, angle=0)\n",
      "Rectangle(xy=(1.85, 0), width=0.3, height=413, angle=0)\n",
      "Rectangle(xy=(2.85, 0), width=0.3, height=67, angle=0)\n"
     ]
    }
   ],
   "source": [
    "for p in ax.patches:\n",
    "    print(p)"
   ]
  },
  {
   "cell_type": "code",
   "execution_count": 33,
   "metadata": {},
   "outputs": [],
   "source": [
    "l, count=np.unique(np.hstack(labels), return_counts=True)\n",
    "volgorde = np.argsort(count)\n",
    "height = 0.8\n",
    "fig = figure(fig_width=6)\n",
    "plt.barh(np.array(l)[volgorde], count[volgorde], height=height, color=\"C1\")\n",
    "plt.tight_layout()\n",
    "plt.tight_layout()\n",
    "ax = plt.gca()  \n",
    "ax.set_xlabel(f'Counts', fontsize=20)\n",
    "#ax.set_ylabel(f'Number of active appliances', fontsize=20)\n",
    "ax.set_xlabel(\"\",fontsize=18)\n",
    "ax.tick_params(axis='both', which='major', labelsize=18)\n",
    "ax.autoscale(tight=True)\n",
    "savefig(fig_path+\"label_distribution_plaid\",format=\".pdf\")"
   ]
  },
  {
   "cell_type": "code",
   "execution_count": 34,
   "metadata": {},
   "outputs": [],
   "source": [
    "unique_label = []\n",
    "for l in labels:\n",
    "    unique_label.append(l)"
   ]
  },
  {
   "cell_type": "code",
   "execution_count": 35,
   "metadata": {},
   "outputs": [
    {
     "data": {
      "text/plain": [
       "220"
      ]
     },
     "execution_count": 35,
     "metadata": {},
     "output_type": "execute_result"
    }
   ],
   "source": [
    "plaid_labels = []\n",
    "for x in unique_label: \n",
    "    if x not in plaid_labels: \n",
    "        plaid_labels.append(x )\n",
    "len(plaid_labels)"
   ]
  },
  {
   "cell_type": "code",
   "execution_count": 36,
   "metadata": {},
   "outputs": [],
   "source": [
    "plaid_labels_counts = []\n",
    "for l in plaid_labels:\n",
    "    plaid_labels_counts.append(unique_label.count(l))"
   ]
  },
  {
   "cell_type": "code",
   "execution_count": 37,
   "metadata": {},
   "outputs": [
    {
     "data": {
      "text/plain": [
       "2"
      ]
     },
     "execution_count": 37,
     "metadata": {},
     "output_type": "execute_result"
    }
   ],
   "source": [
    "plaid_labels_counts[1]"
   ]
  },
  {
   "cell_type": "code",
   "execution_count": 38,
   "metadata": {},
   "outputs": [
    {
     "data": {
      "text/plain": [
       "['Fan', 'AC']"
      ]
     },
     "execution_count": 38,
     "metadata": {},
     "output_type": "execute_result"
    }
   ],
   "source": [
    "plaid_labels[1]"
   ]
  },
  {
   "cell_type": "code",
   "execution_count": null,
   "metadata": {},
   "outputs": [],
   "source": [
    "single_app  = ['CFL']\n",
    "double_app  = [\"CFL\", \"LaptopCharger\"]\n",
    "single_lap  = [\"LaptopCharger\"]\n",
    "single_kettle = ['Waterkettle']\n",
    "cfls = []\n",
    "cfls_laptop = []\n",
    "laptops   = []\n",
    "kettles   = []\n",
    "for idx in range(len(labels)):\n",
    "    x=list_intersection(single_app, labels[idx])\n",
    "    if len(x)==1:\n",
    "        cfls.append(idx)\n",
    "        \n",
    "    x=list_intersection(double_app, labels[idx])\n",
    "    if len(x)==2:\n",
    "        cfls_laptop.append(idx)\n",
    "        \n",
    "    x=list_intersection(single_lap, labels[idx])\n",
    "    if len(x)==1:\n",
    "        laptops.append(idx)   \n",
    "        \n",
    "    x=list_intersection(single_kettle, labels[idx])\n",
    "    if len(x)==1:\n",
    "        kettles.append(idx)   "
   ]
  },
  {
   "cell_type": "code",
   "execution_count": null,
   "metadata": {},
   "outputs": [],
   "source": [
    "ones = []\n",
    "for i, l in enumerate(labels[cfls]):\n",
    "    if len(l)==1:\n",
    "        ones.append(i)\n",
    "ones"
   ]
  },
  {
   "cell_type": "code",
   "execution_count": null,
   "metadata": {},
   "outputs": [],
   "source": [
    "current_cfl=generate_input_feature(current[cfls], voltage[cfls], \"current\", width=50,  p=2)"
   ]
  },
  {
   "cell_type": "code",
   "execution_count": null,
   "metadata": {},
   "outputs": [],
   "source": [
    "decomposed_current_cfl=generate_input_feature(current[cfls], voltage[cfls], \"decomposed_current\", width=50,  p=2)"
   ]
  },
  {
   "cell_type": "code",
   "execution_count": null,
   "metadata": {},
   "outputs": [],
   "source": [
    "x=decomposed_current_cfl[:,0,:]**2 + decomposed_current_cfl[:,1,:]**2\n",
    "x.shape"
   ]
  },
  {
   "cell_type": "code",
   "execution_count": null,
   "metadata": {},
   "outputs": [],
   "source": [
    "distance_cfl=generate_input_feature(current[cfls], voltage[cfls], \"distance\", width=50,  p=2)\n",
    "vi_cfl=generate_input_feature(current[cfls], voltage[cfls], \"vi\", width=50,  p=2)"
   ]
  },
  {
   "cell_type": "code",
   "execution_count": null,
   "metadata": {},
   "outputs": [],
   "source": [
    "decomposed_distance_cfl=generate_input_feature(current[cfls], voltage[cfls], \"decomposed_distance\", width=50,  p=2)\n",
    "decomposed_vi_cfl=generate_input_feature(current[cfls], voltage[cfls], \"decomposed_vi\", width=50,  p=2)"
   ]
  },
  {
   "cell_type": "code",
   "execution_count": null,
   "metadata": {},
   "outputs": [],
   "source": [
    "model  = TSNE(perplexity=20, min_grad_norm=1E-12, n_iter=10000, random_state=42)\n",
    "TSNEF  = model.fit_transform(decomposed_current_cfl.reshape(len(decomposed_distance_cfl), -1))"
   ]
  },
  {
   "cell_type": "code",
   "execution_count": null,
   "metadata": {},
   "outputs": [],
   "source": [
    "fig = figure(fig_width=4)\n",
    "plt.plot(decomposed_current_cfl[1][0])\n",
    "plt.tight_layout()\n",
    "plt.ylabel(\"current $A$\")\n",
    "plt.xlabel(\"sample $w$\")\n",
    "#savefig(fig_path+\"plaid_decomposed_currents_active\", format=\".pdf\")"
   ]
  },
  {
   "cell_type": "code",
   "execution_count": null,
   "metadata": {},
   "outputs": [],
   "source": [
    "fig = figure(fig_width=4)\n",
    "plt.plot(decomposed_current_cfl[1][1])\n",
    "plt.tight_layout()\n",
    "plt.ylabel(\"current $A$\")\n",
    "plt.xlabel(\"sample $w$\")\n",
    "#savefig(fig_path+\"plaid_decomposed_currents_non_active\", format=\".pdf\")"
   ]
  },
  {
   "cell_type": "code",
   "execution_count": null,
   "metadata": {},
   "outputs": [],
   "source": [
    "fig = figure(fig_width=4)\n",
    "x=decomposed_current_cfl[1][1]**2 +decomposed_current_cfl[1][0]**2\n",
    "x=x/x.max()\n",
    "\n",
    "plt.plot(x)"
   ]
  },
  {
   "cell_type": "code",
   "execution_count": null,
   "metadata": {},
   "outputs": [],
   "source": [
    "fig = figure(fig_width=4)\n",
    "plt.plot(decomposed_current_cfl[1][1]+decomposed_current_cfl[1][0])\n",
    "plt.tight_layout()\n",
    "plt.ylabel(\"current $A$\")\n",
    "plt.xlabel(\"sample $w$\")\n",
    "savefig(fig_path+\"plaid_decomposed_currents_non_active_plus_active\", format=\".pdf\")"
   ]
  },
  {
   "cell_type": "code",
   "execution_count": null,
   "metadata": {},
   "outputs": [],
   "source": [
    "fig = figure(fig_width=2.75, fig_height=2.75)\n",
    "plt.imshow(vi_cfl[1][0], cmap=\"Greys\")\n",
    "plt.xlabel(\"$W$\")\n",
    "plt.ylabel(\"$H$\")\n",
    "plt.tight_layout()\n",
    "savefig(fig_path+\"plaid_vi_cfl\", format=\".pdf\")"
   ]
  },
  {
   "cell_type": "code",
   "execution_count": null,
   "metadata": {},
   "outputs": [],
   "source": [
    "fig = figure(fig_width=2.75, fig_height=2.75)\n",
    "plt.imshow(distance_cfl[1][0], cmap=\"Greys\")\n",
    "plt.xlabel(\"$W$\")\n",
    "plt.ylabel(\"$H$\")\n",
    "plt.tight_layout()\n",
    "savefig(fig_path+\"plaid_distance_cfl\", format=\".pdf\")"
   ]
  },
  {
   "cell_type": "code",
   "execution_count": null,
   "metadata": {},
   "outputs": [],
   "source": [
    "fig = figure(fig_width=2.75, fig_height=2.75)\n",
    "plt.imshow(decomposed_distance_cfl[1][0], cmap=\"Greys\")\n",
    "plt.xlabel(\"$W$\")\n",
    "plt.ylabel(\"$H$\")\n",
    "plt.tight_layout()\n",
    "savefig(fig_path+\"plaid_decomposed_distance_cfl_active\", format=\".pdf\")\n"
   ]
  },
  {
   "cell_type": "code",
   "execution_count": null,
   "metadata": {},
   "outputs": [],
   "source": [
    "fig = figure(fig_width=2.75, fig_height=2.75)\n",
    "plt.imshow(decomposed_distance_cfl[1][1], cmap=\"Greys\")\n",
    "plt.xlabel(\"$W$\")\n",
    "plt.ylabel(\"$H$\")\n",
    "plt.tight_layout()\n",
    "savefig(fig_path+\"plaid_decomposed_distance_cfl_non_active\", format=\".pdf\")"
   ]
  },
  {
   "cell_type": "code",
   "execution_count": null,
   "metadata": {},
   "outputs": [],
   "source": [
    "fig = figure(fig_width=2.75, fig_height=2.75)\n",
    "plt.imshow(decomposed_vi_cfl[1][1], cmap=\"Greys\")\n",
    "plt.xlabel(\"$W$\")\n",
    "plt.ylabel(\"$H$\")\n",
    "plt.tight_layout()\n",
    "savefig(fig_path+\"plaid_decomposed_vi_cfl_non_active\", format=\".pdf\")"
   ]
  },
  {
   "cell_type": "code",
   "execution_count": null,
   "metadata": {},
   "outputs": [],
   "source": [
    "fig = figure(fig_width=2.75, fig_height=2.75)\n",
    "plt.imshow(decomposed_vi_cfl[1][0],cmap=\"Greys\")\n",
    "plt.xlabel(\"$W$\")\n",
    "plt.ylabel(\"$H$\")\n",
    "plt.tight_layout()\n",
    "savefig(fig_path+\"plaid_decomposed_vi_cfl_active\", format=\".pdf\")"
   ]
  },
  {
   "cell_type": "code",
   "execution_count": null,
   "metadata": {},
   "outputs": [],
   "source": [
    "from sklearn.preprocessing import MultiLabelBinarizer, StandardScaler\n",
    "mlb = MultiLabelBinarizer()\n",
    "mlb.fit(labels)\n",
    "y = mlb.transform(labels)"
   ]
  },
  {
   "cell_type": "code",
   "execution_count": null,
   "metadata": {},
   "outputs": [],
   "source": [
    "PQ=calculatePower(current, voltage, NN=500)"
   ]
  },
  {
   "cell_type": "code",
   "execution_count": null,
   "metadata": {},
   "outputs": [],
   "source": [
    "fig=figure(fig_width=7, fig_height=5)\n",
    "plot_PQPlane(y, PQ, None, sample=False)\n",
    "#savefig(fig_path+\"plaid_PQ_plane\",format=\".pdf\")"
   ]
  }
 ],
 "metadata": {
  "kernelspec": {
   "display_name": "Python 3",
   "language": "python",
   "name": "python3"
  },
  "language_info": {
   "codemirror_mode": {
    "name": "ipython",
    "version": 3
   },
   "file_extension": ".py",
   "mimetype": "text/x-python",
   "name": "python",
   "nbconvert_exporter": "python",
   "pygments_lexer": "ipython3",
   "version": "3.7.7"
  },
  "latex_envs": {
   "LaTeX_envs_menu_present": true,
   "autoclose": false,
   "autocomplete": true,
   "bibliofile": "biblio.bib",
   "cite_by": "apalike",
   "current_citInitial": 1,
   "eqLabelWithNumbers": true,
   "eqNumInitial": 1,
   "hotkeys": {
    "equation": "Ctrl-E",
    "itemize": "Ctrl-I"
   },
   "labels_anchors": false,
   "latex_user_defs": false,
   "report_style_numbering": false,
   "user_envs_cfg": false
  }
 },
 "nbformat": 4,
 "nbformat_minor": 4
}

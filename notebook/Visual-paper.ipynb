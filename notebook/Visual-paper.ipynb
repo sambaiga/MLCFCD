{
 "cells": [
  {
   "cell_type": "code",
   "execution_count": 1,
   "metadata": {},
   "outputs": [
    {
     "name": "stdout",
     "output_type": "stream",
     "text": [
      "set seed\n"
     ]
    }
   ],
   "source": [
    "import sys\n",
    "sys.path.append('../src/')\n",
    "import numpy as np\n",
    "import matplotlib\n",
    "import matplotlib.pyplot as plt\n",
    "import matplotlib.ticker as ticker\n",
    "import pandas as pd\n",
    "from utils.visual_functions import *\n",
    "from utils.utils import *\n",
    "from utils.data_generator import *\n",
    "import numpy as np\n",
    "from sklearn.manifold import TSNE\n",
    "import tqdm.notebook as tqdm\n",
    "%matplotlib inline\n",
    "fig_path=\"../figure/paper/\"\n",
    "seed = 4783957\n",
    "print(\"set seed\")\n",
    "np.random.seed(seed)\n",
    "import torch\n",
    "import palettable\n",
    "from utils.data_generator import get_data, get_loaders\n",
    "colors =[plt.cm.Blues(0.6), plt.cm.Reds(0.4), plt.cm.Greens(0.6), '#ffcc99', plt.cm.Greys(0.6)]\n",
    "plaid_names = ['CFL','ILB','Waterkettle','Fan','AC','HairIron','LaptopCharger','SolderingIron','Fridge','Vacuum','CoffeeMaker','FridgeDefroster']\n",
    "sns.set_color_codes(\"pastel\")"
   ]
  },
  {
   "cell_type": "code",
   "execution_count": 2,
   "metadata": {},
   "outputs": [],
   "source": [
    "def fryze_power_decomposition(i, v, T=500):\n",
    "    #pact = i[:,None]*v[:, None]\n",
    "    #pact = np.sum(pact)/T\n",
    "    #vrms = np.sum(v[:,None]**2)/T\n",
    "    p    = i*v\n",
    "    vrsm = v**2\n",
    "    i_active=p.mean()*v/vrsm.mean()  \n",
    "    i_non_active = i- i_active \n",
    "    return i_active, i_non_active "
   ]
  },
  {
   "cell_type": "code",
   "execution_count": 3,
   "metadata": {},
   "outputs": [],
   "source": [
    "def get_components(i, v):\n",
    "    dv = np.gradient(v)\n",
    "    dvrms = np.mean(dv**2)\n",
    "    p = np.mean(i*v)\n",
    "    pdv = np.mean(i*dv)\n",
    "    vrms = np.mean(v**2)\n",
    "    i_a = p*v/vrms\n",
    "    i_f = i - i_a\n",
    "    \n",
    "    i_r = pdv*dv/dvrms\n",
    "    i_s = i - i_r\n",
    "    \n",
    "    return i_a, i_f, i_r, i_s\n",
    "\n"
   ]
  },
  {
   "cell_type": "markdown",
   "metadata": {},
   "source": [
    "### Functions"
   ]
  },
  {
   "cell_type": "code",
   "execution_count": 4,
   "metadata": {},
   "outputs": [],
   "source": [
    "def calculatePower(train_current, train_voltage, NN=500):\n",
    "  \n",
    "\n",
    "    n = len(current)\n",
    "    PQ = np.empty([n,2])\n",
    "    for i in range(n):\n",
    "        # extract current and voltage in two cycle\n",
    "        # extract current and voltage in two cycle\n",
    "        temp_I = current[i]\n",
    "        temp_V = voltage[i]\n",
    "        Irms = np.mean(temp_I**2)**0.5\n",
    "        Vrms = np.mean(temp_V**2)**0.5\n",
    "\n",
    "        # Instantaneous power: obtained by multiplying the instantaneous voltage and current values\n",
    "        Pinst = temp_I * temp_V\n",
    "        Pactive = np.mean(Pinst) \n",
    "\n",
    "        # Apparent power: obtained by multiplying the RMS values of voltage and current\n",
    "        Papparent = Vrms*Irms;\n",
    "\n",
    "        # Ractive power if power triangle holds:\n",
    "        Preactive = np.sqrt(Papparent**2 - Pactive**2);\n",
    "\n",
    "\n",
    "\n",
    "\n",
    "        PQ[i,0]=Pactive\n",
    "        PQ[i,1]=Preactive\n",
    "    return PQ\n",
    "\n"
   ]
  },
  {
   "cell_type": "code",
   "execution_count": 5,
   "metadata": {},
   "outputs": [],
   "source": [
    "def plot_PQPlane(labels, PQ, legends=None, sample=True):\n",
    "    \n",
    "    if legends:\n",
    "        Legends=legends\n",
    "    else:\n",
    "        Legends=np.unique(labels)\n",
    "        \n",
    "    clrs = sns.color_palette(\"Paired\", len(Legends))\n",
    "    markers='1v^<P4ph+DX*8os3<-'\n",
    "    \n",
    "    minx,maxx,miny,maxy = (0,0,0,0)\n",
    "    \n",
    "\n",
    "    for i, app in enumerate(Legends):\n",
    "        ix=np.where(labels==app)[0]\n",
    "        if sample:\n",
    "            ix1 = np.random.randint(PQ.shape[0],size=6)\n",
    "            tempx = PQ[ix1,0]\n",
    "            tempy = PQ[ix1,1]\n",
    "        else:\n",
    "            tempx = PQ[ix,0]\n",
    "            tempy = PQ[ix,1]\n",
    "        plt.scatter(tempx,tempy,marker=markers[i], s=30, label=Legends[i], color=clrs[i])\n",
    "        minx = min(minx,min(tempx))\n",
    "        maxx = max(maxx,max(tempx))\n",
    "        miny = min(miny,min(tempy))\n",
    "        maxy = max(maxy,max(tempy))    \n",
    "    plt.axis([minx*0.9,maxx*1.1,miny*0.9,maxy*1.1])\n",
    "    plt.xlabel('Real Power(W)')\n",
    "    plt.ylabel('Reactive Power (VAR)')\n",
    "    plt.legend(bbox_to_anchor=(1.01, 1), loc=2, borderaxespad=0.)\n",
    "    plt.tight_layout()\n",
    "\n",
    "    \n",
    "def tsne_visualizer(labels, feature, legends=None):\n",
    "    if legends:\n",
    "        Legends=legends\n",
    "    else:\n",
    "        Legends=np.unique(labels)\n",
    "    clrs = sns.color_palette(\"Paired\", len(Legends))\n",
    "    #model  = TSNE(perplexity=20, min_grad_norm=1E-12, n_iter=500)\n",
    "    model = TSNE(n_components=2, random_state=0, perplexity=20, n_iter=1000)\n",
    "    TSNEF  = model.fit_transform(feature.reshape(len(feature), -1))\n",
    "    \n",
    "    for i, app in enumerate(Legends):\n",
    "        ix=np.where(labels==app)[0]\n",
    "        plt.scatter(TSNEF[ix,0], TSNEF[ix,1],label=app, color=clrs[i])\n",
    "    plt.legend(bbox_to_anchor=(1.01, 1), loc=2, borderaxespad=0.)\n",
    "    plt.xlabel(\"tsne-2d-one\")\n",
    "    plt.ylabel(\"tsne-2d-two\")\n",
    "    \n",
    "def list_intersection(a, b): \n",
    "    a_set = set(a) \n",
    "    b_set = set(b) \n",
    "    return a_set.intersection(b_set) \n",
    "\n"
   ]
  },
  {
   "cell_type": "markdown",
   "metadata": {},
   "source": [
    "### PLAID"
   ]
  },
  {
   "cell_type": "code",
   "execution_count": 6,
   "metadata": {},
   "outputs": [
    {
     "name": "stdout",
     "output_type": "stream",
     "text": [
      "Load plaid aggregated data from ../data/plaid/\n"
     ]
    }
   ],
   "source": [
    "current, voltage, labels, I_max = get_data(data_type=\"plaid\")"
   ]
  },
  {
   "cell_type": "code",
   "execution_count": 9,
   "metadata": {},
   "outputs": [],
   "source": [
    "active_apps = np.array([len(set(x)) for x in labels])\n",
    "l, count=np.unique(active_apps, return_counts=True)\n",
    "volgorde = np.argsort(count)\n",
    "fig = figure(fig_width=6)\n",
    "barwidth = 0.35\n",
    "plt.bar(np.array(l), count, width=barwidth, color=\"C1\")\n",
    "plt.xticks(np.array(l), np.array([\"1\", '2', '3', '4']));\n",
    "plt.tight_layout()\n",
    "ax = plt.gca()  \n",
    "ax.set_ylabel(f'Counts', fontsize=18)\n",
    "ax.set_xlabel(\"\",fontsize=20)\n",
    "        \n",
    "for p in ax.patches:\n",
    "        #ax.annotate('{:.0%}'.format(height), (p.get_x()+.15*width, p.get_y() + height + 0.01))\n",
    "        ax.annotate(\"${}$\".format(p.get_height()), (p.get_x() + p.get_width() / 2., p.get_height()),\n",
    "                    ha='center', va='center', xytext=(0, 10), textcoords='offset points')\n",
    "ax.set_xlabel(f'Number of active appliances', fontsize=18)     \n",
    "ax.tick_params(axis='both', which='major', labelsize=18)\n",
    "format_axes(ax)\n",
    "ax.autoscale(tight=True)\n",
    "savefig(fig_path+\"active_appliances_distribution_plaid\",format=\".pdf\")"
   ]
  },
  {
   "cell_type": "code",
   "execution_count": 11,
   "metadata": {},
   "outputs": [],
   "source": [
    "l, count=np.unique(np.hstack(labels), return_counts=True)\n",
    "volgorde = np.argsort(count)\n",
    "height = 0.8\n",
    "fig = figure(fig_width=6)\n",
    "plt.barh(np.array(l)[volgorde], count[volgorde], height=height,color=\"C1\")\n",
    "plt.tight_layout()\n",
    "plt.tight_layout()\n",
    "ax = plt.gca()  \n",
    "ax.set_xlabel(f'Counts', fontsize=20)\n",
    "#ax.set_ylabel(f'Number of active appliances', fontsize=20)\n",
    "ax.set_xlabel(\"\",fontsize=18)\n",
    "ax.tick_params(axis='both', which='major', labelsize=18)\n",
    "ax.autoscale(tight=True)\n",
    "savefig(fig_path+\"label_distribution_plaid\",format=\".pdf\")"
   ]
  },
  {
   "cell_type": "markdown",
   "metadata": {},
   "source": [
    "## Extract "
   ]
  },
  {
   "cell_type": "code",
   "execution_count": 13,
   "metadata": {},
   "outputs": [],
   "source": [
    "single_labels = []\n",
    "single_labels_ids = []\n",
    "for idx, l in enumerate(labels):\n",
    "    if len(set(l))==1:\n",
    "        single_labels_ids.append(idx)\n",
    "        single_labels.append(list(set(l))[0])\n",
    "unique_label = np.unique(np.hstack(single_labels))    "
   ]
  },
  {
   "cell_type": "code",
   "execution_count": 14,
   "metadata": {},
   "outputs": [],
   "source": [
    "current_sample = current[single_labels_ids]\n",
    "voltage_sample = voltage[single_labels_ids]\n",
    "#decomposed_current=compute_active_non_active_features(current_sample, voltage[single_labels_ids])\n",
    "#current_feature=generate_input_feature(current_sample, voltage[single_labels_ids], \"current\", width=50,  p=2)\n",
    "#decomposed_current_feature=generate_input_feature(current_sample, voltage[single_labels_ids], \"decomposed_current\", width=50,  p=2)\n",
    "#decomposed_distance_faeture=generate_input_feature(current_sample, voltage[single_labels_ids], \"decomposed_distance\", width=50,  p=2)"
   ]
  },
  {
   "cell_type": "code",
   "execution_count": 15,
   "metadata": {},
   "outputs": [],
   "source": [
    "def min_max_normalize(x):\n",
    "    max_value = max(abs(x.min()), x.max())\n",
    "    return x/max_value"
   ]
  },
  {
   "cell_type": "code",
   "execution_count": 41,
   "metadata": {},
   "outputs": [],
   "source": [
    "fig, axs = plt.subplots(len(unique_label)//3,3, sharex=True, figsize=set_figure_size(columns=2))\n",
    "fig.subplots_adjust(hspace = 0.25)\n",
    "axs = axs.ravel()\n",
    "for idap, app in enumerate(unique_label):\n",
    "    idx = np.random.choice(np.where(np.array(single_labels)==app)[0])\n",
    "    i_a, i_f = fryze_power_decomposition(current_sample[idx], voltage_sample[idx], T=500)\n",
    "    \n",
    "    axs[idap].plot(min_max_normalize(current_sample[idx]), \"k--\", label=\"$i(t)$\")\n",
    "    axs[idap].plot(min_max_normalize(i_a), label=\"$i(t)_a$\")\n",
    "    axs[idap].plot(min_max_normalize(i_f), label=\"$i(t)_f$\")\n",
    "    axs[idap].set_title(app)\n",
    "    axs[idap].set_ylabel(\"Current $A$\", fontsize=12) \n",
    "    axs[idap].set_xlim(0, 501) \n",
    "    #format_axes(axs[idap])\n",
    "    axs[idap].autoscale(tight=True)\n",
    "    \n",
    "\n",
    "handles, labels = axs[idap].get_legend_handles_labels()\n",
    "leg=fig.legend(handles, labels, loc='upper center',  ncol=3, fontsize=12, bbox_to_anchor=(0.5, 1.05))\n",
    "fig.tight_layout()\n",
    "savefig(fig_path+\"decomposed_current_plaid\",format=\".pdf\", leg=leg)"
   ]
  },
  {
   "cell_type": "code",
   "execution_count": 45,
   "metadata": {},
   "outputs": [],
   "source": [
    "single_app  = ['CFL']\n",
    "double_app  = [\"CFL\", \"LaptopCharger\"]\n",
    "single_lap  = [\"LaptopCharger\"]\n",
    "single_kettle = ['Waterkettle']\n",
    "cfls = []\n",
    "cfls_laptop = []\n",
    "laptops   = []\n",
    "kettles   = []\n",
    "for idx in range(len(labels)):\n",
    "    x=list_intersection(single_app, labels[idx])\n",
    "    if len(x)==1:\n",
    "        cfls.append(idx)\n",
    "        \n",
    "    x=list_intersection(double_app, labels[idx])\n",
    "    if len(x)==2:\n",
    "        cfls_laptop.append(idx)\n",
    "        \n",
    "    x=list_intersection(single_lap, labels[idx])\n",
    "    if len(x)==1:\n",
    "        laptops.append(idx)   \n",
    "        \n",
    "    x=list_intersection(single_kettle, labels[idx])\n",
    "    if len(x)==1:\n",
    "        kettles.append(idx)   "
   ]
  },
  {
   "cell_type": "code",
   "execution_count": 46,
   "metadata": {},
   "outputs": [
    {
     "ename": "TypeError",
     "evalue": "list indices must be integers or slices, not list",
     "output_type": "error",
     "traceback": [
      "\u001b[0;31m---------------------------------------------------------------------------\u001b[0m",
      "\u001b[0;31mTypeError\u001b[0m                                 Traceback (most recent call last)",
      "\u001b[0;32m<ipython-input-46-3426c5b56f05>\u001b[0m in \u001b[0;36m<module>\u001b[0;34m\u001b[0m\n\u001b[1;32m      1\u001b[0m \u001b[0mones\u001b[0m \u001b[0;34m=\u001b[0m \u001b[0;34m[\u001b[0m\u001b[0;34m]\u001b[0m\u001b[0;34m\u001b[0m\u001b[0;34m\u001b[0m\u001b[0m\n\u001b[0;32m----> 2\u001b[0;31m \u001b[0;32mfor\u001b[0m \u001b[0mi\u001b[0m\u001b[0;34m,\u001b[0m \u001b[0ml\u001b[0m \u001b[0;32min\u001b[0m \u001b[0menumerate\u001b[0m\u001b[0;34m(\u001b[0m\u001b[0mlabels\u001b[0m\u001b[0;34m[\u001b[0m\u001b[0mcfls\u001b[0m\u001b[0;34m]\u001b[0m\u001b[0;34m)\u001b[0m\u001b[0;34m:\u001b[0m\u001b[0;34m\u001b[0m\u001b[0;34m\u001b[0m\u001b[0m\n\u001b[0m\u001b[1;32m      3\u001b[0m     \u001b[0;32mif\u001b[0m \u001b[0mlen\u001b[0m\u001b[0;34m(\u001b[0m\u001b[0ml\u001b[0m\u001b[0;34m)\u001b[0m\u001b[0;34m==\u001b[0m\u001b[0;36m1\u001b[0m\u001b[0;34m:\u001b[0m\u001b[0;34m\u001b[0m\u001b[0;34m\u001b[0m\u001b[0m\n\u001b[1;32m      4\u001b[0m         \u001b[0mones\u001b[0m\u001b[0;34m.\u001b[0m\u001b[0mappend\u001b[0m\u001b[0;34m(\u001b[0m\u001b[0mi\u001b[0m\u001b[0;34m)\u001b[0m\u001b[0;34m\u001b[0m\u001b[0;34m\u001b[0m\u001b[0m\n\u001b[1;32m      5\u001b[0m \u001b[0mones\u001b[0m\u001b[0;34m\u001b[0m\u001b[0;34m\u001b[0m\u001b[0m\n",
      "\u001b[0;31mTypeError\u001b[0m: list indices must be integers or slices, not list"
     ]
    }
   ],
   "source": [
    "ones = []\n",
    "for i, l in enumerate(labels[cfls]):\n",
    "    if len(l)==1:\n",
    "        ones.append(i)\n",
    "ones"
   ]
  },
  {
   "cell_type": "code",
   "execution_count": 47,
   "metadata": {},
   "outputs": [
    {
     "name": "stderr",
     "output_type": "stream",
     "text": [
      "0it [00:00, ?it/s]\n"
     ]
    }
   ],
   "source": [
    "current_cfl=generate_input_feature(current[cfls], voltage[cfls], \"current\", width=50,  p=2)"
   ]
  },
  {
   "cell_type": "code",
   "execution_count": 48,
   "metadata": {},
   "outputs": [
    {
     "name": "stderr",
     "output_type": "stream",
     "text": [
      "0it [00:00, ?it/s]\n"
     ]
    },
    {
     "ename": "IndexError",
     "evalue": "Dimension out of range (expected to be in range of [-1, 0], but got 1)",
     "output_type": "error",
     "traceback": [
      "\u001b[0;31m---------------------------------------------------------------------------\u001b[0m",
      "\u001b[0;31mIndexError\u001b[0m                                Traceback (most recent call last)",
      "\u001b[0;32m<ipython-input-48-91184f6e3f61>\u001b[0m in \u001b[0;36m<module>\u001b[0;34m\u001b[0m\n\u001b[0;32m----> 1\u001b[0;31m \u001b[0mdecomposed_current_cfl\u001b[0m\u001b[0;34m=\u001b[0m\u001b[0mgenerate_input_feature\u001b[0m\u001b[0;34m(\u001b[0m\u001b[0mcurrent\u001b[0m\u001b[0;34m[\u001b[0m\u001b[0mcfls\u001b[0m\u001b[0;34m]\u001b[0m\u001b[0;34m,\u001b[0m \u001b[0mvoltage\u001b[0m\u001b[0;34m[\u001b[0m\u001b[0mcfls\u001b[0m\u001b[0;34m]\u001b[0m\u001b[0;34m,\u001b[0m \u001b[0;34m\"decomposed_current\"\u001b[0m\u001b[0;34m,\u001b[0m \u001b[0mwidth\u001b[0m\u001b[0;34m=\u001b[0m\u001b[0;36m50\u001b[0m\u001b[0;34m,\u001b[0m  \u001b[0mp\u001b[0m\u001b[0;34m=\u001b[0m\u001b[0;36m2\u001b[0m\u001b[0;34m)\u001b[0m\u001b[0;34m\u001b[0m\u001b[0;34m\u001b[0m\u001b[0m\n\u001b[0m",
      "\u001b[0;32m~/Documents/Satellite image/MLC_VI/src/utils/utils.py\u001b[0m in \u001b[0;36mgenerate_input_feature\u001b[0;34m(current, voltage, image_type, width, p)\u001b[0m\n\u001b[1;32m    312\u001b[0m         \u001b[0mfeature\u001b[0m \u001b[0;34m=\u001b[0m \u001b[0mcreate_paa\u001b[0m\u001b[0;34m(\u001b[0m\u001b[0mcurrent\u001b[0m\u001b[0;34m,\u001b[0m \u001b[0mwidth\u001b[0m\u001b[0;34m)\u001b[0m\u001b[0;34m.\u001b[0m\u001b[0munsqueeze\u001b[0m\u001b[0;34m(\u001b[0m\u001b[0;36m1\u001b[0m\u001b[0;34m)\u001b[0m\u001b[0;34m\u001b[0m\u001b[0;34m\u001b[0m\u001b[0m\n\u001b[1;32m    313\u001b[0m     \u001b[0;32melif\u001b[0m \u001b[0mimage_type\u001b[0m \u001b[0;34m==\u001b[0m \u001b[0;34m\"decomposed_current\"\u001b[0m\u001b[0;34m:\u001b[0m\u001b[0;34m\u001b[0m\u001b[0;34m\u001b[0m\u001b[0m\n\u001b[0;32m--> 314\u001b[0;31m         \u001b[0mfeature\u001b[0m \u001b[0;34m=\u001b[0m \u001b[0mcompute_active_non_active_features\u001b[0m\u001b[0;34m(\u001b[0m\u001b[0mcurrent\u001b[0m\u001b[0;34m,\u001b[0m \u001b[0mvoltage\u001b[0m\u001b[0;34m,\u001b[0m \u001b[0mwidth\u001b[0m\u001b[0;34m)\u001b[0m\u001b[0;34m\u001b[0m\u001b[0;34m\u001b[0m\u001b[0m\n\u001b[0m\u001b[1;32m    315\u001b[0m     \u001b[0;32melif\u001b[0m \u001b[0mimage_type\u001b[0m \u001b[0;34m==\u001b[0m\u001b[0;34m\"decompose_current_rms\"\u001b[0m \u001b[0;34m:\u001b[0m\u001b[0;34m\u001b[0m\u001b[0;34m\u001b[0m\u001b[0m\n\u001b[1;32m    316\u001b[0m         \u001b[0mfeature\u001b[0m \u001b[0;34m=\u001b[0m \u001b[0mcompute_active_non_active_features\u001b[0m\u001b[0;34m(\u001b[0m\u001b[0mcurrent\u001b[0m\u001b[0;34m,\u001b[0m \u001b[0mvoltage\u001b[0m\u001b[0;34m,\u001b[0m \u001b[0mwidth\u001b[0m\u001b[0;34m)\u001b[0m\u001b[0;34m\u001b[0m\u001b[0;34m\u001b[0m\u001b[0m\n",
      "\u001b[0;32m~/Documents/Satellite image/MLC_VI/src/utils/utils.py\u001b[0m in \u001b[0;36mcompute_active_non_active_features\u001b[0;34m(current, voltage, emb_size)\u001b[0m\n\u001b[1;32m    138\u001b[0m             \u001b[0mpbar\u001b[0m\u001b[0;34m.\u001b[0m\u001b[0mupdate\u001b[0m\u001b[0;34m(\u001b[0m\u001b[0;36m1\u001b[0m\u001b[0;34m)\u001b[0m\u001b[0;34m\u001b[0m\u001b[0;34m\u001b[0m\u001b[0m\n\u001b[1;32m    139\u001b[0m     \u001b[0mpbar\u001b[0m\u001b[0;34m.\u001b[0m\u001b[0mclose\u001b[0m\u001b[0;34m(\u001b[0m\u001b[0;34m)\u001b[0m\u001b[0;34m\u001b[0m\u001b[0;34m\u001b[0m\u001b[0m\n\u001b[0;32m--> 140\u001b[0;31m     \u001b[0mfeatures\u001b[0m\u001b[0;34m=\u001b[0m\u001b[0mtorch\u001b[0m\u001b[0;34m.\u001b[0m\u001b[0mtensor\u001b[0m\u001b[0;34m(\u001b[0m\u001b[0mfeatures\u001b[0m\u001b[0;34m)\u001b[0m\u001b[0;34m.\u001b[0m\u001b[0mfloat\u001b[0m\u001b[0;34m(\u001b[0m\u001b[0;34m)\u001b[0m\u001b[0;34m.\u001b[0m\u001b[0mtranspose\u001b[0m\u001b[0;34m(\u001b[0m\u001b[0;36m1\u001b[0m\u001b[0;34m,\u001b[0m\u001b[0;36m2\u001b[0m\u001b[0;34m)\u001b[0m\u001b[0;34m\u001b[0m\u001b[0;34m\u001b[0m\u001b[0m\n\u001b[0m\u001b[1;32m    141\u001b[0m     \u001b[0;32mreturn\u001b[0m \u001b[0mfeatures\u001b[0m\u001b[0;34m\u001b[0m\u001b[0;34m\u001b[0m\u001b[0m\n\u001b[1;32m    142\u001b[0m \u001b[0;34m\u001b[0m\u001b[0m\n",
      "\u001b[0;31mIndexError\u001b[0m: Dimension out of range (expected to be in range of [-1, 0], but got 1)"
     ]
    }
   ],
   "source": [
    "decomposed_current_cfl=generate_input_feature(current[cfls], voltage[cfls], \"decomposed_current\", width=50,  p=2)"
   ]
  },
  {
   "cell_type": "code",
   "execution_count": null,
   "metadata": {},
   "outputs": [],
   "source": [
    "x=decomposed_current_cfl[:,0,:]**2 + decomposed_current_cfl[:,1,:]**2\n",
    "x.shape"
   ]
  },
  {
   "cell_type": "code",
   "execution_count": null,
   "metadata": {},
   "outputs": [],
   "source": [
    "distance_cfl=generate_input_feature(current[cfls], voltage[cfls], \"distance\", width=50,  p=2)\n",
    "vi_cfl=generate_input_feature(current[cfls], voltage[cfls], \"vi\", width=50,  p=2)"
   ]
  },
  {
   "cell_type": "code",
   "execution_count": null,
   "metadata": {},
   "outputs": [],
   "source": [
    "decomposed_distance_cfl=generate_input_feature(current[cfls], voltage[cfls], \"decomposed_distance\", width=50,  p=2)\n",
    "decomposed_vi_cfl=generate_input_feature(current[cfls], voltage[cfls], \"decomposed_vi\", width=50,  p=2)"
   ]
  },
  {
   "cell_type": "code",
   "execution_count": null,
   "metadata": {},
   "outputs": [],
   "source": [
    "model  = TSNE(perplexity=20, min_grad_norm=1E-12, n_iter=10000, random_state=42)\n",
    "TSNEF  = model.fit_transform(decomposed_current_cfl.reshape(len(decomposed_distance_cfl), -1))"
   ]
  },
  {
   "cell_type": "code",
   "execution_count": null,
   "metadata": {},
   "outputs": [],
   "source": [
    "for ix, app in enumerate(labels[cfls]):\n",
    "    if len(app)==1:\n",
    "        plt.scatter(TSNEF[ix,0], TSNEF[ix,1], color='C2')\n",
    "    if len(app)==2:\n",
    "        plt.scatter(TSNEF[ix,0], TSNEF[ix,1], color='C1')\n",
    "        \n",
    "    if len(app)==3:\n",
    "        plt.scatter(TSNEF[ix,0], TSNEF[ix,1], color='C0')\n",
    "        \n",
    "    if len(app)==4:\n",
    "        plt.scatter(TSNEF[ix,0], TSNEF[ix,1], color='C4')\n",
    "#plt.legend(bbox_to_anchor=(1.01, 1), loc=2, borderaxespad=0.)\n",
    "plt.xlabel(\"tsne-2d-one\")\n",
    "plt.ylabel(\"tsne-2d-two\")"
   ]
  },
  {
   "cell_type": "code",
   "execution_count": null,
   "metadata": {},
   "outputs": [],
   "source": [
    "fig = figure(fig_width=4)\n",
    "plt.plot(current_cfl[1][0])\n",
    "plt.tight_layout()\n",
    "plt.ylabel(\"current $A$\")\n",
    "plt.xlabel(\"sample $w$\")\n",
    "savefig(fig_path+\"plaid_event_currents_cfl\", format=\".pdf\")"
   ]
  },
  {
   "cell_type": "code",
   "execution_count": null,
   "metadata": {},
   "outputs": [],
   "source": [
    "fig = figure(fig_width=4)\n",
    "plt.plot(decomposed_current_cfl[1][0])\n",
    "plt.tight_layout()\n",
    "plt.ylabel(\"current $A$\")\n",
    "plt.xlabel(\"sample $w$\")\n",
    "#savefig(fig_path+\"plaid_decomposed_currents_active\", format=\".pdf\")"
   ]
  },
  {
   "cell_type": "code",
   "execution_count": null,
   "metadata": {},
   "outputs": [],
   "source": [
    "fig = figure(fig_width=4)\n",
    "plt.plot(decomposed_current_cfl[1][1])\n",
    "plt.tight_layout()\n",
    "plt.ylabel(\"current $A$\")\n",
    "plt.xlabel(\"sample $w$\")\n",
    "#savefig(fig_path+\"plaid_decomposed_currents_non_active\", format=\".pdf\")"
   ]
  },
  {
   "cell_type": "code",
   "execution_count": null,
   "metadata": {},
   "outputs": [],
   "source": [
    "fig = figure(fig_width=4)\n",
    "x=decomposed_current_cfl[1][1]**2 +decomposed_current_cfl[1][0]**2\n",
    "x=x/x.max()\n",
    "\n",
    "plt.plot(x)"
   ]
  },
  {
   "cell_type": "code",
   "execution_count": null,
   "metadata": {},
   "outputs": [],
   "source": [
    "fig = figure(fig_width=4)\n",
    "plt.plot(decomposed_current_cfl[1][1]+decomposed_current_cfl[1][0])\n",
    "plt.tight_layout()\n",
    "plt.ylabel(\"current $A$\")\n",
    "plt.xlabel(\"sample $w$\")\n",
    "savefig(fig_path+\"plaid_decomposed_currents_non_active_plus_active\", format=\".pdf\")"
   ]
  },
  {
   "cell_type": "code",
   "execution_count": null,
   "metadata": {},
   "outputs": [],
   "source": [
    "fig = figure(fig_width=2.75, fig_height=2.75)\n",
    "plt.imshow(vi_cfl[1][0], cmap=\"Greys\")\n",
    "plt.xlabel(\"$W$\")\n",
    "plt.ylabel(\"$H$\")\n",
    "plt.tight_layout()\n",
    "savefig(fig_path+\"plaid_vi_cfl\", format=\".pdf\")"
   ]
  },
  {
   "cell_type": "code",
   "execution_count": null,
   "metadata": {},
   "outputs": [],
   "source": [
    "fig = figure(fig_width=2.75, fig_height=2.75)\n",
    "plt.imshow(distance_cfl[1][0], cmap=\"Greys\")\n",
    "plt.xlabel(\"$W$\")\n",
    "plt.ylabel(\"$H$\")\n",
    "plt.tight_layout()\n",
    "savefig(fig_path+\"plaid_distance_cfl\", format=\".pdf\")"
   ]
  },
  {
   "cell_type": "code",
   "execution_count": null,
   "metadata": {},
   "outputs": [],
   "source": [
    "fig = figure(fig_width=2.75, fig_height=2.75)\n",
    "plt.imshow(decomposed_distance_cfl[1][0], cmap=\"Greys\")\n",
    "plt.xlabel(\"$W$\")\n",
    "plt.ylabel(\"$H$\")\n",
    "plt.tight_layout()\n",
    "savefig(fig_path+\"plaid_decomposed_distance_cfl_active\", format=\".pdf\")\n"
   ]
  },
  {
   "cell_type": "code",
   "execution_count": null,
   "metadata": {},
   "outputs": [],
   "source": [
    "fig = figure(fig_width=2.75, fig_height=2.75)\n",
    "plt.imshow(decomposed_distance_cfl[1][1], cmap=\"Greys\")\n",
    "plt.xlabel(\"$W$\")\n",
    "plt.ylabel(\"$H$\")\n",
    "plt.tight_layout()\n",
    "savefig(fig_path+\"plaid_decomposed_distance_cfl_non_active\", format=\".pdf\")"
   ]
  },
  {
   "cell_type": "code",
   "execution_count": null,
   "metadata": {},
   "outputs": [],
   "source": [
    "fig = figure(fig_width=2.75, fig_height=2.75)\n",
    "plt.imshow(decomposed_vi_cfl[1][1], cmap=\"Greys\")\n",
    "plt.xlabel(\"$W$\")\n",
    "plt.ylabel(\"$H$\")\n",
    "plt.tight_layout()\n",
    "savefig(fig_path+\"plaid_decomposed_vi_cfl_non_active\", format=\".pdf\")"
   ]
  },
  {
   "cell_type": "code",
   "execution_count": null,
   "metadata": {},
   "outputs": [],
   "source": [
    "fig = figure(fig_width=2.75, fig_height=2.75)\n",
    "plt.imshow(decomposed_vi_cfl[1][0],cmap=\"Greys\")\n",
    "plt.xlabel(\"$W$\")\n",
    "plt.ylabel(\"$H$\")\n",
    "plt.tight_layout()\n",
    "savefig(fig_path+\"plaid_decomposed_vi_cfl_active\", format=\".pdf\")"
   ]
  },
  {
   "cell_type": "code",
   "execution_count": null,
   "metadata": {},
   "outputs": [],
   "source": [
    "from sklearn.preprocessing import MultiLabelBinarizer, StandardScaler\n",
    "mlb = MultiLabelBinarizer()\n",
    "mlb.fit(labels)\n",
    "y = mlb.transform(labels)"
   ]
  }
 ],
 "metadata": {
  "kernelspec": {
   "display_name": "Python 3",
   "language": "python",
   "name": "python3"
  },
  "language_info": {
   "codemirror_mode": {
    "name": "ipython",
    "version": 3
   },
   "file_extension": ".py",
   "mimetype": "text/x-python",
   "name": "python",
   "nbconvert_exporter": "python",
   "pygments_lexer": "ipython3",
   "version": "3.7.7"
  },
  "latex_envs": {
   "LaTeX_envs_menu_present": true,
   "autoclose": false,
   "autocomplete": true,
   "bibliofile": "biblio.bib",
   "cite_by": "apalike",
   "current_citInitial": 1,
   "eqLabelWithNumbers": true,
   "eqNumInitial": 1,
   "hotkeys": {
    "equation": "Ctrl-E",
    "itemize": "Ctrl-I"
   },
   "labels_anchors": false,
   "latex_user_defs": false,
   "report_style_numbering": false,
   "user_envs_cfg": false
  }
 },
 "nbformat": 4,
 "nbformat_minor": 4
}

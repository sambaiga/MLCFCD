{
 "cells": [
  {
   "cell_type": "code",
   "execution_count": 4,
   "metadata": {},
   "outputs": [
    {
     "name": "stdout",
     "output_type": "stream",
     "text": [
      "set seed\n"
     ]
    }
   ],
   "source": [
    "import sys\n",
    "sys.path.append('../src/')\n",
    "import numpy as np\n",
    "import matplotlib\n",
    "import matplotlib.pyplot as plt\n",
    "import matplotlib.ticker as ticker\n",
    "import pandas as pd\n",
    "from utils.visual_functions import *\n",
    "from utils.utils import *\n",
    "from utils.data_generator import *\n",
    "import numpy as np\n",
    "from sklearn.manifold import TSNE\n",
    "%matplotlib inline\n",
    "fig_path=\"../figure/paper/\"\n",
    "seed = 4783957\n",
    "print(\"set seed\")\n",
    "np.random.seed(seed)\n",
    "import torch\n",
    "from palettable.colorbrewer.qualitative import Pastel1_9\n",
    "from utils.data_generator import get_data, get_loaders\n",
    "plaid_names = ['CFL','ILB','Waterkettle','Fan','AC','HairIron','LaptopCharger','SolderingIron','Fridge','Vacuum',\n",
    "               'CoffeeMaker','FridgeDefroster']"
   ]
  },
  {
   "cell_type": "markdown",
   "metadata": {},
   "source": [
    "### Functions"
   ]
  },
  {
   "cell_type": "code",
   "execution_count": 5,
   "metadata": {},
   "outputs": [],
   "source": [
    "def calculatePower(train_current, train_voltage, NN=500):\n",
    "  \n",
    "\n",
    "    n = len(current)\n",
    "    PQ = np.empty([n,2])\n",
    "    for i in range(n):\n",
    "        # extract current and voltage in two cycle\n",
    "        # extract current and voltage in two cycle\n",
    "        temp_I = current[i]\n",
    "        temp_V = voltage[i]\n",
    "        Irms = np.mean(temp_I**2)**0.5\n",
    "        Vrms = np.mean(temp_V**2)**0.5\n",
    "\n",
    "        # Instantaneous power: obtained by multiplying the instantaneous voltage and current values\n",
    "        Pinst = temp_I * temp_V\n",
    "        Pactive = np.mean(Pinst) \n",
    "\n",
    "        # Apparent power: obtained by multiplying the RMS values of voltage and current\n",
    "        Papparent = Vrms*Irms;\n",
    "\n",
    "        # Ractive power if power triangle holds:\n",
    "        Preactive = np.sqrt(Papparent**2 - Pactive**2);\n",
    "\n",
    "\n",
    "\n",
    "\n",
    "        PQ[i,0]=Pactive\n",
    "        PQ[i,1]=Preactive\n",
    "    return PQ\n",
    "\n"
   ]
  },
  {
   "cell_type": "code",
   "execution_count": 6,
   "metadata": {},
   "outputs": [],
   "source": [
    "def plot_PQPlane(labels, PQ, legends=None, sample=True):\n",
    "    \n",
    "    if legends:\n",
    "        Legends=legends\n",
    "    else:\n",
    "        Legends=np.unique(labels)\n",
    "        \n",
    "    clrs = sns.color_palette(\"Paired\", len(Legends))\n",
    "    markers='1v^<P4ph+DX*8os3<-'\n",
    "    \n",
    "    minx,maxx,miny,maxy = (0,0,0,0)\n",
    "    \n",
    "\n",
    "    for i, app in enumerate(Legends):\n",
    "        ix=np.where(labels==app)[0]\n",
    "        if sample:\n",
    "            ix1 = np.random.randint(PQ.shape[0],size=6)\n",
    "            tempx = PQ[ix1,0]\n",
    "            tempy = PQ[ix1,1]\n",
    "        else:\n",
    "            tempx = PQ[ix,0]\n",
    "            tempy = PQ[ix,1]\n",
    "        plt.scatter(tempx,tempy,marker=markers[i], s=30, label=Legends[i], color=clrs[i])\n",
    "        minx = min(minx,min(tempx))\n",
    "        maxx = max(maxx,max(tempx))\n",
    "        miny = min(miny,min(tempy))\n",
    "        maxy = max(maxy,max(tempy))    \n",
    "    plt.axis([minx*0.9,maxx*1.1,miny*0.9,maxy*1.1])\n",
    "    plt.xlabel('Real Power(W)')\n",
    "    plt.ylabel('Reactive Power (VAR)')\n",
    "    plt.legend(bbox_to_anchor=(1.01, 1), loc=2, borderaxespad=0.)\n",
    "    plt.tight_layout()\n",
    "\n",
    "    \n",
    "def tsne_visualizer(labels, feature, legends=None):\n",
    "    if legends:\n",
    "        Legends=legends\n",
    "    else:\n",
    "        Legends=np.unique(labels)\n",
    "    clrs = sns.color_palette(\"Paired\", len(Legends))\n",
    "    model  = TSNE(perplexity=20, min_grad_norm=1E-12, n_iter=10000, random_state=42)\n",
    "    #model = TSNE(n_components=2, random_state=0, perplexity=20, n_iter=1000)\n",
    "    TSNEF  = model.fit_transform(feature.reshape(len(feature), -1))\n",
    "    \n",
    "    for i, app in enumerate(Legends):\n",
    "        ix=np.where(labels==app)[0]\n",
    "        plt.scatter(TSNEF[ix,0], TSNEF[ix,1],label=app, color=clrs[i])\n",
    "    plt.legend(bbox_to_anchor=(1.01, 1), loc=2, borderaxespad=0.)\n",
    "    plt.xlabel(\"tsne-2d-one\")\n",
    "    plt.ylabel(\"tsne-2d-two\")\n",
    "    \n",
    "def list_intersection(a, b): \n",
    "    a_set = set(a) \n",
    "    b_set = set(b) \n",
    "    return a_set.intersection(b_set) \n",
    "\n"
   ]
  },
  {
   "cell_type": "markdown",
   "metadata": {},
   "source": [
    "### PLAID"
   ]
  },
  {
   "cell_type": "code",
   "execution_count": 7,
   "metadata": {},
   "outputs": [
    {
     "name": "stdout",
     "output_type": "stream",
     "text": [
      "Load plaid aggregated data from ../data/plaid/\n"
     ]
    }
   ],
   "source": [
    "current, voltage, labels, I_max = get_data(data_type=\"plaid\")"
   ]
  },
  {
   "cell_type": "code",
   "execution_count": 8,
   "metadata": {},
   "outputs": [
    {
     "name": "stdout",
     "output_type": "stream",
     "text": [
      "['AC', 'Waterkettle', 'SolderingIron', 'SolderingIron']\n",
      "['AC', 'CoffeeMaker', 'SolderingIron', 'SolderingIron']\n",
      "['SolderingIron', 'SolderingIron', 'AC', 'CoffeeMaker']\n",
      "['SolderingIron', 'SolderingIron', 'CoffeeMaker', 'Vacuum']\n",
      "['SolderingIron', 'SolderingIron', 'ILB', 'AC']\n",
      "['CoffeeMaker', 'Vacuum', 'SolderingIron', 'SolderingIron']\n",
      "['Fridge', 'SolderingIron', 'SolderingIron', 'ILB']\n",
      "['ILB', 'SolderingIron', 'SolderingIron', 'Fridge']\n",
      "['Vacuum', 'SolderingIron', 'SolderingIron', 'FridgeDefroster']\n"
     ]
    }
   ],
   "source": [
    "for x in labels:\n",
    "    if len(x)==4:\n",
    "        print(x)"
   ]
  },
  {
   "cell_type": "code",
   "execution_count": 11,
   "metadata": {},
   "outputs": [
    {
     "data": {
      "image/png": "[encoded data removed]",
      "text/plain": [
       "<Figure size 432x266.991 with 1 Axes>"
      ]
     },
     "metadata": {
      "needs_background": "light"
     },
     "output_type": "display_data"
    }
   ],
   "source": [
    "active_apps = np.array([len(set(x)) for x in labels])\n",
    "l, count=np.unique(active_apps, return_counts=True)\n",
    "volgorde = np.argsort(count)\n",
    "fig = figure(fig_width=6)\n",
    "barwidth = 0.4\n",
    "plt.bar(np.array(l), count, width=barwidth, color=\"C1\", alpha=0.6)\n",
    "plt.xticks(np.array(l), np.array([\"1\", '2', '3', '4']));\n",
    "plt.tight_layout()\n",
    "ax = plt.gca()  \n",
    "ax.set_ylabel(f'Counts', fontsize=18)\n",
    "ax.set_xlabel(\"\",fontsize=20)\n",
    "        \n",
    "for p in ax.patches:\n",
    "        #ax.annotate('{:.0%}'.format(height), (p.get_x()+.15*width, p.get_y() + height + 0.01))\n",
    "        ax.annotate(\"${}$\".format(p.get_height()), (p.get_x() + p.get_width() / 2., p.get_height()),\n",
    "                    ha='center', va='center', xytext=(0, 10), textcoords='offset points')\n",
    "ax.set_xlabel(f'Number of active appliances', fontsize=18)     \n",
    "ax.tick_params(axis='both', which='major', labelsize=18)\n",
    "format_axes(ax)\n",
    "ax.autoscale(tight=True)\n",
    "#savefig(fig_path+\"active_appliances_distribution_plaid\",format=\".pdf\")"
   ]
  },
  {
   "cell_type": "code",
   "execution_count": null,
   "metadata": {},
   "outputs": [],
   "source": [
    "for p in ax.patches:\n",
    "    print(p)"
   ]
  },
  {
   "cell_type": "code",
   "execution_count": null,
   "metadata": {},
   "outputs": [],
   "source": [
    "l, count=np.unique(np.hstack(labels), return_counts=True)\n",
    "volgorde = np.argsort(count)\n",
    "height = 0.8\n",
    "fig = figure(fig_width=6)\n",
    "plt.barh(np.array(l)[volgorde], count[volgorde], height=height, alpha=0.6)\n",
    "plt.tight_layout()\n",
    "plt.tight_layout()\n",
    "ax = plt.gca()  \n",
    "ax.set_xlabel(f'Counts', fontsize=20)\n",
    "#ax.set_ylabel(f'Number of active appliances', fontsize=20)\n",
    "ax.set_xlabel(\"\",fontsize=18)\n",
    "ax.tick_params(axis='both', which='major', labelsize=18)\n",
    "ax.autoscale(tight=True)\n",
    "savefig(fig_path+\"label_distribution_plaid\",format=\".pdf\")"
   ]
  },
  {
   "cell_type": "code",
   "execution_count": null,
   "metadata": {},
   "outputs": [],
   "source": [
    "unique_label = []\n",
    "for l in labels:\n",
    "    unique_label.append(l)"
   ]
  },
  {
   "cell_type": "code",
   "execution_count": null,
   "metadata": {},
   "outputs": [],
   "source": [
    "plaid_labels = []\n",
    "for x in unique_label: \n",
    "    if x not in plaid_labels: \n",
    "        plaid_labels.append(x )\n",
    "len(plaid_labels)"
   ]
  },
  {
   "cell_type": "code",
   "execution_count": null,
   "metadata": {},
   "outputs": [],
   "source": [
    "plaid_labels_counts = []\n",
    "for l in plaid_labels:\n",
    "    plaid_labels_counts.append(unique_label.count(l))"
   ]
  },
  {
   "cell_type": "code",
   "execution_count": null,
   "metadata": {},
   "outputs": [],
   "source": [
    "plaid_labels_counts[1]"
   ]
  },
  {
   "cell_type": "code",
   "execution_count": null,
   "metadata": {},
   "outputs": [],
   "source": [
    "plaid_labels[1]"
   ]
  },
  {
   "cell_type": "code",
   "execution_count": null,
   "metadata": {},
   "outputs": [],
   "source": [
    "single_app  = ['CFL']\n",
    "double_app  = [\"CFL\", \"LaptopCharger\"]\n",
    "single_lap  = [\"LaptopCharger\"]\n",
    "single_kettle = ['Waterkettle']\n",
    "cfls = []\n",
    "cfls_laptop = []\n",
    "laptops   = []\n",
    "kettles   = []\n",
    "for idx in range(len(labels)):\n",
    "    x=list_intersection(single_app, labels[idx])\n",
    "    if len(x)==1:\n",
    "        cfls.append(idx)\n",
    "        \n",
    "    x=list_intersection(double_app, labels[idx])\n",
    "    if len(x)==2:\n",
    "        cfls_laptop.append(idx)\n",
    "        \n",
    "    x=list_intersection(single_lap, labels[idx])\n",
    "    if len(x)==1:\n",
    "        laptops.append(idx)   \n",
    "        \n",
    "    x=list_intersection(single_kettle, labels[idx])\n",
    "    if len(x)==1:\n",
    "        kettles.append(idx)   "
   ]
  },
  {
   "cell_type": "code",
   "execution_count": null,
   "metadata": {},
   "outputs": [],
   "source": [
    "ones = []\n",
    "for i, l in enumerate(labels[cfls]):\n",
    "    if len(l)==1:\n",
    "        ones.append(i)\n",
    "ones"
   ]
  },
  {
   "cell_type": "code",
   "execution_count": null,
   "metadata": {},
   "outputs": [],
   "source": [
    "current_cfl=generate_input_feature(current[cfls], voltage[cfls], \"current\", width=50,  p=2)"
   ]
  },
  {
   "cell_type": "code",
   "execution_count": null,
   "metadata": {},
   "outputs": [],
   "source": [
    "decomposed_current_cfl=generate_input_feature(current[cfls], voltage[cfls], \"decomposed_current\", width=50,  p=2)"
   ]
  },
  {
   "cell_type": "code",
   "execution_count": null,
   "metadata": {},
   "outputs": [],
   "source": [
    "x=decomposed_current_cfl[:,0,:]**2 + decomposed_current_cfl[:,1,:]**2\n",
    "x.shape"
   ]
  },
  {
   "cell_type": "code",
   "execution_count": null,
   "metadata": {},
   "outputs": [],
   "source": [
    "distance_cfl=generate_input_feature(current[cfls], voltage[cfls], \"distance\", width=50,  p=2)\n",
    "vi_cfl=generate_input_feature(current[cfls], voltage[cfls], \"vi\", width=50,  p=2)"
   ]
  },
  {
   "cell_type": "code",
   "execution_count": null,
   "metadata": {},
   "outputs": [],
   "source": [
    "decomposed_distance_cfl=generate_input_feature(current[cfls], voltage[cfls], \"decomposed_distance\", width=50,  p=2)\n",
    "decomposed_vi_cfl=generate_input_feature(current[cfls], voltage[cfls], \"decomposed_vi\", width=50,  p=2)"
   ]
  },
  {
   "cell_type": "code",
   "execution_count": null,
   "metadata": {},
   "outputs": [],
   "source": [
    "model  = TSNE(perplexity=20, min_grad_norm=1E-12, n_iter=10000, random_state=42)\n",
    "TSNEF  = model.fit_transform(decomposed_current_cfl.reshape(len(decomposed_distance_cfl), -1))"
   ]
  },
  {
   "cell_type": "code",
   "execution_count": null,
   "metadata": {},
   "outputs": [],
   "source": [
    "for ix, app in enumerate(labels[cfls]):\n",
    "    if len(app)==1:\n",
    "        plt.scatter(TSNEF[ix,0], TSNEF[ix,1], color='C2')\n",
    "    if len(app)==2:\n",
    "        plt.scatter(TSNEF[ix,0], TSNEF[ix,1], color='C1')\n",
    "        \n",
    "    if len(app)==3:\n",
    "        plt.scatter(TSNEF[ix,0], TSNEF[ix,1], color='C0')\n",
    "        \n",
    "    if len(app)==4:\n",
    "        plt.scatter(TSNEF[ix,0], TSNEF[ix,1], color='C4')\n",
    "#plt.legend(bbox_to_anchor=(1.01, 1), loc=2, borderaxespad=0.)\n",
    "plt.xlabel(\"tsne-2d-one\")\n",
    "plt.ylabel(\"tsne-2d-two\")"
   ]
  },
  {
   "cell_type": "code",
   "execution_count": null,
   "metadata": {},
   "outputs": [],
   "source": [
    "fig = figure(fig_width=4)\n",
    "plt.plot(current_cfl[1][0])\n",
    "plt.tight_layout()\n",
    "plt.ylabel(\"current $A$\")\n",
    "plt.xlabel(\"sample $w$\")\n",
    "savefig(fig_path+\"plaid_event_currents_cfl\", format=\".pdf\")"
   ]
  },
  {
   "cell_type": "code",
   "execution_count": null,
   "metadata": {},
   "outputs": [],
   "source": [
    "fig = figure(fig_width=4)\n",
    "plt.plot(decomposed_current_cfl[1][0])\n",
    "plt.tight_layout()\n",
    "plt.ylabel(\"current $A$\")\n",
    "plt.xlabel(\"sample $w$\")\n",
    "#savefig(fig_path+\"plaid_decomposed_currents_active\", format=\".pdf\")"
   ]
  },
  {
   "cell_type": "code",
   "execution_count": null,
   "metadata": {},
   "outputs": [],
   "source": [
    "fig = figure(fig_width=4)\n",
    "plt.plot(decomposed_current_cfl[1][1])\n",
    "plt.tight_layout()\n",
    "plt.ylabel(\"current $A$\")\n",
    "plt.xlabel(\"sample $w$\")\n",
    "#savefig(fig_path+\"plaid_decomposed_currents_non_active\", format=\".pdf\")"
   ]
  },
  {
   "cell_type": "code",
   "execution_count": null,
   "metadata": {},
   "outputs": [],
   "source": [
    "fig = figure(fig_width=4)\n",
    "x=decomposed_current_cfl[1][1]**2 +decomposed_current_cfl[1][0]**2\n",
    "x=x/x.max()\n",
    "\n",
    "plt.plot(x)"
   ]
  },
  {
   "cell_type": "code",
   "execution_count": null,
   "metadata": {},
   "outputs": [],
   "source": [
    "fig = figure(fig_width=4)\n",
    "plt.plot(decomposed_current_cfl[1][1]+decomposed_current_cfl[1][0])\n",
    "plt.tight_layout()\n",
    "plt.ylabel(\"current $A$\")\n",
    "plt.xlabel(\"sample $w$\")\n",
    "savefig(fig_path+\"plaid_decomposed_currents_non_active_plus_active\", format=\".pdf\")"
   ]
  },
  {
   "cell_type": "code",
   "execution_count": null,
   "metadata": {},
   "outputs": [],
   "source": [
    "fig = figure(fig_width=2.75, fig_height=2.75)\n",
    "plt.imshow(vi_cfl[1][0], cmap=\"Greys\")\n",
    "plt.xlabel(\"$W$\")\n",
    "plt.ylabel(\"$H$\")\n",
    "plt.tight_layout()\n",
    "savefig(fig_path+\"plaid_vi_cfl\", format=\".pdf\")"
   ]
  },
  {
   "cell_type": "code",
   "execution_count": null,
   "metadata": {},
   "outputs": [],
   "source": [
    "fig = figure(fig_width=2.75, fig_height=2.75)\n",
    "plt.imshow(distance_cfl[1][0], cmap=\"Greys\")\n",
    "plt.xlabel(\"$W$\")\n",
    "plt.ylabel(\"$H$\")\n",
    "plt.tight_layout()\n",
    "savefig(fig_path+\"plaid_distance_cfl\", format=\".pdf\")"
   ]
  },
  {
   "cell_type": "code",
   "execution_count": null,
   "metadata": {},
   "outputs": [],
   "source": [
    "fig = figure(fig_width=2.75, fig_height=2.75)\n",
    "plt.imshow(decomposed_distance_cfl[1][0], cmap=\"Greys\")\n",
    "plt.xlabel(\"$W$\")\n",
    "plt.ylabel(\"$H$\")\n",
    "plt.tight_layout()\n",
    "savefig(fig_path+\"plaid_decomposed_distance_cfl_active\", format=\".pdf\")\n"
   ]
  },
  {
   "cell_type": "code",
   "execution_count": null,
   "metadata": {},
   "outputs": [],
   "source": [
    "fig = figure(fig_width=2.75, fig_height=2.75)\n",
    "plt.imshow(decomposed_distance_cfl[1][1], cmap=\"Greys\")\n",
    "plt.xlabel(\"$W$\")\n",
    "plt.ylabel(\"$H$\")\n",
    "plt.tight_layout()\n",
    "savefig(fig_path+\"plaid_decomposed_distance_cfl_non_active\", format=\".pdf\")"
   ]
  },
  {
   "cell_type": "code",
   "execution_count": null,
   "metadata": {},
   "outputs": [],
   "source": [
    "fig = figure(fig_width=2.75, fig_height=2.75)\n",
    "plt.imshow(decomposed_vi_cfl[1][1], cmap=\"Greys\")\n",
    "plt.xlabel(\"$W$\")\n",
    "plt.ylabel(\"$H$\")\n",
    "plt.tight_layout()\n",
    "savefig(fig_path+\"plaid_decomposed_vi_cfl_non_active\", format=\".pdf\")"
   ]
  },
  {
   "cell_type": "code",
   "execution_count": null,
   "metadata": {},
   "outputs": [],
   "source": [
    "fig = figure(fig_width=2.75, fig_height=2.75)\n",
    "plt.imshow(decomposed_vi_cfl[1][0],cmap=\"Greys\")\n",
    "plt.xlabel(\"$W$\")\n",
    "plt.ylabel(\"$H$\")\n",
    "plt.tight_layout()\n",
    "savefig(fig_path+\"plaid_decomposed_vi_cfl_active\", format=\".pdf\")"
   ]
  },
  {
   "cell_type": "code",
   "execution_count": null,
   "metadata": {},
   "outputs": [],
   "source": [
    "from sklearn.preprocessing import MultiLabelBinarizer, StandardScaler\n",
    "mlb = MultiLabelBinarizer()\n",
    "mlb.fit(labels)\n",
    "y = mlb.transform(labels)"
   ]
  },
  {
   "cell_type": "code",
   "execution_count": null,
   "metadata": {},
   "outputs": [],
   "source": [
    "PQ=calculatePower(current, voltage, NN=500)"
   ]
  },
  {
   "cell_type": "code",
   "execution_count": null,
   "metadata": {},
   "outputs": [],
   "source": [
    "fig=figure(fig_width=7, fig_height=5)\n",
    "plot_PQPlane(y, PQ, None, sample=False)\n",
    "#savefig(fig_path+\"plaid_PQ_plane\",format=\".pdf\")"
   ]
  },
  {
   "cell_type": "markdown",
   "metadata": {},
   "source": [
    "### Feature embending "
   ]
  },
  {
   "cell_type": "code",
   "execution_count": null,
   "metadata": {},
   "outputs": [],
   "source": [
    "dist = cfl_dist\n",
    "v_dist = generate_input_feature(voltage, voltage, \"rp\", width=50, multi_dimension=False, p=2)\n",
    "WRG  = get_weighted_reccurrence_graph(dist, delta=10, eps=20)\n",
    "RP   = get_binary_reccurrence_graph(dist, eps=0.05)\n",
    "\n",
    "WRGV  = get_weighted_reccurrence_graph(v_dist, delta=10, eps=20)\n",
    "RPV   = get_binary_reccurrence_graph(v_dist, eps=0.05)"
   ]
  },
  {
   "cell_type": "code",
   "execution_count": null,
   "metadata": {},
   "outputs": [],
   "source": [
    "#WRG = torch.cat([WRG, WRGV], 1)\n",
    "BRP = torch.cat([RP, RPV], 1)"
   ]
  },
  {
   "cell_type": "code",
   "execution_count": null,
   "metadata": {},
   "outputs": [],
   "source": [
    "#RP = generate_input_feature(current, voltage, \"adaptive\", width=50, multi_dimension=True).numpy()\n",
    "VI = generate_input_feature(current, voltage, \"vi\", width=50, multi_dimension=False).numpy()"
   ]
  },
  {
   "cell_type": "code",
   "execution_count": null,
   "metadata": {},
   "outputs": [],
   "source": [
    "fig=figure(fig_width=5, fig_height=5)\n",
    "tsne_visualizer(plaid_label,current, legends=None)\n",
    "#savefig(fig_path+\"tsne_feature_VI\",format=\".pdf\")"
   ]
  },
  {
   "cell_type": "code",
   "execution_count": null,
   "metadata": {},
   "outputs": [],
   "source": [
    "savefig(fig_path+\"tsne_feature_current\",format=\".pdf\")"
   ]
  },
  {
   "cell_type": "code",
   "execution_count": null,
   "metadata": {},
   "outputs": [],
   "source": [
    "fig=figure(fig_width=5, fig_height=5)\n",
    "tsne_visualizer(plaid_label, VI, legends=None)"
   ]
  },
  {
   "cell_type": "code",
   "execution_count": null,
   "metadata": {},
   "outputs": [],
   "source": [
    "savefig(fig_path+\"tsne_feature_vi\",format=\".pdf\")"
   ]
  },
  {
   "cell_type": "code",
   "execution_count": null,
   "metadata": {},
   "outputs": [],
   "source": [
    "fig=figure(fig_width=5, fig_height=5)\n",
    "tsne_visualizer(plaid_label, BRP, legends=None)\n"
   ]
  },
  {
   "cell_type": "code",
   "execution_count": null,
   "metadata": {},
   "outputs": [],
   "source": [
    "savefig(fig_path+\"tsne_feature_brp\",format=\".pdf\")"
   ]
  },
  {
   "cell_type": "code",
   "execution_count": null,
   "metadata": {},
   "outputs": [],
   "source": [
    "fig=figure(fig_width=5, fig_height=5)\n",
    "tsne_visualizer(plaid_label, WRG, legends=None)\n"
   ]
  },
  {
   "cell_type": "code",
   "execution_count": null,
   "metadata": {},
   "outputs": [],
   "source": [
    "savefig(fig_path+\"tsne_feature_wrg\",format=\".pdf\")"
   ]
  },
  {
   "cell_type": "code",
   "execution_count": null,
   "metadata": {},
   "outputs": [],
   "source": [
    "1/1e3"
   ]
  },
  {
   "cell_type": "markdown",
   "metadata": {
    "heading_collapsed": true
   },
   "source": [
    "## Visualize learned representation"
   ]
  },
  {
   "cell_type": "code",
   "execution_count": null,
   "metadata": {
    "hidden": true
   },
   "outputs": [],
   "source": [
    "class Conv2DVI(nn.Module):\n",
    "    def __init__(self, in_size, out_size, dropout=0.2):\n",
    "        super(Conv2DVI, self).__init__()\n",
    "        self.in_size=in_size\n",
    "        self.conv1 = nn.Sequential(\n",
    "            nn.Conv2d(in_size, 16, 5, 2),\n",
    "            nn.ReLU()\n",
    "            #nn.MaxPool2d(3, 2)\n",
    "        )\n",
    "        self.conv2 = nn.Sequential(\n",
    "            nn.Conv2d(16, 32, 5, 2),\n",
    "            nn.ReLU()\n",
    "            #nn.MaxPool2d(3, 2)\n",
    "        )\n",
    "        self.conv3 = nn.Sequential(\n",
    "            nn.Conv2d(32, 64, 5, 2),\n",
    "            nn.ReLU(),\n",
    "            nn.MaxPool2d(3, 2)\n",
    "        )\n",
    "        self.fc_out=nn.Sequential(\n",
    "            nn.Linear(64, 1024),\n",
    "            nn.ReLU(),\n",
    "            nn.Dropout(dropout),\n",
    "            nn.Linear(1024, out_size)\n",
    "            )\n",
    "        self.dropout = nn.Dropout(dropout)\n",
    "\n",
    "    def forward(self, x):\n",
    "        x = self.conv1(x)\n",
    "        x = self.conv2(x)\n",
    "        x = self.conv3(x)\n",
    "        x = x.view(x.size(0), -1)\n",
    "        x = self.dropout(x)\n",
    "        x= self.fc_out(x)\n",
    "        return x"
   ]
  },
  {
   "cell_type": "code",
   "execution_count": null,
   "metadata": {
    "hidden": true
   },
   "outputs": [],
   "source": [
    "from data_generator import *\n",
    "from model import *\n",
    "from utils import *\n",
    "from fit_functions import *\n",
    "dataset=\"plaid\"\n",
    "image_type=\"vi\"\n",
    "width=50\n",
    "model_name=\"CNN\"\n",
    "run_id=1\n",
    "file_name=f\"{dataset}_{image_type}_{str(width)}_{model_name}_{str(run_id)}__exp_two\"\n",
    "saved_model_path   = '../checkpoint/plaid_vi_50_CNN_1__exp_two_checkpoint.pt'\n",
    "checkpoint = Checkpoint(saved_model_path, patience=100, checkpoint=True, score_mode=\"max\",min_delta=1e-4)\n",
    "model_vi = Conv2DVI(1, out_size=12, dropout=0.2)\n",
    "model_vi=checkpoint.load_saved_model(model_vi)\n",
    "model_vi = model_vi.eval()"
   ]
  },
  {
   "cell_type": "code",
   "execution_count": null,
   "metadata": {
    "hidden": true
   },
   "outputs": [],
   "source": [
    "from sklearn.preprocessing import LabelEncoder\n",
    "le = LabelEncoder()\n",
    "le.fit(labels)\n",
    "y = le.transform(labels)\n",
    "vi_data = Dataset(torch.tensor(VI), y)\n",
    "loader=torch.utils.data.DataLoader(vi_data, 32, shuffle=False, num_workers=4, drop_last=False)\n",
    "target = []\n",
    "latent_feature = []\n",
    "with torch.no_grad():\n",
    "    for i, data in enumerate(loader):\n",
    "        inp, targ=data\n",
    "        out = model_vi(inp)\n",
    "        latent_feature.append(out.data.numpy())\n",
    "        target.append(targ.numpy())"
   ]
  },
  {
   "cell_type": "code",
   "execution_count": null,
   "metadata": {
    "hidden": true
   },
   "outputs": [],
   "source": [
    "target = np.hstack(target)\n",
    "latent_feature=np.concatenate(latent_feature, 0)\n",
    "model = TSNE(perplexity=40, min_grad_norm=1E-12, n_iter=3000)\n",
    "TSNEF  = model.fit_transform(latent_feature)"
   ]
  },
  {
   "cell_type": "code",
   "execution_count": null,
   "metadata": {
    "hidden": true
   },
   "outputs": [],
   "source": [
    "fig=figure(fig_width=4, fig_height=2.25)\n",
    "clrs =sns.color_palette(\"Paired\", 12)\n",
    "for i in np.unique(target):\n",
    "    ix=np.where(target==i)[0]\n",
    "    plt.scatter(TSNEF[ix,0], TSNEF[ix,1],label=plaid_names[i], color=clrs[i])\n",
    "leg=plt.legend(bbox_to_anchor=(1.01, 1), loc=2, fontsize=8, frameon=False)\n",
    "plt.xlabel(\"tsne-2d-one\")\n",
    "plt.ylabel(\"tsne-2d-two\")\n",
    "plt.tight_layout()\n",
    "savefig(fig_path+\"tsne_latent_feature_VI_plaid\",format=\".pdf\")"
   ]
  },
  {
   "cell_type": "markdown",
   "metadata": {
    "hidden": true
   },
   "source": [
    "### RP"
   ]
  },
  {
   "cell_type": "code",
   "execution_count": null,
   "metadata": {
    "hidden": true
   },
   "outputs": [],
   "source": [
    "image_type=\"adaptive\"\n",
    "width=50\n",
    "model_name=\"CNN\"\n",
    "run_id=1\n",
    "saved_model_path   = '../checkpoint/plaid_adaptive_50_CNN_1_parameters_emb_size_10_10_checkpoint.pt'\n",
    "checkpoint = Checkpoint(saved_model_path, patience=100, checkpoint=True, score_mode=\"max\",min_delta=1e-4)\n",
    "model_rp = Conv2DAdaptiveRecurrence(in_size=1, out_size=12,\n",
    "                                            dropout=0.2)\n",
    "model_rp=checkpoint.load_saved_model(model_rp)\n",
    "model_rp=model_rp\n",
    "rp_data = Dataset(torch.tensor(RP), y)\n",
    "loader=torch.utils.data.DataLoader(rp_data, 32, shuffle=False, num_workers=4, drop_last=False)\n",
    "target = []\n",
    "latent_feature = []\n",
    "with torch.no_grad():\n",
    "    for i, data in enumerate(loader):\n",
    "        inp, targ=data\n",
    "        out = model_rp(inp)\n",
    "        latent_feature.append(out.data.numpy())\n",
    "        target.append(targ.numpy())"
   ]
  },
  {
   "cell_type": "code",
   "execution_count": null,
   "metadata": {
    "hidden": true
   },
   "outputs": [],
   "source": [
    "target = np.hstack(target)\n",
    "latent_feature=np.concatenate(latent_feature, 0)\n",
    "model = TSNE(perplexity=40, min_grad_norm=1E-12, n_iter=3000)\n",
    "TSNEFP  = model.fit_transform(latent_feature)"
   ]
  },
  {
   "cell_type": "code",
   "execution_count": null,
   "metadata": {
    "hidden": true
   },
   "outputs": [],
   "source": [
    "fig=figure(fig_width=4, fig_height=2.25)\n",
    "clrs =sns.color_palette(\"Paired\", 12)\n",
    "for i in np.unique(target):\n",
    "    ix=np.where(target==i)[0]\n",
    "    plt.scatter(TSNEFP[ix,0], TSNEFP [ix,1],label=plaid_names[i], color=clrs[i])\n",
    "leg=plt.legend(bbox_to_anchor=(1.01, 1), loc=2, fontsize=8, frameon=False)\n",
    "plt.xlabel(\"tsne-2d-one\")\n",
    "plt.ylabel(\"tsne-2d-two\")\n",
    "plt.tight_layout()\n",
    "savefig(fig_path+\"tsne_latent_feature_RP_plaid\",format=\".pdf\")"
   ]
  },
  {
   "cell_type": "markdown",
   "metadata": {
    "hidden": true
   },
   "source": [
    "### Industrial"
   ]
  },
  {
   "cell_type": "code",
   "execution_count": null,
   "metadata": {
    "hidden": true
   },
   "outputs": [],
   "source": [
    "current, voltage, labels = load_data(\"lilac\", submetered=False)\n",
    "c, l=np.unique(labels, return_counts=True)\n",
    "volgorde = np.argsort(l)\n",
    "fig = figure(fig_width=5, fig_height=3.75)\n",
    "plt.barh(np.array(lilac_names)[volgorde], l[volgorde], alpha=0.5)\n",
    "plt.xlabel(\"Number of examples\")\n",
    "plt.tight_layout()\n",
    "savefig(fig_path+\"label_distribution_lilac\",format=\".pdf\")"
   ]
  },
  {
   "cell_type": "code",
   "execution_count": null,
   "metadata": {
    "hidden": true
   },
   "outputs": [],
   "source": [
    "np.unique(labels)\n",
    "res_app=['Coffee-machine', 'Drilling-machine', 'Kettle', 'Raclette', 'Refrigerator', 'Vacuum-cleaner', 'Hair-dryer', 'Bulb']\n",
    "indust_app = []\n",
    "for l in np.unique(labels):\n",
    "    if l not in res_app:\n",
    "        indust_app.append(l)"
   ]
  },
  {
   "cell_type": "code",
   "execution_count": null,
   "metadata": {
    "hidden": true
   },
   "outputs": [],
   "source": [
    "## three phase\n",
    "motor = np.where(labels=='Squirrel-3-async-2x')[0]\n",
    "x = current[motor[20]]"
   ]
  },
  {
   "cell_type": "code",
   "execution_count": null,
   "metadata": {
    "hidden": true
   },
   "outputs": [],
   "source": [
    "fig =figure(fig_width=3.5, fig_height=2.5)\n",
    "plt.plot(x[0], label=\"phase-1\")\n",
    "#plt.plot(x[1], label=\"phase-2\")\n",
    "#plt.plot(x[2], label=\"phase-3\")\n",
    "plt.xlabel(\"sample $N$\")\n",
    "plt.ylabel(\"current $(A)$\")\n",
    "ax = plt.gca()\n",
    "ax.minorticks_on()\n",
    "ax.grid(which='both', linestyle='--', alpha=0.1)\n",
    "ax.grid(which='minor', alpha=0.2)\n",
    "plt.xlim(0, 1000)\n",
    "plt.tight_layout()\n",
    "#plt.legend()\n",
    "savefig(fig_path+\"input_signal_industrial_three_phase_1\",format=\".pdf\")"
   ]
  },
  {
   "cell_type": "code",
   "execution_count": null,
   "metadata": {
    "hidden": true
   },
   "outputs": [],
   "source": [
    "fig =figure(fig_width=3.5, fig_height=2.5)\n",
    "plt.plot(x[1], label=\"phase-2\")\n",
    "plt.xlabel(\"sample $N$\")\n",
    "plt.ylabel(\"current $(A)$\")\n",
    "ax = plt.gca()\n",
    "ax.minorticks_on()\n",
    "ax.grid(which='both', linestyle='--', alpha=0.1)\n",
    "ax.grid(which='minor', alpha=0.2)\n",
    "plt.xlim(0, 1000)\n",
    "plt.tight_layout()\n",
    "savefig(fig_path+\"input_signal_industrial_three_phase_2\",format=\".pdf\")"
   ]
  },
  {
   "cell_type": "code",
   "execution_count": null,
   "metadata": {
    "hidden": true
   },
   "outputs": [],
   "source": [
    "fig =figure(fig_width=3.5, fig_height=2.5)\n",
    "plt.plot(x[2], label=\"phase-3\")\n",
    "plt.xlabel(\"sample $N$\")\n",
    "plt.ylabel(\"current $(A)$\")\n",
    "ax = plt.gca()\n",
    "ax.minorticks_on()\n",
    "ax.grid(which='both', linestyle='--', alpha=0.1)\n",
    "ax.grid(which='minor', alpha=0.2)\n",
    "plt.xlim(0, 1000)\n",
    "plt.tight_layout()\n",
    "savefig(fig_path+\"input_signal_industrial_three_phase_3\",format=\".pdf\")"
   ]
  },
  {
   "cell_type": "code",
   "execution_count": null,
   "metadata": {
    "hidden": true
   },
   "outputs": [],
   "source": [
    "fig =figure(fig_width=4, fig_height=3)\n",
    "dril = np.where(labels=='Drilling-machine')[0]\n",
    "y = current[dril[10]]\n",
    "v = voltage[dril[10]]\n",
    "plt.plot(y[0], label=\"phase-1\")\n",
    "plt.plot(y[1], label=\"phase-2\")\n",
    "plt.plot(y[2], label=\"phase-3\")\n",
    "plt.legend()\n",
    "plt.xlabel(\"sample $N$\")\n",
    "plt.ylabel(\"current $A$\")\n",
    "#plt.ylim(-1,1)\n",
    "plt.tight_layout()\n",
    "savefig(fig_path+\"input_signal_industrial_single_phase_DL\",format=\".pdf\")"
   ]
  },
  {
   "cell_type": "code",
   "execution_count": null,
   "metadata": {
    "hidden": true
   },
   "outputs": [],
   "source": [
    "## PQ plane"
   ]
  },
  {
   "cell_type": "code",
   "execution_count": null,
   "metadata": {
    "hidden": true
   },
   "outputs": [],
   "source": [
    "PQ = []\n",
    "for k in range(3):\n",
    "    PQ+=[calculatePower(current[:,k,:], voltage[:,k,:], NN=500)]\n",
    "PQ = np.array(PQ)"
   ]
  },
  {
   "cell_type": "code",
   "execution_count": null,
   "metadata": {
    "hidden": true
   },
   "outputs": [],
   "source": [
    "PQT=PQ.sum(0)\n",
    "fig=figure(fig_width=8)\n",
    "plot_PQPlane(labels, PQT, None, sample=False)\n",
    "savefig(fig_path+\"lilac_PQ_plane\",format=\".pdf\")"
   ]
  },
  {
   "cell_type": "code",
   "execution_count": null,
   "metadata": {
    "hidden": true
   },
   "outputs": [],
   "source": [
    "dist = create_N_distance_similarity_matrix(x, 50, 1)\n",
    "model = ReccurrentBlock()\n",
    "out = model(dist)\n",
    "img = out.detach()[0]\n",
    "fig = figure(fig_width=2, fig_height=2)\n",
    "plt.imshow(img, cmap='YlGnBu', origin='lower')\n",
    "plt.xlabel(\"$W$\")\n",
    "plt.ylabel(\"$H$\")\n",
    "plt.tight_layout()\n",
    "savefig(fig_path+\"rcp_lilac_one_sq_1\",format=\".pdf\")"
   ]
  },
  {
   "cell_type": "code",
   "execution_count": null,
   "metadata": {
    "hidden": true
   },
   "outputs": [],
   "source": [
    "\n",
    "out = model(dist)\n",
    "img = out.detach()[1]\n",
    "fig = figure(fig_width=2, fig_height=2)\n",
    "plt.imshow(img, cmap='YlGnBu', origin='lower')\n",
    "plt.xlabel(\"$W$\")\n",
    "plt.ylabel(\"$H$\")\n",
    "plt.tight_layout()\n",
    "savefig(fig_path+\"rcp_lilac_one_sq_2\",format=\".pdf\")"
   ]
  },
  {
   "cell_type": "code",
   "execution_count": null,
   "metadata": {
    "hidden": true
   },
   "outputs": [],
   "source": [
    "\n",
    "img = out.detach()[2]\n",
    "fig = figure(fig_width=2, fig_height=2)\n",
    "plt.imshow(img, cmap='YlGnBu', origin='lower')\n",
    "plt.xlabel(\"$W$\")\n",
    "plt.ylabel(\"$H$\")\n",
    "plt.tight_layout()\n",
    "savefig(fig_path+\"rcp_lilac_one_sq_3\",format=\".pdf\")"
   ]
  },
  {
   "cell_type": "code",
   "execution_count": null,
   "metadata": {
    "hidden": true
   },
   "outputs": [],
   "source": [
    "dist = create_N_distance_similarity_matrix(y, 50, 1)\n",
    "model = ReccurrentBlock()\n",
    "out = model(dist)\n",
    "img = out.detach()[0]\n",
    "fig = figure(fig_width=3, fig_height=3)\n",
    "plt.imshow(img, cmap='YlGnBu', origin='lower')\n",
    "plt.xlabel(\"$W$\")\n",
    "plt.ylabel(\"$H$\")\n",
    "plt.tight_layout()\n",
    "savefig(fig_path+\"rcp_lilac_phase_drill_1\",format=\".pdf\")"
   ]
  },
  {
   "cell_type": "code",
   "execution_count": null,
   "metadata": {
    "hidden": true
   },
   "outputs": [],
   "source": [
    "img = out.detach()[1]\n",
    "fig = figure(fig_width=3, fig_height=3)\n",
    "plt.imshow(img, cmap='YlGnBu', origin='lower')\n",
    "plt.xlabel(\"$W$\")\n",
    "plt.ylabel(\"$H$\")\n",
    "plt.tight_layout()\n",
    "savefig(fig_path+\"rcp_lilac_phase_2_drill\",format=\".pdf\")"
   ]
  },
  {
   "cell_type": "code",
   "execution_count": null,
   "metadata": {
    "hidden": true
   },
   "outputs": [],
   "source": [
    "img = out.detach()[2]\n",
    "fig = figure(fig_width=3, fig_height=3)\n",
    "plt.imshow(img, cmap='YlGnBu', origin='lower')\n",
    "plt.xlabel(\"$W$\")\n",
    "plt.ylabel(\"$H$\")\n",
    "plt.tight_layout()\n",
    "savefig(fig_path+\"rcp_lilac_phase_3_drill\",format=\".pdf\")"
   ]
  },
  {
   "cell_type": "code",
   "execution_count": null,
   "metadata": {
    "hidden": true
   },
   "outputs": [],
   "source": [
    "RP = generate_input_feature(current, voltage, \"adaptive\", width=50, multi_dimension=True).numpy()\n",
    "#"
   ]
  },
  {
   "cell_type": "code",
   "execution_count": null,
   "metadata": {
    "hidden": true
   },
   "outputs": [],
   "source": [
    "len(RP)"
   ]
  },
  {
   "cell_type": "code",
   "execution_count": null,
   "metadata": {
    "hidden": true
   },
   "outputs": [],
   "source": [
    "VI = generate_input_feature(current, voltage, \"vi\", width=50, multi_dimension=True).numpy()"
   ]
  },
  {
   "cell_type": "code",
   "execution_count": null,
   "metadata": {
    "hidden": true
   },
   "outputs": [],
   "source": [
    "fig=figure(fig_width=6, fig_height=6)\n",
    "tsne_visualizer(labels, VI, legends=None)\n",
    "savefig(fig_path+\"tsne_feature_VI_lilac\",format=\".pdf\")"
   ]
  },
  {
   "cell_type": "code",
   "execution_count": null,
   "metadata": {
    "hidden": true
   },
   "outputs": [],
   "source": [
    "fig=figure(fig_width=6, fig_height=6)\n",
    "tsne_visualizer(labels, RP, legends=None)\n",
    "savefig(fig_path+\"tsne_feature_RP_lilac\",format=\".pdf\")"
   ]
  },
  {
   "cell_type": "markdown",
   "metadata": {},
   "source": [
    "## Visualize learned representation VI"
   ]
  },
  {
   "cell_type": "code",
   "execution_count": null,
   "metadata": {},
   "outputs": [],
   "source": [
    "dataset=\"lilac\"\n",
    "image_type=\"vi\"\n",
    "width=50\n",
    "model_name=\"CNN\"\n",
    "run_id=1\n",
    "saved_model_path   = '../checkpoint/lilac_vi_50_CNN_1__exp_two_checkpoint.pt'\n",
    "checkpoint = Checkpoint(saved_model_path, patience=100, checkpoint=True, score_mode=\"max\",min_delta=1e-4)\n",
    "model = Conv2DVI(3, out_size=16, dropout=0.2)\n",
    "model_vi=checkpoint.load_saved_model(model)\n",
    "model_vi = model_vi.eval()\n"
   ]
  },
  {
   "cell_type": "code",
   "execution_count": null,
   "metadata": {},
   "outputs": [],
   "source": [
    "le = LabelEncoder()\n",
    "le.fit(labels)\n",
    "y = le.transform(labels)\n",
    "vi_data = Dataset(torch.tensor(VI), y)\n",
    "loader=torch.utils.data.DataLoader(vi_data, 32, shuffle=False, num_workers=4, drop_last=False)\n",
    "target = []\n",
    "latent_feature = []\n",
    "with torch.no_grad():\n",
    "    for i, data in enumerate(loader):\n",
    "        inp, targ=data\n",
    "        out = model_vi(inp)\n",
    "        latent_feature.append(out.data.numpy())\n",
    "        target.append(targ.numpy())"
   ]
  },
  {
   "cell_type": "code",
   "execution_count": null,
   "metadata": {},
   "outputs": [],
   "source": [
    "target = np.hstack(target)\n",
    "latent_feature=np.concatenate(latent_feature, 0)\n",
    "model = TSNE(perplexity=40, min_grad_norm=1E-12, n_iter=3000)\n",
    "TSNEF  = model.fit_transform(latent_feature)"
   ]
  },
  {
   "cell_type": "code",
   "execution_count": null,
   "metadata": {},
   "outputs": [],
   "source": [
    "fig=figure(fig_width=4, fig_height=3.5)\n",
    "clrs =sns.color_palette(\"Paired\", 16)\n",
    "for i in np.unique(target):\n",
    "    ix=np.where(target==i)[0]\n",
    "    plt.scatter(TSNEF[ix,0], TSNEF[ix,1],label=lilac_names[i], color=clrs[i])\n",
    "plt.legend(bbox_to_anchor=(1.01, 1), loc=2, borderaxespad=0.)\n",
    "plt.xlabel(\"tsne-2d-one\")\n",
    "plt.ylabel(\"tsne-2d-two\")\n",
    "savefig(fig_path+\"tsne_latent_feature_VI_lilac\",format=\".pdf\")"
   ]
  },
  {
   "cell_type": "code",
   "execution_count": null,
   "metadata": {},
   "outputs": [],
   "source": [
    "### RP"
   ]
  },
  {
   "cell_type": "code",
   "execution_count": null,
   "metadata": {},
   "outputs": [],
   "source": [
    "image_type=\"adaptive\"\n",
    "width=50\n",
    "model_name=\"CNN\"\n",
    "run_id=1\n",
    "file_name=f\"{dataset}_{image_type}_{str(width)}_{model_name}_{str(run_id)}__exp_two\"\n",
    "saved_model_path   = '../checkpoint/lilac_adaptive_50_CNN_1_parameters_emb_size_10_10_checkpoint.pt'\n",
    "checkpoint = Checkpoint(saved_model_path, patience=100, checkpoint=True, score_mode=\"max\",min_delta=1e-4)\n",
    "model_rp = Conv2DAdaptiveRecurrence(in_size=3, out_size=16,\n",
    "                                            dropout=0.2)\n",
    "model_rp=checkpoint.load_saved_model(model_rp)\n",
    "model_rp=model_rp\n",
    "rp_data = Dataset(torch.tensor(RP), y)\n",
    "loader=torch.utils.data.DataLoader(rp_data, 32, shuffle=False, num_workers=4, drop_last=False)\n",
    "target = []\n",
    "latent_feature = []\n",
    "with torch.no_grad():\n",
    "    for i, data in enumerate(loader):\n",
    "        inp, targ=data\n",
    "        out = model_rp(inp)\n",
    "        latent_feature.append(out.data.numpy())\n",
    "        target.append(targ.numpy())"
   ]
  },
  {
   "cell_type": "code",
   "execution_count": null,
   "metadata": {},
   "outputs": [],
   "source": [
    "target = np.hstack(target)\n",
    "latent_feature=np.concatenate(latent_feature, 0)\n",
    "model = TSNE(perplexity=40, min_grad_norm=1E-12, n_iter=3000)\n",
    "TSNEF  = model.fit_transform(latent_feature)"
   ]
  },
  {
   "cell_type": "code",
   "execution_count": null,
   "metadata": {},
   "outputs": [],
   "source": [
    "fig=figure(fig_width=4, fig_height=3.5)\n",
    "clrs =sns.color_palette(\"Paired\", 16)\n",
    "for i in np.unique(target):\n",
    "    ix=np.where(target==i)[0]\n",
    "    plt.scatter(TSNEF[ix,0], TSNEF[ix,1],label=lilac_names[i], color=clrs[i])\n",
    "plt.legend(bbox_to_anchor=(1.01, 1), loc=2, borderaxespad=0.)\n",
    "plt.xlabel(\"tsne-2d-one\")\n",
    "plt.ylabel(\"tsne-2d-two\")\n",
    "savefig(fig_path+\"tsne_latent_feature_RP_lilac\",format=\".pdf\")"
   ]
  },
  {
   "cell_type": "markdown",
   "metadata": {},
   "source": [
    "### PLAID"
   ]
  }
 ],
 "metadata": {
  "kernelspec": {
   "display_name": "Python 3",
   "language": "python",
   "name": "python3"
  },
  "latex_envs": {
   "LaTeX_envs_menu_present": true,
   "autoclose": false,
   "autocomplete": true,
   "bibliofile": "biblio.bib",
   "cite_by": "apalike",
   "current_citInitial": 1,
   "eqLabelWithNumbers": true,
   "eqNumInitial": 1,
   "hotkeys": {
    "equation": "Ctrl-E",
    "itemize": "Ctrl-I"
   },
   "labels_anchors": false,
   "latex_user_defs": false,
   "report_style_numbering": false,
   "user_envs_cfg": false
  }
 },
 "nbformat": 4,
 "nbformat_minor": 4
}

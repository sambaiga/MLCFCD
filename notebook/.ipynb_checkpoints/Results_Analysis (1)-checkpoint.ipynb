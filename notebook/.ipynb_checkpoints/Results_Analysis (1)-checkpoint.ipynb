{
 "cells": [
  {
   "cell_type": "code",
   "execution_count": 1,
   "metadata": {},
   "outputs": [],
   "source": [
    "import sys\n",
    "sys.path.append(\"../src\")\n",
    "import numpy as np\n",
    "import matplotlib.pyplot as plt\n",
    "import matplotlib.ticker as ticker\n",
    "import pandas as pd\n",
    "import seaborn as sns\n",
    "sns.color_palette('husl', n_colors=20)\n",
    "from utils.visual_functions import *\n",
    "from net.metrics import *\n",
    "%matplotlib inline\n",
    "fig_path=\"../figure/\"\n",
    "lilac_names=['1-phase-motor', '3-phase-motor', 'Bulb',\n",
    "       'Coffee-machine', 'Drilling', 'Dumper',\n",
    "       'Fluorescent-lamp', 'Freq-conv-squirrel-3-2x', 'Hair-dryer',\n",
    "       'Kettle', 'Raclette', 'Refrigerator', 'Resistor',\n",
    "       'Squirrel-3-async', 'Squirrel-3-async-2x', 'Vacuum']\n",
    "plaid_names = ['CFL','ILB','Waterkettle','Fan','AC','HairIron','LaptopCharger','SolderingIron','Fridge','Vacuum','CoffeeMaker','FridgeDefroster']"
   ]
  },
  {
   "cell_type": "code",
   "execution_count": 3,
   "metadata": {},
   "outputs": [],
   "source": [
    "def plot_multiple_fscore(names, scores):\n",
    "    width = 0.4\n",
    "    keys  = list(scores.keys())\n",
    "    av = max(scores[keys[0]].mean(), scores[keys[1]].mean())*100\n",
    "    \n",
    "    plt.barh(np.arange(len(scores[keys[0]])), scores[keys[1]]*100, width, align='center', alpha=0.7, label=keys[1])\n",
    "    plt.barh(np.arange(len(scores[keys[0]]))+width, scores[keys[0]]*100, width, align='center', alpha=0.6, label=keys[0])\n",
    "    ax = plt.gca()\n",
    "    ax.set(yticks=np.arange(len(names)), yticklabels=names)\n",
    "    ax.set_xlabel(\"$F_1$ macro (\\%)'\")\n",
    "\n",
    "    ax.axvline(x=av,color='orange', linewidth=1.0, linestyle=\"--\")\n",
    "    a = '{0:0.2f}'.format(av)\n",
    "    b = '$ $'+a\n",
    "    if av > 75:\n",
    "        OFFSET = -0.7\n",
    "        plt.text(av-5,OFFSET,b,color='darkorange', fontsize=18)\n",
    "    else:\n",
    "        OFFSET = 0\n",
    "        plt.text(av,OFFSET,b,color='darkorange')\n",
    "    ax.set_ylabel(\"\",fontsize=20)\n",
    "    ax.tick_params(axis='both', which='major', labelsize=20)\n",
    "    leg=legend(ax,ncol=len(keys), pos=(0.5, -0.15))\n",
    "   \n"
   ]
  },
  {
   "cell_type": "code",
   "execution_count": 4,
   "metadata": {},
   "outputs": [],
   "source": [
    "def get_score_per_model(dataset=\"plaid\", model_name=\"DNN\"):\n",
    "    width=50\n",
    "    baseline = False if model_name==\"DNN\" else True\n",
    "    if model_name==\"MLkNN\":\n",
    "        model_name=\"MLKNNbaseline\" \n",
    "    elif model_name==\"BRkNN\":\n",
    "        model_name=\"BRKNNbaseline\" \n",
    "    else:\n",
    "        model_name=\"CNN\"\n",
    "        \n",
    "    results_all = {}\n",
    "    per_appliances = {}\n",
    "    for image_type in [\"current\"]:\n",
    "        file_name = f\"CNNModel_{dataset}_{image_type}_softmax\" if not baseline else f\"{model_name}_{dataset}_vi\"\n",
    "        pred = np.load(\"../results/\"+file_name+\"_pred.npy\")\n",
    "        true = np.load(\"../results/\"+file_name+\"_true.npy\")\n",
    "\n",
    "        results = np.load(\"../results/\"+file_name+\"_results.npy\", allow_pickle=True).item()\n",
    "        #print(results)\n",
    "        #results = pd.concat([results[1], results[2],  results[3],  results[4]], axis=1, join='inner')\n",
    "        #results['mean']=results.mean(axis=1)\n",
    "        #results['std']=results.std(axis=1)\n",
    "        per_appliances[image_type]=example_f1_score(true,pred, per_sample=True, axis=0)\n",
    "        results_all[image_type]=results\n",
    "    return results_all, per_appliances"
   ]
  },
  {
   "cell_type": "markdown",
   "metadata": {},
   "source": [
    "### PLAID Results"
   ]
  },
  {
   "cell_type": "code",
   "execution_count": null,
   "metadata": {},
   "outputs": [],
   "source": [
    "results_model_all = {}\n",
    "results_model_per_app = {}\n",
    "for model_name in [\"DNN\", \"MLkNN\"]:\n",
    "    res_all, res_app = get_score_per_model(dataset=\"plaid\", model_name=model_name)\n",
    "    results_model_all[model_name] = res_all\n",
    "    results_model_per_app[model_name] = res_app['vi']\n",
    "fig=figure(fig_width=7, fig_height=6)\n",
    "plot_multiple_fscore(plaid_names, results_model_per_app)\n",
    "savefig(fig_path+f\"plaid_per_appliance\", format=\".pdf\")  "
   ]
  },
  {
   "cell_type": "code",
   "execution_count": 7,
   "metadata": {},
   "outputs": [
    {
     "data": {
      "text/plain": [
       "array([0.9292929 , 0.9430894 , 0.84962404, 0.80597013, 0.8595041 ,\n",
       "       0.9866667 , 0.8769231 , 0.9589041 , 0.75510204, 0.96183205,\n",
       "       0.76811594, 0.8372093 , 1.        , 0.88590604, 0.98630136,\n",
       "       0.94505495], dtype=float32)"
      ]
     },
     "execution_count": 7,
     "metadata": {},
     "output_type": "execute_result"
    }
   ],
   "source": [
    "results_model_all = {}\n",
    "results_model_per_app = {}\n",
    "for model_name in [\"DNN\", \"MLkNN\"]:\n",
    "    res_all, res_app = get_score_per_model(dataset=\"lilac\", model_name=model_name)\n",
    "    results_model_all[model_name] = res_all\n",
    "    results_model_per_app[model_name] = res_app['vi']\n",
    "fig=figure(fig_width=7, fig_height=7)\n",
    "plot_multiple_fscore(lilac_names, results_model_per_app)\n",
    "savefig(fig_path+f\"lilac_per_appliance\", format=\".pdf\")  \n",
    "results_model_per_app['DNN']"
   ]
  },
  {
   "cell_type": "code",
   "execution_count": 9,
   "metadata": {},
   "outputs": [],
   "source": [
    "results_model_all = {}\n",
    "results_model_per_app_isc = {}\n",
    "for model_name in [\"DNN\", \"MLkNN\"]:\n",
    "    res_all, res_app = get_score_per_model(dataset=\"lilac_isc\", model_name=model_name)\n",
    "    results_model_all[model_name] = res_all\n",
    "    results_model_per_app_isc[model_name] = res_app['vi']\n",
    "fig=figure(fig_width=7, fig_height=7)\n",
    "plot_multiple_fscore(lilac_names, results_model_per_app_isc)\n",
    "results_model_per_app_isc['DNN']\n",
    "savefig(fig_path+f\"lilac_isc_per_appliance\", format=\".pdf\")  "
   ]
  },
  {
   "cell_type": "markdown",
   "metadata": {},
   "source": [
    "## Error Analysis"
   ]
  },
  {
   "cell_type": "code",
   "execution_count": 12,
   "metadata": {},
   "outputs": [],
   "source": [
    "from sklearn.preprocessing import MultiLabelBinarizer, StandardScaler\n",
    "def to_categorical(classes):\n",
    "    \"\"\" 1-hot encodes a tensor \"\"\"\n",
    "    num_classes=len(classes)\n",
    "    return np.eye(num_classes, dtype='uint8')[[i for i in range(num_classes)]]\n",
    "\n",
    "\n",
    "def multilabel_hot_decoding(encoding, classes):\n",
    "    index, = np.where(encoding == 1)\n",
    "    appliance=np.array(classes)[index]\n",
    "    return list(appliance)\n",
    "\n",
    "def get_decode_labels(labels, classes):\n",
    "    decoded_label=[]\n",
    "    for label in labels:\n",
    "        decoded_label.append(multilabel_hot_decoding(label,classes))\n",
    "    return decoded_label\n"
   ]
  },
  {
   "cell_type": "code",
   "execution_count": 79,
   "metadata": {},
   "outputs": [],
   "source": [
    "def list_intersection(a, b): \n",
    "    a_set = set(a) \n",
    "    b_set = set(b) \n",
    "    return a_set.intersection(b_set) "
   ]
  },
  {
   "cell_type": "code",
   "execution_count": 13,
   "metadata": {},
   "outputs": [],
   "source": [
    "dataset = \"plaid\"\n",
    "image_type=\"vi\"\n",
    "file_name = f\"CNNModel_{dataset}_{image_type}_softmax\" \n",
    "pred = np.load(\"../results/\"+file_name+\"_pred.npy\")\n",
    "true = np.load(\"../results/\"+file_name+\"_true.npy\")"
   ]
  },
  {
   "cell_type": "code",
   "execution_count": 116,
   "metadata": {},
   "outputs": [
    {
     "name": "stdout",
     "output_type": "stream",
     "text": [
      "Total percentage error: 176\n",
      "One-to-one error:2\n",
      "Many-to-many error:174\n"
     ]
    }
   ],
   "source": [
    "predictions = get_decode_labels(pred, plaid_names)  \n",
    "corrects     = get_decode_labels(true, plaid_names)\n",
    "incorrect_ids = []\n",
    "correct_ids = []\n",
    "for idx in range(len(predictions)):\n",
    "    if set(predictions[idx])==set(corrects[idx]):\n",
    "        correct_ids.append(idx)\n",
    "    else:\n",
    "         incorrect_ids.append(idx)                                       \n",
    "one_to_many_error = []\n",
    "one_to_one_error =[]\n",
    "many_to_one_error = []\n",
    "many_to_many_error = []\n",
    "print(f'Total percentage error: {round(len(np.unique(incorrect_ids)), 2)}')\n",
    "for ids in incorrect_ids:\n",
    "    #print(f\" pred:{str(predictions[ids])} :true:{str(corrects[ids])}\")\n",
    "    if len(predictions[ids])==1 and len(corrects[ids])==1:\n",
    "        one_to_one_error.append(ids)\n",
    "    else:\n",
    "        many_to_many_error.append(ids)\n",
    "    #if len(predictions[ids])>1 and len(corrects[ids])==1:\n",
    "        #one_to_many_error.append(ids)\n",
    "    #if len(predictions[ids])==1 and len(corrects[ids])>1:\n",
    "       # many_to_one_error.append(ids)\n",
    "    #if len(predictions[ids])>1 and len(corrects[ids])>1:\n",
    "        #many_to_many_error.append(ids)\n",
    "        \n",
    "print(f'One-to-one error:{round(len(one_to_one_error), 2)}')\n",
    "print(f'Many-to-many error:{round(len(many_to_many_error), 2)}')"
   ]
  },
  {
   "cell_type": "code",
   "execution_count": 113,
   "metadata": {},
   "outputs": [
    {
     "name": "stdout",
     "output_type": "stream",
     "text": [
      "one-activation:533\n",
      "two-activation:327\n",
      "three-activation:59\n"
     ]
    }
   ],
   "source": [
    "three_activation = []\n",
    "two_activation   = []\n",
    "one_activation   = []\n",
    "for idx in range(len(true)):\n",
    "    if len(corrects[idx])==3:\n",
    "        three_activation.append(idx)\n",
    "    if len(corrects[idx])==2:\n",
    "        two_activation.append(idx)\n",
    "    if len(corrects[idx])==1:\n",
    "        one_activation.append(idx)\n",
    "print(f'one-activation:{round(len(one_activation), 2)}')\n",
    "print(f'two-activation:{round(len(two_activation), 2)}')\n",
    "print(f'three-activation:{round(len(three_activation), 2)}')"
   ]
  },
  {
   "cell_type": "markdown",
   "metadata": {},
   "source": [
    "## Errors"
   ]
  },
  {
   "cell_type": "code",
   "execution_count": 119,
   "metadata": {},
   "outputs": [
    {
     "name": "stdout",
     "output_type": "stream",
     "text": [
      "one-error:46\n",
      "two-error:122\n",
      "complete-error:6\n"
     ]
    }
   ],
   "source": [
    "complete_error = []\n",
    "one_error = []\n",
    "two_error = []\n",
    "for idx in many_to_many_error:\n",
    "    int_list=list_intersection(predictions[idx], corrects[idx])\n",
    "    if len(int_list)==0:\n",
    "        complete_error.append(idx)\n",
    "    if len(int_list)==2:\n",
    "        one_error.append(idx)\n",
    "    if len(int_list)==1:\n",
    "        two_error.append(idx)\n",
    "print(f'one-error:{round(len(one_error), 2)}')\n",
    "print(f'two-error:{round(len(two_error), 2)}')\n",
    "print(f'complete-error:{round(len(complete_error), 2)}')"
   ]
  },
  {
   "cell_type": "code",
   "execution_count": 104,
   "metadata": {},
   "outputs": [
    {
     "name": "stdout",
     "output_type": "stream",
     "text": [
      " pred:['SolderingIron', 'Fridge', 'Vacuum'] :true:['CFL']\n",
      " pred:['SolderingIron', 'Fridge', 'Vacuum'] :true:['CFL']\n",
      " pred:[] :true:['Fan', 'HairIron', 'LaptopCharger']\n",
      " pred:['SolderingIron'] :true:['CFL', 'ILB']\n",
      " pred:['ILB', 'Fridge'] :true:['Vacuum']\n",
      " pred:['SolderingIron'] :true:['CFL', 'Fridge']\n"
     ]
    }
   ],
   "source": [
    "for idx in complete_error:\n",
    "    print(f\" pred:{str(predictions[idx])} :true:{str(corrects[idx])}\")"
   ]
  },
  {
   "cell_type": "code",
   "execution_count": 105,
   "metadata": {},
   "outputs": [
    {
     "name": "stdout",
     "output_type": "stream",
     "text": [
      " pred:['CFL', 'Waterkettle', 'Vacuum'] :true:['CFL', 'Waterkettle']\n",
      " pred:['CFL', 'Waterkettle', 'Vacuum'] :true:['CFL', 'Waterkettle']\n",
      " pred:['LaptopCharger', 'FridgeDefroster'] :true:['AC', 'LaptopCharger', 'FridgeDefroster']\n",
      " pred:['SolderingIron', 'CoffeeMaker'] :true:['SolderingIron', 'Fridge', 'CoffeeMaker']\n",
      " pred:['AC', 'LaptopCharger'] :true:['AC', 'LaptopCharger', 'SolderingIron']\n",
      " pred:['Fan', 'SolderingIron'] :true:['ILB', 'Fan', 'SolderingIron']\n",
      " pred:['Waterkettle', 'CoffeeMaker'] :true:['Waterkettle', 'Fridge', 'CoffeeMaker']\n",
      " pred:['AC', 'SolderingIron'] :true:['AC', 'SolderingIron', 'Vacuum']\n",
      " pred:['Waterkettle', 'AC', 'LaptopCharger'] :true:['Waterkettle', 'Fan', 'LaptopCharger']\n",
      " pred:['AC', 'SolderingIron'] :true:['AC', 'SolderingIron', 'Fridge']\n",
      " pred:['LaptopCharger', 'CoffeeMaker'] :true:['LaptopCharger', 'SolderingIron', 'CoffeeMaker']\n",
      " pred:['CFL', 'SolderingIron'] :true:['CFL', 'SolderingIron', 'Vacuum']\n",
      " pred:['CoffeeMaker', 'FridgeDefroster'] :true:['Fridge', 'CoffeeMaker', 'FridgeDefroster']\n",
      " pred:['AC', 'SolderingIron'] :true:['AC', 'SolderingIron', 'Vacuum']\n",
      " pred:['ILB', 'AC', 'SolderingIron'] :true:['AC', 'SolderingIron', 'Vacuum']\n",
      " pred:['ILB', 'Waterkettle', 'Fan'] :true:['Waterkettle', 'Fan']\n",
      " pred:['AC', 'SolderingIron'] :true:['AC', 'SolderingIron', 'Fridge']\n",
      " pred:['LaptopCharger', 'CoffeeMaker'] :true:['LaptopCharger', 'SolderingIron', 'CoffeeMaker']\n",
      " pred:['Waterkettle', 'Fan'] :true:['ILB', 'Waterkettle', 'Fan']\n",
      " pred:['SolderingIron', 'CoffeeMaker'] :true:['SolderingIron', 'Fridge', 'CoffeeMaker']\n",
      " pred:['CoffeeMaker', 'FridgeDefroster'] :true:['Fridge', 'CoffeeMaker', 'FridgeDefroster']\n",
      " pred:['Waterkettle', 'CoffeeMaker'] :true:['Waterkettle', 'Vacuum', 'CoffeeMaker']\n",
      " pred:['Waterkettle', 'CoffeeMaker'] :true:['Waterkettle', 'Fridge', 'CoffeeMaker']\n",
      " pred:['CFL', 'SolderingIron'] :true:['CFL', 'ILB', 'SolderingIron']\n",
      " pred:['LaptopCharger', 'CoffeeMaker'] :true:['LaptopCharger', 'SolderingIron', 'CoffeeMaker']\n",
      " pred:['Waterkettle', 'Fan'] :true:['ILB', 'Waterkettle', 'Fan']\n",
      " pred:['CFL', 'SolderingIron'] :true:['CFL', 'SolderingIron', 'Vacuum']\n",
      " pred:['Waterkettle', 'Fan', 'LaptopCharger'] :true:['Waterkettle', 'AC', 'LaptopCharger']\n",
      " pred:['CoffeeMaker', 'FridgeDefroster'] :true:['Fridge', 'CoffeeMaker', 'FridgeDefroster']\n",
      " pred:['Waterkettle', 'CoffeeMaker'] :true:['Waterkettle', 'Fridge', 'CoffeeMaker']\n",
      " pred:['AC', 'SolderingIron'] :true:['AC', 'SolderingIron', 'Vacuum']\n",
      " pred:['HairIron', 'CoffeeMaker'] :true:['HairIron', 'Fridge', 'CoffeeMaker']\n",
      " pred:['CFL', 'HairIron'] :true:['CFL', 'HairIron', 'Fridge']\n",
      " pred:['CoffeeMaker', 'FridgeDefroster'] :true:['Fridge', 'CoffeeMaker', 'FridgeDefroster']\n",
      " pred:['CFL', 'Waterkettle', 'Vacuum'] :true:['CFL', 'Waterkettle']\n",
      " pred:['CFL', 'Waterkettle', 'Vacuum'] :true:['CFL', 'Waterkettle']\n",
      " pred:['Waterkettle', 'Fan'] :true:['ILB', 'Waterkettle', 'Fan']\n",
      " pred:['CoffeeMaker', 'FridgeDefroster'] :true:['Fridge', 'CoffeeMaker', 'FridgeDefroster']\n",
      " pred:['Fan', 'SolderingIron'] :true:['ILB', 'Fan', 'SolderingIron']\n",
      " pred:['CoffeeMaker', 'FridgeDefroster'] :true:['LaptopCharger', 'CoffeeMaker', 'FridgeDefroster']\n",
      " pred:['CFL', 'Waterkettle'] :true:['CFL', 'Waterkettle', 'Fridge']\n",
      " pred:['Waterkettle', 'Fan'] :true:['Waterkettle', 'Fan', 'Fridge']\n",
      " pred:['AC', 'SolderingIron'] :true:['AC', 'SolderingIron', 'Fridge']\n",
      " pred:['Fan', 'FridgeDefroster'] :true:['ILB', 'Fan', 'FridgeDefroster']\n",
      " pred:['HairIron', 'CoffeeMaker'] :true:['HairIron', 'Vacuum', 'CoffeeMaker']\n",
      " pred:['CoffeeMaker', 'FridgeDefroster'] :true:['Fridge', 'CoffeeMaker', 'FridgeDefroster']\n"
     ]
    }
   ],
   "source": [
    "for idx in one_error:\n",
    "    print(f\" pred:{str(predictions[idx])} :true:{str(corrects[idx])}\")"
   ]
  },
  {
   "cell_type": "markdown",
   "metadata": {},
   "source": [
    "### correct predictions"
   ]
  },
  {
   "cell_type": "code",
   "execution_count": 120,
   "metadata": {},
   "outputs": [
    {
     "name": "stdout",
     "output_type": "stream",
     "text": [
      "one-correct:512\n",
      "two-correct:220\n",
      "complete-correct:11\n"
     ]
    }
   ],
   "source": [
    "complete_correct = []\n",
    "one_correct = []\n",
    "two_correct = []\n",
    "for idx in correct_ids:\n",
    "    int_list=list_intersection(predictions[idx], corrects[idx])\n",
    "    if len(int_list)==3:\n",
    "        complete_correct.append(idx)\n",
    "    if len(int_list)==2:\n",
    "        two_correct.append(idx)\n",
    "    if len(int_list)==1:\n",
    "        one_correct.append(idx)\n",
    "print(f'one-correct:{round(len(one_correct), 2)}')\n",
    "print(f'two-correct:{round(len(two_correct), 2)}')\n",
    "print(f'complete-correct:{round(len(complete_correct), 2)}')"
   ]
  },
  {
   "cell_type": "code",
   "execution_count": 108,
   "metadata": {},
   "outputs": [
    {
     "name": "stdout",
     "output_type": "stream",
     "text": [
      " pred:['LaptopCharger', 'CoffeeMaker', 'FridgeDefroster'] :true:['LaptopCharger', 'CoffeeMaker', 'FridgeDefroster']\n",
      " pred:['ILB', 'Fan', 'SolderingIron'] :true:['ILB', 'Fan', 'SolderingIron']\n",
      " pred:['Fan', 'SolderingIron', 'Fridge'] :true:['Fan', 'SolderingIron', 'Fridge']\n",
      " pred:['ILB', 'Fan', 'SolderingIron'] :true:['ILB', 'Fan', 'SolderingIron']\n",
      " pred:['Fan', 'LaptopCharger', 'FridgeDefroster'] :true:['Fan', 'LaptopCharger', 'FridgeDefroster']\n",
      " pred:['LaptopCharger', 'CoffeeMaker', 'FridgeDefroster'] :true:['LaptopCharger', 'CoffeeMaker', 'FridgeDefroster']\n",
      " pred:['Fan', 'LaptopCharger', 'FridgeDefroster'] :true:['Fan', 'LaptopCharger', 'FridgeDefroster']\n",
      " pred:['Waterkettle', 'Fan', 'LaptopCharger'] :true:['Waterkettle', 'Fan', 'LaptopCharger']\n",
      " pred:['LaptopCharger', 'CoffeeMaker', 'FridgeDefroster'] :true:['LaptopCharger', 'CoffeeMaker', 'FridgeDefroster']\n",
      " pred:['Fan', 'SolderingIron', 'Fridge'] :true:['Fan', 'SolderingIron', 'Fridge']\n",
      " pred:['ILB', 'Fan', 'SolderingIron'] :true:['ILB', 'Fan', 'SolderingIron']\n"
     ]
    }
   ],
   "source": [
    "for idx in complete_correct:\n",
    "    print(f\" pred:{str(predictions[idx])} :true:{str(corrects[idx])}\")"
   ]
  },
  {
   "cell_type": "markdown",
   "metadata": {},
   "source": [
    "## LILAC"
   ]
  },
  {
   "cell_type": "code",
   "execution_count": 121,
   "metadata": {},
   "outputs": [],
   "source": [
    "dataset = \"lilac\"\n",
    "image_type=\"vi\"\n",
    "file_name = f\"CNNModel_{dataset}_{image_type}_softmax\" \n",
    "pred = np.load(\"../results/\"+file_name+\"_pred.npy\")\n",
    "true = np.load(\"../results/\"+file_name+\"_true.npy\")"
   ]
  },
  {
   "cell_type": "code",
   "execution_count": 122,
   "metadata": {},
   "outputs": [
    {
     "name": "stdout",
     "output_type": "stream",
     "text": [
      "Total percentage error: 149\n",
      "One-to-one error:13\n",
      "Many-to-many error:136\n"
     ]
    }
   ],
   "source": [
    "predictions = get_decode_labels(pred, lilac_names)  \n",
    "corrects     = get_decode_labels(true, lilac_names)\n",
    "incorrect_ids = []\n",
    "correct_ids = []\n",
    "for idx in range(len(predictions)):\n",
    "    if set(predictions[idx])==set(corrects[idx]):\n",
    "        correct_ids.append(idx)\n",
    "    else:\n",
    "         incorrect_ids.append(idx)                                       \n",
    "one_to_many_error = []\n",
    "one_to_one_error =[]\n",
    "many_to_one_error = []\n",
    "many_to_many_error = []\n",
    "print(f'Total percentage error: {round(len(np.unique(incorrect_ids)), 2)}')\n",
    "for ids in incorrect_ids:\n",
    "    #print(f\" pred:{str(predictions[ids])} :true:{str(corrects[ids])}\")\n",
    "    if len(predictions[ids])==1 and len(corrects[ids])==1:\n",
    "        one_to_one_error.append(ids)\n",
    "    else:\n",
    "        many_to_many_error.append(ids)\n",
    "    #if len(predictions[ids])>1 and len(corrects[ids])==1:\n",
    "        #one_to_many_error.append(ids)\n",
    "    #if len(predictions[ids])==1 and len(corrects[ids])>1:\n",
    "       # many_to_one_error.append(ids)\n",
    "    #if len(predictions[ids])>1 and len(corrects[ids])>1:\n",
    "        #many_to_many_error.append(ids)\n",
    "        \n",
    "print(f'One-to-one error:{round(len(one_to_one_error), 2)}')\n",
    "print(f'Many-to-many error:{round(len(many_to_many_error), 2)}')"
   ]
  },
  {
   "cell_type": "code",
   "execution_count": 123,
   "metadata": {},
   "outputs": [
    {
     "name": "stdout",
     "output_type": "stream",
     "text": [
      "one-activation:531\n",
      "two-activation:271\n",
      "three-activation:25\n"
     ]
    }
   ],
   "source": [
    "three_activation = []\n",
    "two_activation   = []\n",
    "one_activation   = []\n",
    "for idx in range(len(true)):\n",
    "    if len(corrects[idx])==3:\n",
    "        three_activation.append(idx)\n",
    "    if len(corrects[idx])==2:\n",
    "        two_activation.append(idx)\n",
    "    if len(corrects[idx])==1:\n",
    "        one_activation.append(idx)\n",
    "print(f'one-activation:{round(len(one_activation), 2)}')\n",
    "print(f'two-activation:{round(len(two_activation), 2)}')\n",
    "print(f'three-activation:{round(len(three_activation), 2)}')"
   ]
  },
  {
   "cell_type": "code",
   "execution_count": 124,
   "metadata": {},
   "outputs": [
    {
     "name": "stdout",
     "output_type": "stream",
     "text": [
      "one-error:16\n",
      "two-error:109\n",
      "complete-error:11\n"
     ]
    }
   ],
   "source": [
    "complete_error = []\n",
    "one_error = []\n",
    "two_error = []\n",
    "for idx in many_to_many_error:\n",
    "    int_list=list_intersection(predictions[idx], corrects[idx])\n",
    "    if len(int_list)==0:\n",
    "        complete_error.append(idx)\n",
    "    if len(int_list)==2:\n",
    "        one_error.append(idx)\n",
    "    if len(int_list)==1:\n",
    "        two_error.append(idx)\n",
    "print(f'one-error:{round(len(one_error), 2)}')\n",
    "print(f'two-error:{round(len(two_error), 2)}')\n",
    "print(f'complete-error:{round(len(complete_error), 2)}')"
   ]
  },
  {
   "cell_type": "code",
   "execution_count": 125,
   "metadata": {},
   "outputs": [
    {
     "name": "stdout",
     "output_type": "stream",
     "text": [
      "one-correct:506\n",
      "two-correct:151\n",
      "complete-correct:21\n"
     ]
    }
   ],
   "source": [
    "complete_correct = []\n",
    "one_correct = []\n",
    "two_correct = []\n",
    "for idx in correct_ids:\n",
    "    int_list=list_intersection(predictions[idx], corrects[idx])\n",
    "    if len(int_list)==3:\n",
    "        complete_correct.append(idx)\n",
    "    if len(int_list)==2:\n",
    "        two_correct.append(idx)\n",
    "    if len(int_list)==1:\n",
    "        one_correct.append(idx)\n",
    "print(f'one-correct:{round(len(one_correct), 2)}')\n",
    "print(f'two-correct:{round(len(two_correct), 2)}')\n",
    "print(f'complete-correct:{round(len(complete_correct), 2)}')"
   ]
  },
  {
   "cell_type": "code",
   "execution_count": null,
   "metadata": {},
   "outputs": [],
   "source": []
  }
 ],
 "metadata": {
  "kernelspec": {
   "display_name": "Python 3",
   "language": "python",
   "name": "python3"
  },
  "language_info": {
   "codemirror_mode": {
    "name": "ipython",
    "version": 3
   },
   "file_extension": ".py",
   "mimetype": "text/x-python",
   "name": "python",
   "nbconvert_exporter": "python",
   "pygments_lexer": "ipython3",
   "version": "3.7.7"
  },
  "latex_envs": {
   "LaTeX_envs_menu_present": true,
   "autoclose": false,
   "autocomplete": true,
   "bibliofile": "biblio.bib",
   "cite_by": "apalike",
   "current_citInitial": 1,
   "eqLabelWithNumbers": true,
   "eqNumInitial": 1,
   "hotkeys": {
    "equation": "Ctrl-E",
    "itemize": "Ctrl-I"
   },
   "labels_anchors": false,
   "latex_user_defs": false,
   "report_style_numbering": false,
   "user_envs_cfg": false
  }
 },
 "nbformat": 4,
 "nbformat_minor": 4
}

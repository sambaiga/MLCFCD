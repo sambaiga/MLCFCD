{
 "cells": [
  {
   "cell_type": "code",
   "execution_count": 1,
   "metadata": {},
   "outputs": [],
   "source": [
    "import sys\n",
    "sys.path.append('../src/')\n",
    "import matplotlib.pyplot as plt\n",
    "from utils.visual_functions import *\n",
    "fig_path=\"../figure/\"\n",
    "%matplotlib inline\n",
    "from IPython.display import display"
   ]
  },
  {
   "cell_type": "code",
   "execution_count": 2,
   "metadata": {},
   "outputs": [],
   "source": [
    "names = list(lilac_names.values())"
   ]
  },
  {
   "cell_type": "code",
   "execution_count": 3,
   "metadata": {},
   "outputs": [
    {
     "name": "stdout",
     "output_type": "stream",
     "text": [
      "results for current with None transform on LILACD dataset\n",
      "mcc:0.85\\pm0.02\n",
      "f1:83.96\\pm1.43\n",
      "zl:14.29\\pm1.76\n",
      "\n",
      "results for LILACD\n",
      "\n",
      "         F1   MCC     ZL\n",
      "None  83.93  0.85  14.29\n",
      "results for awrg with None transform on LILACD dataset\n",
      "mcc:0.72\\pm0.01\n",
      "f1:72.66\\pm1.11\n",
      "zl:26.69\\pm1.25\n",
      "\n",
      "results for LILACD\n",
      "\n",
      "         F1   MCC     ZL\n",
      "None  73.85  0.72  26.69\n",
      "results for vi with None transform on LILACD dataset\n",
      "mcc:0.83\\pm0.01\n",
      "f1:84.28\\pm1.3\n",
      "zl:15.6\\pm0.82\n",
      "\n",
      "results for LILACD\n",
      "\n",
      "         F1   MCC    ZL\n",
      "None  83.89  0.83  15.6\n",
      "results for current_sum with None transform on LILACD dataset\n",
      "mcc:0.77\\pm0.03\n",
      "f1:73.36\\pm3.43\n",
      "zl:22.37\\pm2.88\n",
      "\n",
      "results for LILACD\n",
      "\n",
      "         F1   MCC     ZL\n",
      "None  70.61  0.76  22.37\n",
      "results for current_one with None transform on LILACD dataset\n",
      "mcc:0.78\\pm0.02\n",
      "f1:75.19\\pm1.92\n",
      "zl:21.24\\pm1.63\n",
      "\n",
      "results for LILACD\n",
      "\n",
      "         F1   MCC     ZL\n",
      "None  72.17  0.78  21.24\n",
      "results for current_two with None transform on LILACD dataset\n",
      "mcc:0.53\\pm0.0\n",
      "f1:41.97\\pm0.41\n",
      "zl:50.19\\pm0.33\n",
      "\n",
      "results for LILACD\n",
      "\n",
      "        F1   MCC     ZL\n",
      "None  41.3  0.53  50.19\n",
      "results for current_three with None transform on LILACD dataset\n",
      "mcc:0.52\\pm0.0\n",
      "f1:41.52\\pm0.14\n",
      "zl:50.75\\pm0.38\n",
      "\n",
      "results for LILACD\n",
      "\n",
      "         F1   MCC     ZL\n",
      "None  40.85  0.52  50.75\n"
     ]
    },
    {
     "data": {
      "text/plain": [
       "<Figure size 288x302.4 with 0 Axes>"
      ]
     },
     "metadata": {},
     "output_type": "display_data"
    },
    {
     "data": {
      "text/plain": [
       "<Figure size 288x302.4 with 0 Axes>"
      ]
     },
     "metadata": {},
     "output_type": "display_data"
    },
    {
     "data": {
      "text/plain": [
       "<Figure size 288x302.4 with 0 Axes>"
      ]
     },
     "metadata": {},
     "output_type": "display_data"
    },
    {
     "data": {
      "text/plain": [
       "<Figure size 288x302.4 with 0 Axes>"
      ]
     },
     "metadata": {},
     "output_type": "display_data"
    },
    {
     "data": {
      "text/plain": [
       "<Figure size 288x302.4 with 0 Axes>"
      ]
     },
     "metadata": {},
     "output_type": "display_data"
    },
    {
     "data": {
      "text/plain": [
       "<Figure size 288x302.4 with 0 Axes>"
      ]
     },
     "metadata": {},
     "output_type": "display_data"
    },
    {
     "data": {
      "text/plain": [
       "<Figure size 288x302.4 with 0 Axes>"
      ]
     },
     "metadata": {},
     "output_type": "display_data"
    }
   ],
   "source": [
    "\n",
    "for image_type in ['current','awrg', 'vi', 'current_sum', 'current_one', 'current_two', 'current_three']:\n",
    "    fscore=get_model_results(data=\"LILACD\", \n",
    "                             image_type=image_type, \n",
    "                             model_name=\"LG\",\n",
    "                             fig_path=fig_path, names=names, sub=False)\n",
    "    print(fscore)"
   ]
  },
  {
   "cell_type": "code",
   "execution_count": 4,
   "metadata": {},
   "outputs": [
    {
     "data": {
      "text/plain": [
       "<Figure size 288x302.4 with 0 Axes>"
      ]
     },
     "metadata": {},
     "output_type": "display_data"
    },
    {
     "data": {
      "text/plain": [
       "<Figure size 288x302.4 with 0 Axes>"
      ]
     },
     "metadata": {},
     "output_type": "display_data"
    },
    {
     "data": {
      "text/plain": [
       "<Figure size 288x302.4 with 0 Axes>"
      ]
     },
     "metadata": {},
     "output_type": "display_data"
    },
    {
     "data": {
      "text/plain": [
       "<Figure size 288x302.4 with 0 Axes>"
      ]
     },
     "metadata": {},
     "output_type": "display_data"
    },
    {
     "data": {
      "text/plain": [
       "<Figure size 288x302.4 with 0 Axes>"
      ]
     },
     "metadata": {},
     "output_type": "display_data"
    },
    {
     "data": {
      "text/plain": [
       "<Figure size 288x302.4 with 0 Axes>"
      ]
     },
     "metadata": {},
     "output_type": "display_data"
    },
    {
     "data": {
      "text/plain": [
       "<Figure size 288x302.4 with 0 Axes>"
      ]
     },
     "metadata": {},
     "output_type": "display_data"
    },
    {
     "data": {
      "text/plain": [
       "<Figure size 288x302.4 with 0 Axes>"
      ]
     },
     "metadata": {},
     "output_type": "display_data"
    },
    {
     "data": {
      "text/plain": [
       "<Figure size 288x302.4 with 0 Axes>"
      ]
     },
     "metadata": {},
     "output_type": "display_data"
    },
    {
     "data": {
      "text/plain": [
       "<Figure size 288x302.4 with 0 Axes>"
      ]
     },
     "metadata": {},
     "output_type": "display_data"
    },
    {
     "data": {
      "text/plain": [
       "<Figure size 288x302.4 with 0 Axes>"
      ]
     },
     "metadata": {},
     "output_type": "display_data"
    },
    {
     "data": {
      "text/plain": [
       "<Figure size 288x302.4 with 0 Axes>"
      ]
     },
     "metadata": {},
     "output_type": "display_data"
    },
    {
     "data": {
      "text/plain": [
       "<Figure size 288x302.4 with 0 Axes>"
      ]
     },
     "metadata": {},
     "output_type": "display_data"
    },
    {
     "data": {
      "text/plain": [
       "<Figure size 288x302.4 with 0 Axes>"
      ]
     },
     "metadata": {},
     "output_type": "display_data"
    },
    {
     "data": {
      "text/plain": [
       "<Figure size 288x302.4 with 0 Axes>"
      ]
     },
     "metadata": {},
     "output_type": "display_data"
    }
   ],
   "source": [
    "results = {}\n",
    "from IPython.display import clear_output\n",
    "for image_type in ['current']:\n",
    "    snr_res = []\n",
    "    for fs in [0.2, 0.3, 0.4, 0.5, 0.6, 0.8, 1, 2, 4, 5, 6, 8, 10, 20, 50]:\n",
    "        fscore=get_model_results(data=\"LILACD\", \n",
    "                             image_type=image_type, \n",
    "                             model_name=\"RF\",\n",
    "                             fig_path=fig_path, names=names, sub=False, fs=fs)\n",
    "        snr_res.append(fscore.iloc[0,0])\n",
    "        clear_output()\n",
    "    results[image_type]=snr_res\n",
    "clear_output()\n"
   ]
  },
  {
   "cell_type": "code",
   "execution_count": 5,
   "metadata": {},
   "outputs": [
    {
     "data": {
      "text/plain": [
       "[88.01,\n",
       " 95.84,\n",
       " 96.07,\n",
       " 96.3,\n",
       " 96.32,\n",
       " 96.55,\n",
       " 96.65,\n",
       " 96.55,\n",
       " 96.7,\n",
       " 96.91,\n",
       " 96.66,\n",
       " 97.11,\n",
       " 96.91,\n",
       " 96.91,\n",
       " 96.91]"
      ]
     },
     "execution_count": 5,
     "metadata": {},
     "output_type": "execute_result"
    }
   ],
   "source": [
    "results['current']\n",
    "#fig = figure(colums=1)\n"
   ]
  },
  {
   "cell_type": "code",
   "execution_count": null,
   "metadata": {},
   "outputs": [],
   "source": [
    "#fscore=get_model_results(\"LILACD\", \"vi\", fig_path, names)"
   ]
  },
  {
   "cell_type": "code",
   "execution_count": null,
   "metadata": {},
   "outputs": [],
   "source": [
    "#for snr in "
   ]
  },
  {
   "cell_type": "code",
   "execution_count": null,
   "metadata": {},
   "outputs": [],
   "source": [
    "def analyse_exp_one_results(dataset=\"LILACD\", image_type=\"current\", feature =\"None\", fs=None, snr=None):\n",
    "    \n",
    "    file_name = f\"LILACD_{image_type}_{feature}\"\n",
    "    if snr:\n",
    "        file_name = f\"{file_name}_{str(snr)}_dB\"\n",
    "    if fs: \n",
    "        file_name = f\"{file_name}_sampling_{round(fs*10*50/1000, 1)}_KHz\"  \n",
    "\n",
    "    f1  = np.load(\"../results/\"+file_name+\"_f1.npy\").flatten()\n",
    "    zl  = np.load(\"../results/\"+file_name+\"_z_one.npy\").flatten()\n",
    "    mcc  = np.load(\"../results/\"+file_name+\"_mcc.npy\").flatten()\n",
    "    true  = np.load(\"../results/\"+file_name+\"_true.npy\").flatten()\n",
    "    pred  = np.load(\"../results/\"+file_name+\"_pred.npy\").flatten()\n",
    "    cm    = confusion_matrix(true, pred)\n",
    "    \n",
    "    return f1, zl, mcc, cm\n",
    "\n",
    "def plot_snr(results, image_type, color=colors[0], label=\"Current\"):\n",
    "    std = np.array(list(results.values()))[:,1]\n",
    "    mu = np.array(list(results.values()))[:,0]\n",
    "    x = list(list(results.keys()))\n",
    "    upper = mu + std\n",
    "    lower = mu - std\n",
    "    \n",
    "    plt.fill_between(x, lower, upper, color=color, alpha=0.3)\n",
    "    plt.plot(x,mu, \n",
    "             marker='v',markersize=5, label=label, color=color)\n",
    "    plt.ylabel('$F_1 \\mathrm{macro}$') \n",
    "    plt.xlabel(\"$SNR (dB)$\")\n",
    "    plt.ylim(0.9,1)"
   ]
  },
  {
   "cell_type": "code",
   "execution_count": null,
   "metadata": {},
   "outputs": [],
   "source": [
    "SNR = [-5, -2, 0, 10, 20, 30, 40, 50]\n",
    "results_snr = {}\n",
    "for snr in SNR:\n",
    "    f1, zl, mcc, cm = analyse_exp_one_results(snr)\n",
    "    results_snr[snr] = [f1.mean(), f1.std()]\n",
    "    \n",
    "\n",
    "fig=figure(columns=1)\n",
    "plot_snr(results_snr, 'current', colors[1], \"FRYZE\")\n",
    "#plt.legend()\n",
    "#fig.tight_layout()"
   ]
  },
  {
   "cell_type": "code",
   "execution_count": null,
   "metadata": {},
   "outputs": [],
   "source": [
    "results_snr = {}\n",
    "for fs in [0.5, 0.8, 1, 5, 10, 20]:\n",
    "    f1, zl, mcc, cm = analyse_exp_one_results(fs)\n",
    "    results_snr[fs] = [f1.mean(), f1.std()]\n",
    "\n",
    "fig=figure(columns=1)\n",
    "plot_snr(results_snr, 'current', colors[1], \"FRYZE\")"
   ]
  },
  {
   "cell_type": "code",
   "execution_count": null,
   "metadata": {},
   "outputs": [],
   "source": [
    "results_snr"
   ]
  },
  {
   "cell_type": "code",
   "execution_count": null,
   "metadata": {},
   "outputs": [],
   "source": [
    "image_type=\"current\"\n",
    "feature =\"None\"\n",
    "results = {}\n",
    "for snr in [-5, -2, 10, 20, 30, 40, 50]:\n",
    "    result = []\n",
    "    for emb_size in [None, 50]:\n",
    "        file_name = f\"LILACD_{image_type}_{feature}\"\n",
    "        if emb_size is not None:\n",
    "            file_name  = f\"{file_name}_PAA_SNR_{str(snr)}_dB\"\n",
    "        else:\n",
    "            file_name  = f\"{file_name}_SNR_{str(snr)}_dB\"    \n",
    "        f1  = np.load(\"../results/\"+file_name+\"_f1.npy\").flatten()\n",
    "        #print(f1)\n",
    "        result.append(f1[0])\n",
    "    results[snr]=result\n",
    "fig=figure(columns=1)\n",
    "plt.plot(list(results.keys()),np.array(list(results.values()))[:,0],\n",
    "             marker='v',markersize=5, label=\"No PAA\")\n",
    "plt.plot(list(results.keys()),np.array(list(results.values()))[:,1],\n",
    "             marker='v',markersize=5, label=\"PAA\")\n",
    "plt.ylabel('$F_1 \\mathrm{macro}$') \n",
    "plt.legend()\n",
    "fig.tight_layout()"
   ]
  },
  {
   "cell_type": "code",
   "execution_count": null,
   "metadata": {},
   "outputs": [],
   "source": [
    "fig=figure(columns=1)\n",
    "barWidth = 0.4 \n",
    "r1 = np.arange(len(list(results.keys())))\n",
    "plt.bar(r1-barWidth, np.array(list(results.values()))[:,0], width = barWidth,   label='PAA')\n",
    "plt.bar(r1, np.array(list(results.values()))[:,1], width = barWidth,   label='No PAA')\n",
    "plt.xticks(r1, list(results.keys()));\n",
    "ax = plt.gca()  \n",
    "format_axes(ax)\n",
    "ax.set_ylabel('$F_1 \\mathrm{macro}$ score', fontsize=14)\n",
    "ax.set_xlabel(\"SNR $dB$\",fontsize=14)\n",
    "ax.tick_params(axis='both', which='major', labelsize=14)\n",
    "ax.autoscale(tight=True)\n",
    "ax.set_ylim(0.5, 1.0);\n",
    "ax.legend(fontsize=12)"
   ]
  },
  {
   "cell_type": "code",
   "execution_count": null,
   "metadata": {},
   "outputs": [],
   "source": [
    "image_type=\"current\"\n",
    "feature =\"None\"\n",
    "results = {}\n",
    "for fs in [0.5, 1, 2, 5, 10, 20, 30, 40, 50, 80, 100]:\n",
    "    result = []\n",
    "    for emb_size in [None, 50]:\n",
    "        file_name = f\"LILACD_{image_type}_{feature}\"\n",
    "        if emb_size is not None:\n",
    "            file_name  = f\"{file_name}_sampling_{round(fs*10*50/1000, 1)}_KHz_PAA\" \n",
    "        else:\n",
    "            file_name  = f\"{file_name}_sampling_{round(fs*10*50/1000, 1)}_KHz\"  \n",
    "        f1  = np.load(\"../results/\"+file_name+\"_f1.npy\").flatten()\n",
    "        #print(f1)\n",
    "        result.append(f1[0])\n",
    "    results[round(fs*10*50/1000, 1)]=result\n",
    "fig=figure(columns=1)\n",
    "plt.plot(list(results.keys()),np.array(list(results.values()))[:,0],\n",
    "             marker='v',markersize=5, label=\"No PAA\")\n",
    "plt.plot(list(results.keys()),np.array(list(results.values()))[:,1],\n",
    "             marker='v',markersize=5, label=\"PAA\")\n",
    "plt.ylabel('$F_1 \\mathrm{macro}$') \n",
    "plt.legend()\n",
    "fig.tight_layout()"
   ]
  },
  {
   "cell_type": "code",
   "execution_count": null,
   "metadata": {},
   "outputs": [],
   "source": [
    "fig=figure(columns=1)\n",
    "barWidth = 0.4 \n",
    "r1 = np.arange(len(list(results.keys())))\n",
    "plt.bar(r1-barWidth, np.array(list(results.values()))[:,0], width = barWidth,   label='PAA')\n",
    "plt.bar(r1, np.array(list(results.values()))[:,1], width = barWidth,   label='No PAA')\n",
    "plt.xticks(r1, list(results.keys()));\n",
    "ax = plt.gca()  \n",
    "format_axes(ax)\n",
    "ax.set_ylabel('$F_1 \\mathrm{macro}$ score', fontsize=14)\n",
    "ax.set_xlabel(\"SNR $dB$\",fontsize=14)\n",
    "ax.tick_params(axis='both', which='major', labelsize=14)\n",
    "ax.autoscale(tight=True)\n",
    "ax.set_ylim(0.5, 1.0);\n",
    "ax.legend(fontsize=12)"
   ]
  },
  {
   "cell_type": "code",
   "execution_count": null,
   "metadata": {},
   "outputs": [],
   "source": [
    "image_type=\"current\"\n",
    "feature =\"None\"\n",
    "fs=0.5\n",
    "uppers = []\n",
    "lowers = []\n",
    "mus    = []\n",
    "sampling = []\n",
    "for fs in [0.5, 1, 5, 10, 20,  30, 50]:\n",
    "    file_name = f\"LILACD_{image_type}_{feature}\"\n",
    "    file_name = f\"{file_name}_sampling_{round(fs*10*50/1000, 1)}_KHz\"\n",
    "    f1  = np.load(\"../results/\"+file_name+\"_f1.npy\").flatten()\n",
    "    mu = f1.mean()\n",
    "    std = f1.std()\n",
    "    upper = mu + std\n",
    "    lower = mu - std\n",
    "    uppers.append(upper)\n",
    "    lowers.append(lower)\n",
    "    mus.append(mu)\n",
    "    sampling.append(round(fs*10*50/1000, 1))\n",
    "x = np.arange(len(sampling))\n",
    "fig = figure(columns=1)\n",
    "plt.fill_between(sampling, lowers, uppers, color=colors[0], alpha=0.3)\n",
    "plt.plot(sampling,mus, \n",
    "             marker='v',markersize=5, color=colors[2])\n",
    "plt.ylabel('$F_1 \\mathrm{macro}$') \n",
    "plt.xlabel(\"sampling frequency $(KHz)$\")\n",
    "plt.ylim(0.7,1.01)\n",
    "fig.tight_layout()\n",
    "savefig(fig_path+\"sampling_frequency_results\", format=\".pdf\")"
   ]
  },
  {
   "cell_type": "code",
   "execution_count": null,
   "metadata": {},
   "outputs": [],
   "source": [
    "image_type=\"current\"\n",
    "feature =\"None\"\n",
    "uppers = []\n",
    "lowers = []\n",
    "mus    = []\n",
    "SNR = [0, 10, 20, 30, 40, 50]\n",
    "for snr in SNR:\n",
    "    file_name = f\"LILACD_{image_type}_{feature}\"\n",
    "    file_name = f\"{file_name}_SNR_{str(snr)}_dB\"\n",
    "    f1  = np.load(\"../results/\"+file_name+\"_f1.npy\").flatten()\n",
    "    mu = f1.mean()\n",
    "    std = f1.std()\n",
    "    upper = mu + std\n",
    "    lower = mu - std\n",
    "    uppers.append(upper)\n",
    "    lowers.append(lower)\n",
    "    mus.append(mu)\n",
    "    \n",
    "x = np.arange(len(SNR))\n",
    "fig = figure(columns=1)\n",
    "plt.fill_between(SNR, lowers, uppers, color=colors[0], alpha=0.3)\n",
    "plt.plot(SNR,mus, \n",
    "             marker='v',markersize=5, color=colors[2])\n",
    "plt.ylabel('$F_1 \\mathrm{macro}$') \n",
    "plt.xlabel(\"SNR $dB$\")\n",
    "plt.ylim(0.7,1.01)\n",
    "fig.tight_layout()\n",
    "#savefig(fig_path+\"snr_results\", format=\".pdf\")"
   ]
  },
  {
   "cell_type": "code",
   "execution_count": null,
   "metadata": {},
   "outputs": [],
   "source": []
  }
 ],
 "metadata": {
  "kernelspec": {
   "display_name": "Python 3",
   "language": "python",
   "name": "python3"
  },
  "language_info": {
   "codemirror_mode": {
    "name": "ipython",
    "version": 3
   },
   "file_extension": ".py",
   "mimetype": "text/x-python",
   "name": "python",
   "nbconvert_exporter": "python",
   "pygments_lexer": "ipython3",
   "version": "3.8.5"
  },
  "latex_envs": {
   "LaTeX_envs_menu_present": true,
   "autoclose": false,
   "autocomplete": true,
   "bibliofile": "biblio.bib",
   "cite_by": "apalike",
   "current_citInitial": 1,
   "eqLabelWithNumbers": true,
   "eqNumInitial": 1,
   "hotkeys": {
    "equation": "Ctrl-E",
    "itemize": "Ctrl-I"
   },
   "labels_anchors": false,
   "latex_user_defs": false,
   "report_style_numbering": false,
   "user_envs_cfg": false
  }
 },
 "nbformat": 4,
 "nbformat_minor": 4
}

{
 "cells": [
  {
   "cell_type": "code",
   "execution_count": 7,
   "metadata": {},
   "outputs": [],
   "source": [
    "from feature import *\n",
    "from load_cooll_data import get_cool_feature\n",
    "from load_whited_data import *\n",
    "from data import select_data_appliance_type, get_submetered_data, plaid_transform\n",
    "import numpy as np\n",
    "import matplotlib.pyplot as plt\n",
    "%matplotlib inline\n",
    "import PIL\n",
    "import torch\n",
    "from fit_functions import *\n",
    "from metrics import *\n",
    "from functools import partial\n",
    "from fit import *\n",
    "from sklearn.preprocessing import LabelEncoder, StandardScaler\n",
    "from sklearn.model_selection import StratifiedKFold\n",
    "from experiment_cross_dataset import *\n",
    "from models import *\n",
    "from visual_functions import *\n",
    "import warnings\n",
    "warnings.filterwarnings('ignore')\n",
    "      \n",
    "figure_path = \"publications/image_enconding/img/\""
   ]
  },
  {
   "cell_type": "code",
   "execution_count": 3,
   "metadata": {},
   "outputs": [
    {
     "name": "stderr",
     "output_type": "stream",
     "text": [
      "appliance 1:   0%|          | 0/13 [00:00<?, ?it/s]"
     ]
    },
    {
     "name": "stdout",
     "output_type": "stream",
     "text": [
      "Load plaid data from ../data/PLAID/\n"
     ]
    },
    {
     "name": "stderr",
     "output_type": "stream",
     "text": [
      "processed: 14: 100%|██████████| 13/13 [00:26<00:00,  2.02s/it]"
     ]
    },
    {
     "name": "stdout",
     "output_type": "stream",
     "text": [
      "currents size:250\n",
      "labels size:250\n",
      "states:250\n",
      "voltage:250\n"
     ]
    },
    {
     "name": "stderr",
     "output_type": "stream",
     "text": [
      "\n"
     ]
    }
   ],
   "source": [
    "data = \"plaid\"\n",
    "current, voltage, label = get_data(datasets[data],data, submetered=True)"
   ]
  },
  {
   "cell_type": "code",
   "execution_count": 4,
   "metadata": {},
   "outputs": [
    {
     "data": {
      "image/png": "[encoded data removed]",
      "text/plain": [
       "<Figure size 432x360 with 1 Axes>"
      ]
     },
     "metadata": {
      "needs_background": "light"
     },
     "output_type": "display_data"
    }
   ],
   "source": [
    "l, c = np.unique(label, return_counts=True)\n",
    "volgorde = np.argsort(c)\n",
    "fig, ax = plt.subplots(figsize=(6, 5))\n",
    "sns.set_color_codes(\"pastel\")\n",
    "sns.barplot(x=c[volgorde], \n",
    "        y=np.array(apps[\"plaid_agg\"])[volgorde], color='b')\n",
    "ax.set_xlabel(\"Counts\",fontsize=18)\n",
    "ax.set_ylabel(\"\",fontsize=20)\n",
    "ax.tick_params(axis='both', which='major', labelsize=18)\n",
    "#savefig(figure_path+\"label_dist_plaid_agg\", format=\".pdf\")"
   ]
  },
  {
   "cell_type": "code",
   "execution_count": 33,
   "metadata": {},
   "outputs": [],
   "source": [
    "fig = figure(fig_width=4)\n",
    "i = current[0]\n",
    "v = voltage[0]\n",
    "plt.plot(i)\n",
    "plt.ylabel(\"current $A$\")\n",
    "plt.xlabel(\"sample $T_s$\")\n",
    "savefig(figure_path+\"current_sample\", format=\".pdf\")"
   ]
  },
  {
   "cell_type": "code",
   "execution_count": 44,
   "metadata": {},
   "outputs": [],
   "source": [
    "RP_binary = generalized_recurrent_plot(i[:,None], eps=0.01, delta=1, rp_type=\"delta\")\n",
    "fig = figure(fig_width=4)\n",
    "plt.imshow(RP_binary, cmap=\"gray\")\n",
    "plt.ylabel(\"$H$\")\n",
    "plt.xlabel(\"$W$\")\n",
    "savefig(figure_path+\"binary_recurrent_graph\", format=\".pdf\")"
   ]
  },
  {
   "cell_type": "code",
   "execution_count": 45,
   "metadata": {},
   "outputs": [],
   "source": [
    "RPi = generalized_recurrent_plot(i[:,None], eps=0.01, delta=10, rp_type=\"delta\")\n",
    "fig = figure(fig_width=4)\n",
    "plt.imshow(RPi, cmap=\"gray\")\n",
    "plt.ylabel(\"$H$\")\n",
    "plt.xlabel(\"$W$\")\n",
    "savefig(figure_path+\"weighted_recurrent_graph\", format=\".pdf\")"
   ]
  },
  {
   "cell_type": "code",
   "execution_count": 92,
   "metadata": {},
   "outputs": [],
   "source": [
    "fig = figure(fig_width=4)\n",
    "VI = generateBinaryimage(v, i, 30, para=0.5, threshold=1)\n",
    "plt.imshow(VI, cmap=\"gray\")\n",
    "plt.ylabel(\"$H$\")\n",
    "plt.xlabel(\"$W$\")\n",
    "savefig(figure_path+\"vi_image\", format=\".pdf\")"
   ]
  },
  {
   "cell_type": "code",
   "execution_count": 93,
   "metadata": {},
   "outputs": [],
   "source": [
    "fig = figure(fig_width=4)\n",
    "plt.plot(i,v)\n",
    "plt.ylabel(\"current$A$\")\n",
    "plt.xlabel(\"voltage$V$\")\n",
    "plt.xlim(-180, 180)\n",
    "savefig(figure_path+\"vi_trajectory\", format=\".pdf\")"
   ]
  },
  {
   "cell_type": "markdown",
   "metadata": {},
   "source": [
    "## Dimension reduction"
   ]
  },
  {
   "cell_type": "code",
   "execution_count": 73,
   "metadata": {},
   "outputs": [],
   "source": [
    "fig = figure(fig_width=4)\n",
    "iaa = paa_segmentation(i, 30, True)\n",
    "plt.plot(iaa)\n",
    "plt.ylabel(\"current $A$\")\n",
    "plt.xlabel(\"sample $T_s$\")\n",
    "savefig(figure_path+\"paa_current_sample\", format=\".pdf\")\n"
   ]
  },
  {
   "cell_type": "code",
   "execution_count": 72,
   "metadata": {},
   "outputs": [],
   "source": [
    "fig = figure(fig_width=4)\n",
    "RPiaa=generalized_recurrent_plot(iaa[:,None], eps=0.01, delta=10, rp_type=\"delta\")\n",
    "plt.imshow(RPiaa, cmap=\"gray\")\n",
    "plt.ylabel(\"$H$\")\n",
    "plt.xlabel(\"$W$\")\n",
    "savefig(figure_path+\"weighted_recurrent_graph_paa\", format=\".pdf\")"
   ]
  },
  {
   "cell_type": "code",
   "execution_count": 66,
   "metadata": {},
   "outputs": [],
   "source": [
    "def get_resized_image(img, size):\n",
    "    if img.shape[-1]==1:\n",
    "        img=img[:,:,0]\n",
    "    img = PIL.Image.fromarray((img))\n",
    "    img = img.resize((size, size),  PIL.Image.NORMAL)\n",
    "    return  np.array(img)"
   ]
  },
  {
   "cell_type": "code",
   "execution_count": 67,
   "metadata": {},
   "outputs": [
    {
     "data": {
      "text/plain": [
       "<matplotlib.image.AxesImage at 0x7fa4381f4a10>"
      ]
     },
     "execution_count": 67,
     "metadata": {},
     "output_type": "execute_result"
    },
    {
     "data": {
      "image/png": "[encoded data removed]",
      "text/plain": [
       "<Figure size 432x288 with 1 Axes>"
      ]
     },
     "metadata": {
      "needs_background": "light"
     },
     "output_type": "display_data"
    }
   ],
   "source": [
    "rp_reduced = get_resized_image(RPi, size=30)\n",
    "plt.imshow(rp_reduced, cmap=\"gray\")"
   ]
  },
  {
   "cell_type": "code",
   "execution_count": null,
   "metadata": {},
   "outputs": [],
   "source": [
    "fig = figure(fig_width=4)\n",
    "plt.imshow(RPi, cmap=\"gray\")\n",
    "savefig(figure_path+\"recurrent_graph\", format=\".pdf\")"
   ]
  },
  {
   "cell_type": "code",
   "execution_count": null,
   "metadata": {},
   "outputs": [],
   "source": [
    "fig = figure(fig_width=4)\n",
    "plt.imshow(MTFi, cmap=\"gray\")\n",
    "savefig(figure_path+\"mtf_graph\", format=\".pdf\")"
   ]
  },
  {
   "cell_type": "code",
   "execution_count": null,
   "metadata": {},
   "outputs": [],
   "source": [
    "import pygsp\n",
    "from pygsp import graphs, filters, features, plotting, utils, reduction"
   ]
  },
  {
   "cell_type": "code",
   "execution_count": null,
   "metadata": {},
   "outputs": [],
   "source": [
    "\n",
    "#np.fill_diagonal(MTFi, 0)\n",
    "Gi = graphs.Graph(MTFi, gtype='MTFi')\n",
    "Gri = graphs.Graph(RPi, gtype='RPi')\n",
    "#Grv = graphs.Graph(RPv, gtype='MTFv')\n"
   ]
  },
  {
   "cell_type": "markdown",
   "metadata": {},
   "source": [
    "## Plot graph"
   ]
  },
  {
   "cell_type": "code",
   "execution_count": null,
   "metadata": {},
   "outputs": [],
   "source": [
    "fig, axes = plt.subplots(1, 2)\n",
    "Gri.set_coordinates()\n",
    "_ = axes[0].spy(Gri.W)\n",
    "Gri.plot(ax=axes[1])"
   ]
  },
  {
   "cell_type": "code",
   "execution_count": null,
   "metadata": {},
   "outputs": [],
   "source": [
    "L=Gi.L\n",
    "Gi.compute_fourier_basis()\n",
    "Gi.set_coordinates()"
   ]
  },
  {
   "cell_type": "code",
   "execution_count": null,
   "metadata": {},
   "outputs": [],
   "source": [
    "fig, axes = plt.subplots(1, 2, figsize=(10, 3))\n",
    "for i, ax in enumerate(axes):\n",
    "    Gi.plot_signal(Gi.U[:, i+1], vertex_size=30, ax=ax)\n",
    "    _ = ax.set_title('Eigenvector {}'.format(i+2))\n",
    "    ax.set_axis_off()\n",
    "fig.tight_layout()"
   ]
  },
  {
   "cell_type": "code",
   "execution_count": null,
   "metadata": {},
   "outputs": [],
   "source": []
  },
  {
   "cell_type": "code",
   "execution_count": null,
   "metadata": {},
   "outputs": [],
   "source": [
    "fig, axes = plt.subplots(1, 2)\n",
    "axes[0].matshow(MTFi)\n",
    "axes[1].matshow(M)"
   ]
  },
  {
   "cell_type": "code",
   "execution_count": null,
   "metadata": {},
   "outputs": [],
   "source": [
    "### Symetrical Graph\n",
    "MTFs = MTFi + MTFi.T \n",
    "Gis = graphs.Graph(MTFs, gtype='MTFi')\n",
    "\n",
    "fig, axes = plt.subplots(1, 2)\n",
    "Gis.set_coordinates()\n",
    "_ = axes[0].spy(Gis.W, markersize=2)\n",
    "Gis.plot(ax=axes[1])"
   ]
  },
  {
   "cell_type": "code",
   "execution_count": null,
   "metadata": {},
   "outputs": [],
   "source": [
    "sigma=0.1\n",
    "G = graphs.NNGraph(X.T, NNtype='knn', k=5, sigma = sigma**2, rescale=True, symmetrize_type='maximum')"
   ]
  },
  {
   "cell_type": "code",
   "execution_count": null,
   "metadata": {},
   "outputs": [],
   "source": [
    "print(G.N)\n",
    "print(G.Ne)"
   ]
  },
  {
   "cell_type": "code",
   "execution_count": null,
   "metadata": {},
   "outputs": [],
   "source": [
    "print(G.is_connected())\n",
    "print(G.is_directed())"
   ]
  },
  {
   "cell_type": "code",
   "execution_count": null,
   "metadata": {},
   "outputs": [],
   "source": [
    "plt.spy(G.W, markersize=5);\n",
    "#plt.imshow(G.W.toarray());"
   ]
  },
  {
   "cell_type": "code",
   "execution_count": null,
   "metadata": {},
   "outputs": [],
   "source": [
    "G.compute_laplacian('combinatorial') \n",
    "#G.compute_laplacian('normalized') ##the normalized Lap may yield an error if there exist a node with degree 0!\n",
    "plt.imshow(G.L.toarray())"
   ]
  },
  {
   "cell_type": "code",
   "execution_count": null,
   "metadata": {},
   "outputs": [],
   "source": [
    "v_in, v_out, weights = G.get_edge_list()\n",
    "print(v_in.shape, v_out.shape, weights.shape)"
   ]
  },
  {
   "cell_type": "code",
   "execution_count": null,
   "metadata": {},
   "outputs": [],
   "source": [
    "G.plot()"
   ]
  },
  {
   "cell_type": "code",
   "execution_count": null,
   "metadata": {},
   "outputs": [],
   "source": [
    "## Spectrum\n",
    "import scipy as sp\n",
    "from additional_utils import AR_index, generate_concentric_circles\n",
    "import networkx as nx\n",
    "import sklearn\n",
    "from sklearn.cluster import KMeans"
   ]
  },
  {
   "cell_type": "code",
   "execution_count": null,
   "metadata": {},
   "outputs": [],
   "source": [
    "eig_val, U = sp.linalg.eigh(G.L.toarray()) "
   ]
  },
  {
   "cell_type": "code",
   "execution_count": null,
   "metadata": {},
   "outputs": [],
   "source": [
    "G_nx = nx.from_numpy_matrix(G.A.toarray())\n",
    "#sorted(nx.connected_components(G_nx), key = len, reverse=True)"
   ]
  },
  {
   "cell_type": "code",
   "execution_count": null,
   "metadata": {},
   "outputs": [],
   "source": [
    "### Smoothness and Divergence of a graph\n",
    "G.compute_differential_operator()\n",
    "gradient = G.D @ X.T\n",
    "plt.plot(gradient[:,1])"
   ]
  },
  {
   "cell_type": "code",
   "execution_count": null,
   "metadata": {},
   "outputs": [],
   "source": [
    "#compute the divergence of an edge signal, which is again a signal on the nodes\n",
    "divergence = G.D.T @ gradient\n",
    "G.plot_signal(divergence[:,1])"
   ]
  },
  {
   "cell_type": "code",
   "execution_count": null,
   "metadata": {},
   "outputs": [],
   "source": [
    "#smoothness\n",
    "smooth=(G.L.toarray()@ X.T)@X\n",
    "plt.matshow(smooth)"
   ]
  },
  {
   "cell_type": "code",
   "execution_count": null,
   "metadata": {},
   "outputs": [],
   "source": [
    "G.compute_fourier_basis()\n",
    "fig, axes = plt.subplots(1, 2, figsize=(10, 4))\n",
    "G.plot_signal(G.U[:, 4], ax=axes[0])\n",
    "G.set_coordinates('line1D')\n",
    "G.plot_signal(G.U[:, 1:4], ax=axes[1])\n",
    "fig.tight_layout()"
   ]
  },
  {
   "cell_type": "code",
   "execution_count": null,
   "metadata": {},
   "outputs": [],
   "source": [
    "fig, axes = plt.subplots(1, 7, figsize=(15, 2.5))\n",
    "G.compute_fourier_basis()\n",
    "\n",
    "limits = [f(G.U[:, :len(axes)]) for f in (np.min, np.max)]\n",
    "\n",
    "for i, ax in enumerate(axes):\n",
    "    G.plot_signal(G.U[:, i], limits=limits, colorbar=False, vertex_size=50, ax=ax)\n",
    "    ax.set_title(f'eigenvector $u_{i+1}$')\n",
    "    ax.set_axis_off()"
   ]
  },
  {
   "cell_type": "code",
   "execution_count": null,
   "metadata": {},
   "outputs": [],
   "source": [
    "plt.figure(figsize=(6, 6))\n",
    "plt.imshow(np.abs(G.U))\n",
    "plt.colorbar()\n",
    "print('The largest entry in the Fourier basis is ' + str(np.max(np.abs(G.U))))"
   ]
  },
  {
   "cell_type": "code",
   "execution_count": null,
   "metadata": {},
   "outputs": [],
   "source": [
    "taus = [0, 2, 5]\n",
    "fig, axes = plt.subplots(len(taus), 2, figsize=(11, 6))\n",
    "\n",
    "x0 = X[1]\n",
    "for i, tau in enumerate(taus):\n",
    "    g = filters.Heat(G, tau)\n",
    "    x = g.filter(x0).squeeze()\n",
    "    x_hat = G.gft(x).squeeze()\n",
    "    \n",
    "    G.plot_signal(x, ax=axes[i, 0])\n",
    "    axes[i, 0].set_axis_off()\n",
    "    axes[i, 0].text(0, -0.2, '$x^T L x = {:.2f}$'.format(x.T @ G.L @ x))\n",
    "    \n",
    "    axes[i, 1].plot(G.e, np.abs(x_hat), '.-')\n",
    "    \n",
    "    #g.plot(ax=axes[i, 2])\n",
    "    #axes[i, 2].set_xlabel('')\n",
    "    #axes[i, 2].set_ylabel('')\n",
    "    \n",
    "axes[0, 0].set_title(r'$x$: signal in the vertex domain')\n",
    "axes[0, 1].set_title(r'$\\hat{x}$: signal in the spectral domain')\n",
    "#axes[0, 2].set_title('Filter applied to white noise')\n",
    "axes[-1, 1].set_xlabel(\"laplacian's eigenvalues / graph frequencies\")\n",
    "#axes[-1, 2].set_xlabel(\"laplacian's eigenvalues / graph frequencies\")"
   ]
  },
  {
   "cell_type": "code",
   "execution_count": null,
   "metadata": {},
   "outputs": [],
   "source": [
    "x0 = X[1]\n",
    "g = filters.MexicanHat(G)\n",
    "x = g.filter(x0).squeeze()\n",
    "x_hat = G.gft(x).squeeze()\n",
    "s = g.localize(G.N // 2)\n",
    "fig, axes = plt.subplots(1, 2)\n",
    "G.plot_signal(x, ax=axes[0])\n",
    "axes[0].set_axis_off()\n",
    "axes[1].plot(G.e, np.abs(x_hat), '.-');\n",
    "axes[0].set_title(r'$x$: signal in the vertex domain')\n",
    "axes[1].set_title(r'$\\hat{x}$: signal in the spectral domain');\n",
    "#axes[0].text(0, -0.2, '$x^T L x = {:.2f}$'.format(x.T @ G.L @ x))\n",
    "#g.plot(ax=axes[0])\n",
    "#G.plot_signal(s, ax=axes[1])"
   ]
  },
  {
   "cell_type": "code",
   "execution_count": null,
   "metadata": {
    "scrolled": true
   },
   "outputs": [],
   "source": [
    "G.compute_fourier_basis()\n",
    "# The mexican hat bandpass example\n",
    "mex_hat = lambda x: x * np.exp(-x) \n",
    "plt.plot(np.arange(0,10,0.01), mex_hat(np.arange(0,10,0.01)))"
   ]
  },
  {
   "cell_type": "code",
   "execution_count": null,
   "metadata": {},
   "outputs": [],
   "source": [
    "m=5\n",
    "g = filters.MexicanHat(G, Nf = m + 1, lpfactor = 50)\n",
    "eval_x = np.arange(0, G.lmax, G.lmax/1000)\n",
    "y = g.evaluate(eval_x)\n",
    "\n",
    "plt.plot(eval_x, y.T)\n",
    "plt.plot(G.e, g.evaluate(G.e).T, '+')\n",
    "plt.xlabel('$\\lambda$')\n",
    "plt.ylabel('filters')\n",
    "plt.figure()\n",
    "plt.plot(G.e, np.sum(np.power(g.evaluate(G.e).T,2),1), '+')\n",
    "plt.ylim([0, 1])"
   ]
  },
  {
   "cell_type": "code",
   "execution_count": null,
   "metadata": {},
   "outputs": [],
   "source": [
    "node = 10\n",
    "delta_node = np.zeros((G.N,))\n",
    "delta_node[node] = 1\n",
    "wavelet_at_node = g.filter(delta_node)\n",
    "wavelet_at_node.shape\n",
    "\n",
    "\n",
    "G.plot_signal(delta_node) # the delta signal centered on 'node'\n",
    "G.plot_signal(wavelet_at_node[:,5]) # the wavelet centered on 'node' at very small scale (large value of s)\n",
    "G.plot_signal(wavelet_at_node[:,4]) # the wavelet at the same node but at slightly larger scale (smaller value of s)\n",
    "G.plot_signal(wavelet_at_node[:,3]) # etc.\n",
    "G.plot_signal(wavelet_at_node[:,2])\n",
    "G.plot_signal(wavelet_at_node[:,1])"
   ]
  },
  {
   "cell_type": "markdown",
   "metadata": {},
   "source": [
    "## Graph features\n",
    "Divergence:\n",
    "    from Jupyt"
   ]
  },
  {
   "cell_type": "code",
   "execution_count": null,
   "metadata": {},
   "outputs": [],
   "source": [
    "plt.matshow(G.W.toarray())"
   ]
  },
  {
   "cell_type": "code",
   "execution_count": null,
   "metadata": {},
   "outputs": [],
   "source": [
    "lists = np.arange(len(current))\n",
    "np.random.shuffle(lists)\n",
    "mtf = MarkovTransitionField(image_size=50, strategy=\"quantile\", n_bins=50, overlapping=True)\n",
    "from IPython import display\n",
    "for k in lists:\n",
    "\n",
    "    sigma=1\n",
    "    i = current[k][:,None]\n",
    "    v = voltage[k][:,None]\n",
    "    X = np.vstack([paa_segmentation(v,50),paa_segmentation(i, 50)])\n",
    "    G = graphs.NNGraph(X.T, NNtype='knn', k=10, sigma = sigma**2, rescale=False,epsilon=0.001, symmetrize_type='maximum')\n",
    "    \n",
    "    #MTFi =  mtf.fit_transform(i.T)[0]\n",
    "    #MTFv =  mtf.fit_transform(v.T)[0]\n",
    "    #np.fill_diagonal(MTFi, 0)\n",
    "    #G = graphs.Graph(MTFi, gtype='MTFi')\n",
    "    gn = nx.Graph(G.W.toarray())\n",
    "    #G.compute_differential_operator()\n",
    "    G.compute_fourier_basis()\n",
    "    #gradient = G.D @ X.T\n",
    "    #divergence = G.D.T @ gradient\n",
    "    avg_adj=features.compute_avg_adj_deg(G)\n",
    "    basis_function=G.U\n",
    "    spec=features.compute_spectrogram(G, M=20)\n",
    "    fig, axes = plt.subplots(1, 4)\n",
    "    G.plot(ax=axes[1])\n",
    "    axes[2].imshow(spec)\n",
    "    axes[0].set_title(label[k])\n",
    "    axes[0].plot(X[0], X[1])\n",
    "    axes[3].imshow(G.W.toarray())\n",
    "    plt.show()\n",
    "    input(\"Enter\")\n",
    "    display.clear_output()\n",
    "\n"
   ]
  },
  {
   "cell_type": "code",
   "execution_count": null,
   "metadata": {},
   "outputs": [],
   "source": [
    "skf = StratifiedKFold(n_splits=3, random_state=0)\n",
    "    \n",
    "k = 1\n",
    "for train_index, test_index in  skf.split(images, y):\n",
    "    #file_name=exp_name+\"_\"+str(k)\n",
    "    #print(f\"fit model for {file_name}\")\n",
    "    Xtrain, Xtest, ytrain, ytest = images[train_index], images[test_index], y[train_index], y[test_index]\n",
    "    loaders=get_loaders(Xtrain, Xtest, ytrain, ytest, batch_size=64)\n",
    "    k+=1\n",
    "    if k==2:\n",
    "        break"
   ]
  },
  {
   "cell_type": "code",
   "execution_count": null,
   "metadata": {},
   "outputs": [],
   "source": []
  },
  {
   "cell_type": "code",
   "execution_count": null,
   "metadata": {},
   "outputs": [],
   "source": []
  },
  {
   "cell_type": "code",
   "execution_count": null,
   "metadata": {},
   "outputs": [],
   "source": []
  },
  {
   "cell_type": "code",
   "execution_count": null,
   "metadata": {},
   "outputs": [],
   "source": [
    "### Model\n",
    "import sys\n",
    "sys.path.append(\"waveletconv/\")\n",
    "from common import *\n",
    "from mwcnn_ import *\n",
    "\n",
    "import os\n",
    "from importlib import import_module\n",
    "\n",
    "import torch\n",
    "import torch.nn as nn\n",
    "from torch.autograd import Variable\n",
    "def iwt_init(x):\n",
    "    r = 1\n",
    "    in_batch, in_channel, in_height, in_width = x.size()\n",
    "    #print([in_batch, in_channel, in_height, in_width])\n",
    "    out_batch, out_channel, out_height, out_width = in_batch, int(\n",
    "        in_channel / (r ** 2)), r * in_height, r * in_width\n",
    "    x1 = x[:, 0:out_channel, :, :] / 2\n",
    "    x2 = x[:, out_channel:out_channel * 2, :, :] / 2\n",
    "    x3 = x[:, out_channel * 2:out_channel * 3, :, :] / 2\n",
    "    x4 = x[:, out_channel * 3:out_channel * 4, :, :] / 2\n",
    "    \n",
    "\n",
    "    h = torch.zeros([out_batch, out_channel, out_height, out_width]).float()\n",
    "    if torch.cuda.is_available():\n",
    "        h=h.cuda()\n",
    "\n",
    "    h[:, :, 0::2, 0::2] = x1 - x2 - x3 + x4\n",
    "    h[:, :, 1::2, 0::2] = x1 - x2 + x3 - x4\n",
    "    h[:, :, 0::2, 1::2] = x1 + x2 - x3 - x4\n",
    "    h[:, :, 1::2, 1::2] = x1 + x2 + x3 + x4\n",
    "\n",
    "    return h\n",
    "\n",
    "class IWT(nn.Module):\n",
    "    def __init__(self):\n",
    "        super(IWT, self).__init__()\n",
    "        self.requires_grad = False\n",
    "\n",
    "    def forward(self, x):\n",
    "        return iwt_init(x)\n",
    "\n",
    "class Model(nn.Module):\n",
    "    def __init__(self, scale=2, self_ensemble=True, chop=True, precision=\"half\", model='BSR', \n",
    "                 n_resblocks=2, n_feats=4, nColor=1):\n",
    "        super(Model, self).__init__()\n",
    "        print('Making model...')\n",
    "\n",
    "        self.scale = scale\n",
    "        self.idx_scale = 0\n",
    "        self.self_ensemble = self_ensemble\n",
    "        self.chop = chop\n",
    "        self.precision = precision\n",
    "        self.device = torch.device('cuda' if torch.cuda.is_available() else 'cpu')\n",
    "        self.wvcnn = MWCNN(n_resblocks, n_feats, nColor)\n",
    "\n",
    "\n",
    "import  common_ as common\n",
    "import torch\n",
    "import torch.nn as nn\n",
    "import scipy.io as sio\n",
    "\n",
    "\n",
    "class MWCNN(nn.Module):\n",
    "    def __init__(self, n_resblocks=2, n_feats=8, nColor=1, conv=common.default_conv):\n",
    "        super(MWCNN, self).__init__()\n",
    "        kernel_size = 3\n",
    "        self.scale_idx = 0\n",
    "       \n",
    "\n",
    "        act = nn.ReLU(True)\n",
    "\n",
    "        self.DWT = common.DWT()\n",
    "        self.IWT = common.IWT()\n",
    "\n",
    "        n = 1\n",
    "        m_head = [common.BBlock(conv, nColor, n_feats, kernel_size, act=act)]\n",
    "        d_l0 = [common.BBlock(conv, n_feats, n_feats*2, kernel_size, act=act, bn=False)]\n",
    "        d_l1 = [common.BBlock(conv, n_feats*8 , n_feats*2 , kernel_size, act=act, bn=False)]\n",
    "        pro_l0=[common.BBlock(conv, n_feats * 8, n_feats*8 , kernel_size, act=act, bn=False)]\n",
    "        i_l1 = [common.BBlock(conv, n_feats*2, n_feats*8 , kernel_size, act=act, bn=False)]\n",
    "        i_l0 = [common.BBlock(conv, n_feats*2, n_feats*2, kernel_size, act=act, bn=False)]\n",
    "        m_tail = [conv(n_feats*2, nColor, kernel_size)]\n",
    "\n",
    "        self.head = nn.Sequential(*m_head)\n",
    "        self.d_l1 = nn.Sequential(*d_l1)\n",
    "        self.d_l0 = nn.Sequential(*d_l0)\n",
    "        self.tail = nn.Sequential(*m_tail)\n",
    "        self.i_l1 = nn.Sequential(*i_l1)\n",
    "        self.i_l0 = nn.Sequential(*i_l0)\n",
    "        self.pro_l0 = nn.Sequential(*pro_l0)\n",
    "\n",
    "    def forward(self, x):\n",
    "        x0 = self.d_l0(self.head(x))\n",
    "        print(x0.shape)\n",
    "        x1 = self.d_l1(self.DWT(x0))\n",
    "        print(x1.shape)\n",
    "        x1=F.interpolate(input=x1, size=x1.size(-1)*2)\n",
    "        x_ = self.IWT(self.pro_l0(self.DWT(x1)))+x1\n",
    "        print(x_.shape)\n",
    "        x_ = self.IWT(self.i_l1(x_)) + F.interpolate(input=x0, size=x0.size(-1)*2)\n",
    "        print(x_.shape)\n",
    "        x_ = self.tail(self.i_l0(x_))\n",
    "        x_=F.interpolate(input=x_, size=x_.size(-1)//2) +x\n",
    "        print(x_.shape)\n",
    "\n",
    "\n",
    "        return x\n",
    "\n",
    "    def set_scale(self, scale_idx):\n",
    "        self.scale_idx = scale_idx\n",
    "\n",
    "model = MWCNN(n_resblocks=2, n_feats=8, nColor=1, conv=common.default_conv)\n",
    "model"
   ]
  },
  {
   "cell_type": "code",
   "execution_count": null,
   "metadata": {},
   "outputs": [],
   "source": [
    "z, y=next(iter(loaders['train']))\n",
    "x=z\n",
    "B, H, W, C = x.size()\n",
    "x=x.view(B, C, H, W)\n",
    "k=model(x)"
   ]
  },
  {
   "cell_type": "code",
   "execution_count": null,
   "metadata": {},
   "outputs": [],
   "source": [
    "\n",
    "x0 = model.d_l0(model.head(x))\n",
    "print(x0.shape)\n",
    "x1 = model.d_l1(model.DWT(x0))\n",
    "print(x1.shape)\n",
    "x1=F.interpolate(input=x1, size=x1.size(-1)*2)\n",
    "x_ = model.IWT(model.pro_l0(model.DWT(x1)))+x1\n",
    "print(x_.shape)\n",
    "x_ = model.IWT(model.i_l1(x_)) + F.interpolate(input=x0, size=x0.size(-1)*2)\n",
    "print(x_.shape)\n",
    "x_ = model.tail(model.i_l0(x_))\n",
    "x_=F.interpolate(input=x_, size=x_.size(-1)//2) +x\n",
    "print(x_.shape)\n"
   ]
  },
  {
   "cell_type": "code",
   "execution_count": null,
   "metadata": {},
   "outputs": [],
   "source": [
    "x_ = model.tail(model.i_l0(x_))\n",
    "x_=F.interpolate(input=x_, size=x_.size(-1)//2) +x\n",
    "print(x_.shape)"
   ]
  },
  {
   "cell_type": "code",
   "execution_count": null,
   "metadata": {},
   "outputs": [],
   "source": [
    "x1 = model.wvcnn.d_l1(model.wvcnn.DWT(out))\n",
    "x2 = model.wvcnn.d_l2(model.wvcnn.DWT(x1))"
   ]
  },
  {
   "cell_type": "code",
   "execution_count": null,
   "metadata": {},
   "outputs": [],
   "source": [
    "out.shape"
   ]
  },
  {
   "cell_type": "code",
   "execution_count": null,
   "metadata": {},
   "outputs": [],
   "source": [
    "plt.imshow(z[0][:, :,0])"
   ]
  },
  {
   "cell_type": "code",
   "execution_count": null,
   "metadata": {},
   "outputs": [],
   "source": [
    "plt.imshow(x1[0].data.numpy()[0])"
   ]
  },
  {
   "cell_type": "code",
   "execution_count": null,
   "metadata": {},
   "outputs": [],
   "source": [
    "\n"
   ]
  },
  {
   "cell_type": "code",
   "execution_count": null,
   "metadata": {},
   "outputs": [],
   "source": [
    "def train_model(current, voltage, labels, dataset, image_type, width=30, rp_type=\"delta\", model_name=\"CNN\", epochs=2):\n",
    "    images = get_images(current, voltage,  width=width,image_type=image_type, \n",
    "                        eps=eps[dataset], steps=steps[dataset], distance='euclidean', rp_type=rp_type)\n",
    "    images = images.astype(np.uint8)/255\n",
    "    \n",
    "    i_max = current.max(1)\n",
    "    \n",
    "    le = LabelEncoder()\n",
    "    le.fit(labels)\n",
    "    y = le.transform(labels)\n",
    "    \n",
    "    standard_scaler = StandardScaler()\n",
    "    standard_scaler.fit(i_max[:, None])\n",
    "    I_max = standard_scaler.transform(i_max[:, None])\n",
    "    classes=list(np.unique(y))\n",
    "    num_class=len(classes)\n",
    "    \n",
    "    y_pred_total = []\n",
    "    f_1_total = []\n",
    "    y_test_total = []\n",
    "    img_test_total = []\n",
    "    \n",
    "    \n",
    "    device = \"cuda:0\" if torch.cuda.is_available() else \"cpu\"\n",
    "    metric_fn = partial(get_accuracy)\n",
    "    exp_name=f\"{dataset}_{image_type}_{str(width)}_{rp_type}_{model_name}\"\n",
    "    \n",
    "    skf = StratifiedKFold(n_splits=4, random_state=0)\n",
    "    \n",
    "    k = 1\n",
    "    for train_index, test_index in  skf.split(images, y):\n",
    "        file_name=exp_name+\"_\"+str(k)\n",
    "        print(f\"fit model for {file_name}\")\n",
    "        Xtrain, Xtest, ytrain, ytest = images[train_index], images[test_index], y[train_index], y[test_index]\n",
    "        loaders=get_loaders(Xtrain, Xtest, ytrain, ytest, batch_size=64)\n",
    "        model = CNN(out_size=num_class)\n",
    "        saved_model_path   = 'models/{}_checkpoint.pt'.format(file_name)\n",
    "        checkpoint = Checkpoint(saved_model_path, patience=20, checkpoint=True, score_mode=\"max\",min_delta=1e-4)\n",
    "        criterion = torch.nn.CrossEntropyLoss().to(device)\n",
    "        optimizer = torch.optim.SGD(model.parameters(), lr=1e-2, momentum=0.9, nesterov=True)\n",
    "        train_loss, train_acc,  test_loss, test_acc = perform_training(epochs, \n",
    "                                                                   model, \n",
    "                                                                   loaders['train'],\n",
    "                                                                   loaders['val'],\n",
    "                                                                   optimizer, \n",
    "                                                                   criterion, \n",
    "                                                                   device, \n",
    "                                                                   checkpoint,\n",
    "                                                                   metric_fn)\n",
    "        pred, test= predict(model, loaders['val'], checkpoint, device,1, 0.5, singlelabel=True)\n",
    "        plot_learning_curve(train_loss, train_acc, test_loss, test_acc)\n",
    "        savefig(f\"figure/temp/{file_name}\",format=\".pdf\")\n",
    "        \n",
    "        f1 = get_fscore(test, pred, dataset)\n",
    "        f_1_total.append(f1)\n",
    "        y_pred_total.append(pred)\n",
    "        y_test_total.append(test)\n",
    "        img_test_total.append(Xtest)\n",
    "        k+=1\n",
    "        \n",
    "    np.save(f\"results/{file_name}_pred.npy\", np.vstack(y_pred_total))\n",
    "    np.save(f\"results/{file_name}_f1.npy\", np.vstack(f_1_total))\n",
    "    np.save(f\"results/{file_name}_true.npy\", np.vstack(y_test_total))\n",
    "    np.save(f\"results/{file_name}_images.npy\", np.vstack(img_test_total))\n",
    "    \n",
    "    vis_results(y_test_total, y_pred_total, dataset, fig_path=f\"figure/{file_name}\")\n",
    "    \n",
    "       \n",
    "        \n",
    "        \n",
    "       \n",
    "    return images"
   ]
  },
  {
   "cell_type": "code",
   "execution_count": null,
   "metadata": {},
   "outputs": [],
   "source": [
    "images=train_model(current, voltage, label, \"cooll\", \"vi\", width=30, rp_type=\"delta\")"
   ]
  },
  {
   "cell_type": "code",
   "execution_count": null,
   "metadata": {},
   "outputs": [],
   "source": [
    "plt.imshow(k.data.numpy()[0][0])"
   ]
  },
  {
   "cell_type": "code",
   "execution_count": null,
   "metadata": {},
   "outputs": [],
   "source": [
    "plt.imshow(z.numpy()[0][:,:,0])"
   ]
  },
  {
   "cell_type": "code",
   "execution_count": null,
   "metadata": {},
   "outputs": [],
   "source": [
    "images.max()"
   ]
  },
  {
   "cell_type": "code",
   "execution_count": null,
   "metadata": {},
   "outputs": [],
   "source": [
    "img = generalized_recurrent_plot(current[0], 0.001, 30, 'euclidean', \"gafs\")\n",
    "#img = generateBinaryimage(current[10], voltage[10],30)\n",
    "img = rescale_image(img)"
   ]
  },
  {
   "cell_type": "code",
   "execution_count": null,
   "metadata": {},
   "outputs": [],
   "source": [
    "plt.matshow(img)"
   ]
  },
  {
   "cell_type": "code",
   "execution_count": null,
   "metadata": {},
   "outputs": [],
   "source": [
    "img = get_resized_image(img, 30)\n"
   ]
  },
  {
   "cell_type": "code",
   "execution_count": null,
   "metadata": {},
   "outputs": [],
   "source": [
    "plt.matshow(img)"
   ]
  },
  {
   "cell_type": "code",
   "execution_count": null,
   "metadata": {},
   "outputs": [],
   "source": []
  }
 ],
 "metadata": {
  "kernelspec": {
   "display_name": "Python 3",
   "language": "python",
   "name": "python3"
  },
  "language_info": {
   "codemirror_mode": {
    "name": "ipython",
    "version": 3
   },
   "file_extension": ".py",
   "mimetype": "text/x-python",
   "name": "python",
   "nbconvert_exporter": "python",
   "pygments_lexer": "ipython3",
   "version": "3.7.7"
  },
  "latex_envs": {
   "LaTeX_envs_menu_present": true,
   "autoclose": false,
   "autocomplete": true,
   "bibliofile": "biblio.bib",
   "cite_by": "apalike",
   "current_citInitial": 1,
   "eqLabelWithNumbers": true,
   "eqNumInitial": 1,
   "hotkeys": {
    "equation": "Ctrl-E",
    "itemize": "Ctrl-I"
   },
   "labels_anchors": false,
   "latex_user_defs": false,
   "report_style_numbering": false,
   "user_envs_cfg": false
  }
 },
 "nbformat": 4,
 "nbformat_minor": 2
}

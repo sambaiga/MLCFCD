{
 "cells": [
  {
   "cell_type": "code",
   "execution_count": 1,
   "metadata": {},
   "outputs": [],
   "source": [
    "import sys\n",
    "sys.path.append(\"../src\")\n",
    "import numpy as np\n",
    "import matplotlib.pyplot as plt\n",
    "import matplotlib.ticker as ticker\n",
    "import pandas as pd\n",
    "from utils.visual_functions import *\n",
    "from net.metrics import *\n",
    "from sklearn import metrics \n",
    "from sklearn.metrics import multilabel_confusion_matrix\n",
    "%matplotlib inline\n",
    "fig_path=\"../figure/paper/\"\n",
    "plaid_names = ['CFL','ILB','Waterkettle','Fan','AC','HairIron','LaptopCharger','SolderingIron','Fridge','Vacuum','CoffeeMaker','FridgeDefroster']"
   ]
  },
  {
   "cell_type": "markdown",
   "metadata": {},
   "source": [
    "## Functions"
   ]
  },
  {
   "cell_type": "code",
   "execution_count": 2,
   "metadata": {},
   "outputs": [],
   "source": [
    "def plot_multiple_fscore(names, scores):\n",
    "    width = 0.3\n",
    "    keys  = list(scores.keys())\n",
    "    score_mean = [scores[keys[i]].mean() for i in range(len(keys))]\n",
    "    av = max(score_mean)*100\n",
    "    \n",
    "    for i in range(len(keys)):\n",
    "        if i==0:\n",
    "            widths = width*-1\n",
    "        if i==1:\n",
    "            widths = width*0\n",
    "        else:\n",
    "            widths = width*1\n",
    "    plt.barh(np.arange(len(scores[keys[0]]))-width, scores[keys[0]]*100, width, align='center', alpha=0.7, label=keys[0])\n",
    "    plt.barh(np.arange(len(scores[keys[0]])), scores[keys[1]]*100, width, align='center', alpha=0.7, label=keys[1])\n",
    "    plt.barh(np.arange(len(scores[keys[0]]))+width, scores[keys[2]]*100, width, align='center', alpha=0.6, label=keys[2])\n",
    "    ax = plt.gca()\n",
    "    ax.set(yticks=np.arange(len(names)), yticklabels=names)\n",
    "    ax.set_xlabel(\"$F_1$ macro (\\%)'\")\n",
    "\n",
    "    ax.axvline(x=av,color='orange', linewidth=1.0, linestyle=\"--\")\n",
    "    a = '{0:0.2f}'.format(av)\n",
    "    b = '$ $'+a\n",
    "    if av > 75:\n",
    "        OFFSET = -0.7\n",
    "        plt.text(av-5,OFFSET,b,color='darkorange', fontsize=18)\n",
    "    else:\n",
    "        OFFSET = 0\n",
    "        plt.text(av,OFFSET,b,color='darkorange')\n",
    "    ax.set_ylabel(\"\",fontsize=20)\n",
    "    ax.tick_params(axis='both', which='major', labelsize=20)\n",
    "    leg=legend(ax,ncol=len(keys), pos=(0.5, -0.15))\n",
    "    ax.autoscale(tight=True)\n",
    "   \n"
   ]
  },
  {
   "cell_type": "code",
   "execution_count": 3,
   "metadata": {},
   "outputs": [],
   "source": [
    "def get_score_per_model(dataset=\"plaid\", model_name=\"DNN\"):\n",
    "    width=50\n",
    "    baseline = False if model_name==\"DNN\" else True\n",
    "    if model_name==\"MLkNN\":\n",
    "        model_name=\"MLKNNbaseline\" \n",
    "    elif model_name==\"BRkNN\":\n",
    "        model_name=\"BRKNNbaseline\" \n",
    "    else:\n",
    "        model_name=\"CNN\"\n",
    "        \n",
    "    results_all = {}\n",
    "    per_appliances = {}\n",
    "    for image_type in [ \"current\", \"vi-binary\", \"vi\", \"decomposed_current\", \"distance\", \"decomposed_distance\", \"decomposed_vi\"]:\n",
    "        file_name = f\"CNNModel_{dataset}_{image_type}_softmax\" if not baseline else f\"{model_name}_{dataset}_{image_type}\"\n",
    "        pred = np.load(\"../results/\"+file_name+\"_pred.npy\")\n",
    "        true = np.load(\"../results/\"+file_name+\"_true.npy\")\n",
    "\n",
    "        results = np.load(\"../results/\"+file_name+\"_results.npy\", allow_pickle=True).item()\n",
    "        columns  = list(results.keys())\n",
    "        results = [results[key] for i, key in enumerate(list(results.keys()) )]\n",
    "        results = pd.concat(results, axis=1, join='inner')\n",
    "        results.columns = columns\n",
    "        results['mean']=results.mean(axis=1)\n",
    "        results['std']=results.std(axis=1)\n",
    "        per_appliances[image_type]=example_f1_score(true,pred, per_sample=True, axis=0)\n",
    "        #per_appliances[image_type]=multilabel_fscore(true, pred)\n",
    "        results_all[image_type]=results\n",
    "    return results_all, per_appliances"
   ]
  },
  {
   "cell_type": "code",
   "execution_count": 4,
   "metadata": {},
   "outputs": [],
   "source": [
    "results_model_all = {}\n",
    "results_model_per_app = {}\n",
    "for model_name in [\"DNN\", \"MLkNN\", \"BRkNN\"]:\n",
    "    res_all, res_app = get_score_per_model(dataset=\"plaid\", model_name=model_name)\n",
    "    results_model_all[model_name] = res_all\n",
    "    results_model_per_app[model_name] = res_app"
   ]
  },
  {
   "cell_type": "code",
   "execution_count": 5,
   "metadata": {},
   "outputs": [
    {
     "data": {
      "text/html": [
       "<div>\n",
       "<style scoped>\n",
       "    .dataframe tbody tr th:only-of-type {\n",
       "        vertical-align: middle;\n",
       "    }\n",
       "\n",
       "    .dataframe tbody tr th {\n",
       "        vertical-align: top;\n",
       "    }\n",
       "\n",
       "    .dataframe thead th {\n",
       "        text-align: right;\n",
       "    }\n",
       "</style>\n",
       "<table border=\"1\" class=\"dataframe\">\n",
       "  <thead>\n",
       "    <tr style=\"text-align: right;\">\n",
       "      <th></th>\n",
       "      <th>1</th>\n",
       "      <th>2</th>\n",
       "      <th>3</th>\n",
       "      <th>4</th>\n",
       "      <th>5</th>\n",
       "      <th>6</th>\n",
       "      <th>7</th>\n",
       "      <th>8</th>\n",
       "      <th>9</th>\n",
       "      <th>10</th>\n",
       "      <th>mean</th>\n",
       "      <th>std</th>\n",
       "    </tr>\n",
       "  </thead>\n",
       "  <tbody>\n",
       "    <tr>\n",
       "      <th>subACC</th>\n",
       "      <td>0.580</td>\n",
       "      <td>0.626</td>\n",
       "      <td>0.607</td>\n",
       "      <td>0.614</td>\n",
       "      <td>0.617</td>\n",
       "      <td>0.637</td>\n",
       "      <td>0.706</td>\n",
       "      <td>0.629</td>\n",
       "      <td>0.689</td>\n",
       "      <td>0.554</td>\n",
       "      <td>0.626</td>\n",
       "      <td>0.043</td>\n",
       "    </tr>\n",
       "    <tr>\n",
       "      <th>JACC</th>\n",
       "      <td>0.616</td>\n",
       "      <td>0.639</td>\n",
       "      <td>0.637</td>\n",
       "      <td>0.648</td>\n",
       "      <td>0.687</td>\n",
       "      <td>0.681</td>\n",
       "      <td>0.719</td>\n",
       "      <td>0.657</td>\n",
       "      <td>0.717</td>\n",
       "      <td>0.610</td>\n",
       "      <td>0.661</td>\n",
       "      <td>0.037</td>\n",
       "    </tr>\n",
       "    <tr>\n",
       "      <th>HA</th>\n",
       "      <td>0.940</td>\n",
       "      <td>0.948</td>\n",
       "      <td>0.948</td>\n",
       "      <td>0.949</td>\n",
       "      <td>0.952</td>\n",
       "      <td>0.954</td>\n",
       "      <td>0.962</td>\n",
       "      <td>0.949</td>\n",
       "      <td>0.962</td>\n",
       "      <td>0.940</td>\n",
       "      <td>0.950</td>\n",
       "      <td>0.007</td>\n",
       "    </tr>\n",
       "    <tr>\n",
       "      <th>ebF1</th>\n",
       "      <td>0.777</td>\n",
       "      <td>0.793</td>\n",
       "      <td>0.812</td>\n",
       "      <td>0.811</td>\n",
       "      <td>0.827</td>\n",
       "      <td>0.826</td>\n",
       "      <td>0.842</td>\n",
       "      <td>0.807</td>\n",
       "      <td>0.844</td>\n",
       "      <td>0.761</td>\n",
       "      <td>0.810</td>\n",
       "      <td>0.025</td>\n",
       "    </tr>\n",
       "    <tr>\n",
       "      <th>miF1</th>\n",
       "      <td>0.740</td>\n",
       "      <td>0.771</td>\n",
       "      <td>0.776</td>\n",
       "      <td>0.777</td>\n",
       "      <td>0.796</td>\n",
       "      <td>0.800</td>\n",
       "      <td>0.820</td>\n",
       "      <td>0.773</td>\n",
       "      <td>0.828</td>\n",
       "      <td>0.747</td>\n",
       "      <td>0.783</td>\n",
       "      <td>0.027</td>\n",
       "    </tr>\n",
       "    <tr>\n",
       "      <th>maF1</th>\n",
       "      <td>0.740</td>\n",
       "      <td>0.762</td>\n",
       "      <td>0.765</td>\n",
       "      <td>0.773</td>\n",
       "      <td>0.797</td>\n",
       "      <td>0.798</td>\n",
       "      <td>0.817</td>\n",
       "      <td>0.770</td>\n",
       "      <td>0.827</td>\n",
       "      <td>0.745</td>\n",
       "      <td>0.779</td>\n",
       "      <td>0.028</td>\n",
       "    </tr>\n",
       "    <tr>\n",
       "      <th>meanAUC</th>\n",
       "      <td>0.897</td>\n",
       "      <td>0.912</td>\n",
       "      <td>0.918</td>\n",
       "      <td>0.913</td>\n",
       "      <td>0.912</td>\n",
       "      <td>0.923</td>\n",
       "      <td>0.920</td>\n",
       "      <td>0.906</td>\n",
       "      <td>0.942</td>\n",
       "      <td>0.892</td>\n",
       "      <td>0.914</td>\n",
       "      <td>0.013</td>\n",
       "    </tr>\n",
       "    <tr>\n",
       "      <th>medianAUC</th>\n",
       "      <td>0.940</td>\n",
       "      <td>0.921</td>\n",
       "      <td>0.932</td>\n",
       "      <td>0.914</td>\n",
       "      <td>0.912</td>\n",
       "      <td>0.942</td>\n",
       "      <td>0.935</td>\n",
       "      <td>0.943</td>\n",
       "      <td>0.936</td>\n",
       "      <td>0.901</td>\n",
       "      <td>0.927</td>\n",
       "      <td>0.014</td>\n",
       "    </tr>\n",
       "    <tr>\n",
       "      <th>meanAUPR</th>\n",
       "      <td>0.770</td>\n",
       "      <td>0.797</td>\n",
       "      <td>0.797</td>\n",
       "      <td>0.803</td>\n",
       "      <td>0.821</td>\n",
       "      <td>0.819</td>\n",
       "      <td>0.831</td>\n",
       "      <td>0.794</td>\n",
       "      <td>0.845</td>\n",
       "      <td>0.769</td>\n",
       "      <td>0.805</td>\n",
       "      <td>0.024</td>\n",
       "    </tr>\n",
       "    <tr>\n",
       "      <th>medianAUPR</th>\n",
       "      <td>0.789</td>\n",
       "      <td>0.779</td>\n",
       "      <td>0.792</td>\n",
       "      <td>0.772</td>\n",
       "      <td>0.824</td>\n",
       "      <td>0.848</td>\n",
       "      <td>0.815</td>\n",
       "      <td>0.839</td>\n",
       "      <td>0.818</td>\n",
       "      <td>0.736</td>\n",
       "      <td>0.801</td>\n",
       "      <td>0.032</td>\n",
       "    </tr>\n",
       "    <tr>\n",
       "      <th>meanFDR</th>\n",
       "      <td>0.669</td>\n",
       "      <td>0.695</td>\n",
       "      <td>0.711</td>\n",
       "      <td>0.720</td>\n",
       "      <td>0.785</td>\n",
       "      <td>0.764</td>\n",
       "      <td>0.822</td>\n",
       "      <td>0.735</td>\n",
       "      <td>0.916</td>\n",
       "      <td>0.772</td>\n",
       "      <td>0.759</td>\n",
       "      <td>0.068</td>\n",
       "    </tr>\n",
       "    <tr>\n",
       "      <th>medianFDR</th>\n",
       "      <td>0.900</td>\n",
       "      <td>0.783</td>\n",
       "      <td>0.846</td>\n",
       "      <td>0.847</td>\n",
       "      <td>0.873</td>\n",
       "      <td>0.905</td>\n",
       "      <td>0.913</td>\n",
       "      <td>0.908</td>\n",
       "      <td>0.913</td>\n",
       "      <td>0.867</td>\n",
       "      <td>0.875</td>\n",
       "      <td>0.039</td>\n",
       "    </tr>\n",
       "    <tr>\n",
       "      <th>meanMCC</th>\n",
       "      <td>0.719</td>\n",
       "      <td>0.749</td>\n",
       "      <td>0.751</td>\n",
       "      <td>0.758</td>\n",
       "      <td>0.779</td>\n",
       "      <td>0.780</td>\n",
       "      <td>0.800</td>\n",
       "      <td>0.751</td>\n",
       "      <td>0.814</td>\n",
       "      <td>0.720</td>\n",
       "      <td>0.762</td>\n",
       "      <td>0.030</td>\n",
       "    </tr>\n",
       "    <tr>\n",
       "      <th>medianMCC</th>\n",
       "      <td>0.741</td>\n",
       "      <td>0.724</td>\n",
       "      <td>0.734</td>\n",
       "      <td>0.724</td>\n",
       "      <td>0.767</td>\n",
       "      <td>0.815</td>\n",
       "      <td>0.773</td>\n",
       "      <td>0.801</td>\n",
       "      <td>0.786</td>\n",
       "      <td>0.686</td>\n",
       "      <td>0.755</td>\n",
       "      <td>0.038</td>\n",
       "    </tr>\n",
       "  </tbody>\n",
       "</table>\n",
       "</div>"
      ],
      "text/plain": [
       "                1      2      3      4      5      6      7      8      9  \\\n",
       "subACC      0.580  0.626  0.607  0.614  0.617  0.637  0.706  0.629  0.689   \n",
       "JACC        0.616  0.639  0.637  0.648  0.687  0.681  0.719  0.657  0.717   \n",
       "HA          0.940  0.948  0.948  0.949  0.952  0.954  0.962  0.949  0.962   \n",
       "ebF1        0.777  0.793  0.812  0.811  0.827  0.826  0.842  0.807  0.844   \n",
       "miF1        0.740  0.771  0.776  0.777  0.796  0.800  0.820  0.773  0.828   \n",
       "maF1        0.740  0.762  0.765  0.773  0.797  0.798  0.817  0.770  0.827   \n",
       "meanAUC     0.897  0.912  0.918  0.913  0.912  0.923  0.920  0.906  0.942   \n",
       "medianAUC   0.940  0.921  0.932  0.914  0.912  0.942  0.935  0.943  0.936   \n",
       "meanAUPR    0.770  0.797  0.797  0.803  0.821  0.819  0.831  0.794  0.845   \n",
       "medianAUPR  0.789  0.779  0.792  0.772  0.824  0.848  0.815  0.839  0.818   \n",
       "meanFDR     0.669  0.695  0.711  0.720  0.785  0.764  0.822  0.735  0.916   \n",
       "medianFDR   0.900  0.783  0.846  0.847  0.873  0.905  0.913  0.908  0.913   \n",
       "meanMCC     0.719  0.749  0.751  0.758  0.779  0.780  0.800  0.751  0.814   \n",
       "medianMCC   0.741  0.724  0.734  0.724  0.767  0.815  0.773  0.801  0.786   \n",
       "\n",
       "               10   mean    std  \n",
       "subACC      0.554  0.626  0.043  \n",
       "JACC        0.610  0.661  0.037  \n",
       "HA          0.940  0.950  0.007  \n",
       "ebF1        0.761  0.810  0.025  \n",
       "miF1        0.747  0.783  0.027  \n",
       "maF1        0.745  0.779  0.028  \n",
       "meanAUC     0.892  0.914  0.013  \n",
       "medianAUC   0.901  0.927  0.014  \n",
       "meanAUPR    0.769  0.805  0.024  \n",
       "medianAUPR  0.736  0.801  0.032  \n",
       "meanFDR     0.772  0.759  0.068  \n",
       "medianFDR   0.867  0.875  0.039  \n",
       "meanMCC     0.720  0.762  0.030  \n",
       "medianMCC   0.686  0.755  0.038  "
      ]
     },
     "execution_count": 5,
     "metadata": {},
     "output_type": "execute_result"
    }
   ],
   "source": [
    "results_model_all[\"MLkNN\"][\"vi-binary\"].round(3)\n",
    "#results_model_per_app[\"DNN\"][\"current\"]"
   ]
  },
  {
   "cell_type": "code",
   "execution_count": 6,
   "metadata": {},
   "outputs": [],
   "source": [
    "def plot_model(results_model_all, loc=5):\n",
    "    title_label = [\"$ACC$\", \"$JACC$\", \"$HA$\", '$\\mathrm{eb}F_1$', '$\\mathrm{mi}F_1$', \"$\\mathrm{ma}F_1$\"]\n",
    "    #mean_vi_imax=[results_model_all[model]['vi']['mean'].iloc[loc] for model in [\"DNN\", \"MLkNN\", \"BRkNN\"]]\n",
    "    #std_vi_max=[results_model_all[model]['vi']['std'].iloc[loc] for model in [\"DNN\", \"MLkNN\", \"BRkNN\"]]\n",
    "\n",
    "    mean_vi=[results_model_all[model]['vi-binary']['mean'].iloc[loc] for model in [\"DNN\", \"MLkNN\", \"BRkNN\"]]\n",
    "    std_vi=[results_model_all[model]['vi-binary']['std'].iloc[loc] for model in [\"DNN\", \"MLkNN\", \"BRkNN\"]]\n",
    "\n",
    "    mean_current=[results_model_all[model]['current']['mean'].iloc[loc] for model in [\"DNN\", \"MLkNN\", \"BRkNN\"]]\n",
    "    std_current=[results_model_all[model]['current']['std'].iloc[loc] for model in [\"DNN\", \"MLkNN\", \"BRkNN\"]]\n",
    "\n",
    "    mean_decompose_current=[results_model_all[model]['decomposed_current']['mean'].iloc[loc] for model in [\"DNN\", \"MLkNN\", \"BRkNN\"]]\n",
    "    std_decompose_current=[results_model_all[model]['decomposed_current']['std'].iloc[loc] for model in [\"DNN\", \"MLkNN\", \"BRkNN\"]]\n",
    "\n",
    "    mean_distance=[results_model_all[model]['distance']['mean'].iloc[loc] for model in [\"DNN\", \"MLkNN\", \"BRkNN\"]]\n",
    "    std_distance=[results_model_all[model]['distance']['std'].iloc[loc] for model in [\"DNN\", \"MLkNN\", \"BRkNN\"]]\n",
    "\n",
    "    mean_distance_decomposed=[results_model_all[model]['decomposed_distance']['mean'].iloc[loc] for model in [\"DNN\", \"MLkNN\", \"BRkNN\"]]\n",
    "    std_distance_decomposed=[results_model_all[model]['decomposed_distance']['std'].iloc[loc] for model in [\"DNN\", \"MLkNN\", \"BRkNN\"]]\n",
    "\n",
    "    mean_vi_decomposed=[results_model_all[model]['decomposed_vi']['mean'].iloc[loc] for model in [\"DNN\", \"MLkNN\", \"BRkNN\"]]\n",
    "    std_vi_decomposed=[results_model_all[model]['decomposed_vi']['std'].iloc[loc] for model in [\"DNN\", \"MLkNN\", \"BRkNN\"]]\n",
    "\n",
    "    fig=figure(fig_width=8, fig_height=7)\n",
    "    barWidth = 0.2\n",
    "    # The x position of bars\n",
    "    r1 = np.arange(len(mean_vi))\n",
    "    plt.bar(r1-barWidth, mean_vi, width = barWidth,  yerr=std_vi, capsize=7, label='V-I')\n",
    "    #plt.bar(r1-barWidth, mean_current, width = barWidth,  yerr=std_current, capsize=7, label='Current')\n",
    "    #plt.bar(r1-barWidth, mean_vi_imax, width = barWidth,  yerr=std_vi_max, capsize=7, label='V-I', alpha=0.6)\n",
    "    plt.bar(r1, mean_decompose_current, width = barWidth,  yerr=std_decompose_current, capsize=7, label='Decomposed current')\n",
    "    plt.bar(r1+barWidth, mean_distance, width = barWidth,  yerr=std_distance, capsize=7, label='Distance matrix')\n",
    "    plt.bar(r1+barWidth*2, mean_distance_decomposed, width = barWidth,  yerr=std_distance_decomposed, capsize=7, label='Decomposed distance matrix')\n",
    "    plt.xticks(r1+barWidth, [\"CNN\", \"MLkNN\", \"BRkNN\"]);\n",
    "\n",
    "    ax = plt.gca()  \n",
    "    format_axes(ax)\n",
    "    ax.set_ylabel(f'{title_label[loc]} score', fontsize=20)\n",
    "    ax.set_xlabel(\"\",fontsize=20)\n",
    "    ax.tick_params(axis='both', which='major', labelsize=20)\n",
    "    ax.autoscale(tight=True)\n",
    "    ax.set_ylim(0.5, 1.0);\n",
    "    ax.legend(fontsize=14)"
   ]
  },
  {
   "cell_type": "code",
   "execution_count": 7,
   "metadata": {},
   "outputs": [],
   "source": [
    "def plot_model_current(results_model_all, loc=5):\n",
    "    title_label = [\"$ACC$\", \"$JACC$\", \"$HA$\", '$\\mathrm{eb}F_1$', '$\\mathrm{mi}F_1$', \"$\\mathrm{ma}F_1$\"]\n",
    "    #mean_vi_imax=[results_model_all[model]['vi']['mean'].iloc[loc] for model in [\"DNN\", \"MLkNN\", \"BRkNN\"]]\n",
    "    #std_vi_max=[results_model_all[model]['vi']['std'].iloc[loc] for model in [\"DNN\", \"MLkNN\", \"BRkNN\"]]\n",
    "\n",
    "    mean_vi=[results_model_all[model]['vi-binary']['mean'].iloc[loc] for model in [\"DNN\", \"MLkNN\", \"BRkNN\"]]\n",
    "    std_vi=[results_model_all[model]['vi-binary']['std'].iloc[loc] for model in [\"DNN\", \"MLkNN\", \"BRkNN\"]]\n",
    "\n",
    "    mean_current=[results_model_all[model]['current']['mean'].iloc[loc] for model in [\"DNN\", \"MLkNN\", \"BRkNN\"]]\n",
    "    std_current=[results_model_all[model]['current']['std'].iloc[loc] for model in [\"DNN\", \"MLkNN\", \"BRkNN\"]]\n",
    "\n",
    "    #mean_decompose_current=[results_model_all[model]['decomposed_current']['mean'].iloc[loc] for model in [\"DNN\", \"MLkNN\", \"BRkNN\"]]\n",
    "    #std_decompose_current=[results_model_all[model]['decomposed_current']['std'].iloc[loc] for model in [\"DNN\", \"MLkNN\", \"BRkNN\"]]\n",
    "\n",
    "    #mean_distance=[results_model_all[model]['distance']['mean'].iloc[loc] for model in [\"DNN\", \"MLkNN\", \"BRkNN\"]]\n",
    "    #std_distance=[results_model_all[model]['distance']['std'].iloc[loc] for model in [\"DNN\", \"MLkNN\", \"BRkNN\"]]\n",
    "\n",
    "    #mean_distance_decomposed=[results_model_all[model]['decomposed_distance']['mean'].iloc[loc] for model in [\"DNN\", \"MLkNN\", \"BRkNN\"]]\n",
    "    #std_distance_decomposed=[results_model_all[model]['decomposed_distance']['std'].iloc[loc] for model in [\"DNN\", \"MLkNN\", \"BRkNN\"]]\n",
    "\n",
    "    #mean_vi_decomposed=[results_model_all[model]['decomposed_vi']['mean'].iloc[loc] for model in [\"DNN\", \"MLkNN\", \"BRkNN\"]]\n",
    "    #std_vi_decomposed=[results_model_all[model]['decomposed_vi']['std'].iloc[loc] for model in [\"DNN\", \"MLkNN\", \"BRkNN\"]]\n",
    "\n",
    "    fig=figure(fig_width=8, fig_height=7)\n",
    "    barWidth = 0.25\n",
    "    # The x position of bars\n",
    "    r1 = np.arange(len(mean_vi))\n",
    "    \n",
    "    plt.bar(r1, mean_current, width = barWidth,  yerr=std_current, capsize=7, label='Current')\n",
    "    plt.bar(r1+barWidth, mean_vi, width = barWidth,  yerr=std_vi, capsize=7, label='VI-binary')\n",
    "    #plt.bar(r1-barWidth, mean_vi_imax, width = barWidth,  yerr=std_vi_max, capsize=7, label='Binary-VI with $i_{max}$', alpha=0.6)\n",
    "    #plt.bar(r1, mean_decompose_current, width = barWidth,  yerr=std_decompose_current, capsize=7, label='decomposed-current', alpha=0.6)\n",
    "    #plt.bar(r1+barWidth, mean_distance, width = barWidth,  yerr=std_distance, capsize=7, label='Distance matrix', alpha=0.6)\n",
    "    #plt.bar(r1+barWidth*2, mean_distance_decomposed, width = barWidth,  yerr=std_distance_decomposed, capsize=7, label='Decomposed-distance', alpha=0.6)\n",
    "    plt.xticks(r1+barWidth*0.5, [\"CNN\", \"MLkNN\", \"BRkNN\"]);\n",
    "\n",
    "    ax = plt.gca()\n",
    "    \n",
    "    \n",
    "    ax.set_ylabel(f'{title_label[loc]} score', fontsize=20)\n",
    "    ax.set_xlabel(\"\",fontsize=20)\n",
    "    ax.tick_params(axis='both', which='major', labelsize=20)\n",
    "    ax.set_xlabel(f'Number of active appliances', fontsize=18)     \n",
    "    ax.tick_params(axis='both', which='major', labelsize=18)\n",
    "    format_axes(ax)\n",
    "    ax.autoscale(tight=True)\n",
    "   \n",
    "    ax.set_ylim(0.5, 1);\n",
    "    ax.legend(fontsize=14)"
   ]
  },
  {
   "cell_type": "code",
   "execution_count": 8,
   "metadata": {},
   "outputs": [
    {
     "data": {
      "image/png": "[encoded data removed]",
      "text/plain": [
       "<Figure size 576x504 with 1 Axes>"
      ]
     },
     "metadata": {
      "needs_background": "light"
     },
     "output_type": "display_data"
    }
   ],
   "source": [
    "plot_model_current(results_model_all, loc=5)\n",
    "#savefig(fig_path+\"plaid_maf1score_current\", format=\".pdf\")"
   ]
  },
  {
   "cell_type": "code",
   "execution_count": 9,
   "metadata": {},
   "outputs": [
    {
     "data": {
      "image/png": "[encoded data removed]",
      "text/plain": [
       "<Figure size 576x504 with 1 Axes>"
      ]
     },
     "metadata": {
      "needs_background": "light"
     },
     "output_type": "display_data"
    }
   ],
   "source": [
    "plot_model(results_model_all, loc=5)\n",
    "#savefig(fig_path+\"plaid_maff1score_current_features\", format=\".png\")"
   ]
  },
  {
   "cell_type": "code",
   "execution_count": 10,
   "metadata": {},
   "outputs": [
    {
     "data": {
      "image/png": "[encoded data removed]",
      "text/plain": [
       "<Figure size 576x504 with 1 Axes>"
      ]
     },
     "metadata": {
      "needs_background": "light"
     },
     "output_type": "display_data"
    }
   ],
   "source": [
    "plot_model(results_model_all, loc=0)\n",
    "#savefig(fig_path+\"plaid_accf1score_current_feature\", format=\".pdf\")"
   ]
  },
  {
   "cell_type": "code",
   "execution_count": 11,
   "metadata": {},
   "outputs": [
    {
     "data": {
      "image/png": "[encoded data removed]",
      "text/plain": [
       "<Figure size 576x504 with 1 Axes>"
      ]
     },
     "metadata": {
      "needs_background": "light"
     },
     "output_type": "display_data"
    }
   ],
   "source": [
    "plot_model_current(results_model_all, loc=0)\n",
    "#savefig(fig_path+\"plaid_accf1score\", format=\".pdf\")"
   ]
  },
  {
   "cell_type": "markdown",
   "metadata": {},
   "source": [
    "## Appliance based score"
   ]
  },
  {
   "cell_type": "code",
   "execution_count": 12,
   "metadata": {},
   "outputs": [],
   "source": [
    "df = pd.DataFrame(plaid_names, columns=[\"Appliances\"]) \n",
    "df['VI-Binary']=results_model_per_app[\"DNN\"]['vi-binary']\n",
    "df['Current']=results_model_per_app[\"DNN\"]['current']\n",
    "df['Distance-matrix']=results_model_per_app[\"DNN\"]['distance']\n",
    "df['Decomposed-current']=results_model_per_app[\"DNN\"]['decomposed_current']\n",
    "df['Decomposed-distance']=results_model_per_app[\"DNN\"]['decomposed_distance']"
   ]
  },
  {
   "cell_type": "code",
   "execution_count": 13,
   "metadata": {},
   "outputs": [
    {
     "data": {
      "image/png": "[encoded data removed]",
      "text/plain": [
       "<Figure size 432x432 with 1 Axes>"
      ]
     },
     "metadata": {
      "needs_background": "light"
     },
     "output_type": "display_data"
    }
   ],
   "source": [
    "fig = figure(fig_width=6, fig_height=6)\n",
    "barWidth = 0.35\n",
    "r1 = np.arange(len(df['Current'].values))\n",
    "volgorde = np.argsort(df['VI-Binary'].values)\n",
    "plt.barh(r1,df['Current'].values[volgorde ], height=barWidth,   label='Current')\n",
    "plt.barh(r1+barWidth,df['VI-Binary'].values[volgorde], height=barWidth,   label='VI binary image')\n",
    "plt.yticks(r1+barWidth*0.5, df.Appliances.values);\n",
    "\n",
    "ax = plt.gca() \n",
    "ax.axvline(x=0.9,color='orange', linewidth=1.0, linestyle=\"--\")\n",
    "ax.set_xlabel('$\\mathrm{eb}F_1$ score', fontsize=20)\n",
    "ax.set_ylabel(\"\",fontsize=18)\n",
    "ax.tick_params(axis='both', which='major', labelsize=18)\n",
    "format_axes(ax)\n",
    "ax.autoscale(tight=True)\n",
    "ax.set_xlim(0.5, 1);\n",
    "leg=legend(ax,ncol=2, pos=(0.5, -0.15))    \n",
    "#savefig(fig_path+\"plaid_dnn_per_appliances\", format=\".pdf\", leg=leg)"
   ]
  },
  {
   "cell_type": "markdown",
   "metadata": {},
   "source": [
    "## MLKNN"
   ]
  },
  {
   "cell_type": "code",
   "execution_count": 14,
   "metadata": {},
   "outputs": [],
   "source": [
    "mlknn = pd.DataFrame(plaid_names, columns=[\"Appliances\"]) \n",
    "mlknn['VI-Binary']=results_model_per_app[\"MLkNN\"]['vi-binary']\n",
    "mlknn['Current']=results_model_per_app[\"MLkNN\"]['current']\n",
    "mlknn['Distance-matrix']=results_model_per_app[\"MLkNN\"]['distance']\n",
    "mlknn['Decomposed-current']=results_model_per_app[\"MLkNN\"]['decomposed_current']\n",
    "mlknn['Decomposed-distance']=results_model_per_app[\"MLkNN\"]['decomposed_distance']"
   ]
  },
  {
   "cell_type": "code",
   "execution_count": 15,
   "metadata": {},
   "outputs": [
    {
     "data": {
      "image/png": "[encoded data removed]",
      "text/plain": [
       "<Figure size 432x432 with 1 Axes>"
      ]
     },
     "metadata": {
      "needs_background": "light"
     },
     "output_type": "display_data"
    }
   ],
   "source": [
    "fig = figure(fig_width=6, fig_height=6)\n",
    "barWidth = 0.35\n",
    "r1 = np.arange(len(mlknn['Current'].values))\n",
    "volgorde = np.argsort(df['VI-Binary'].values)\n",
    "plt.barh(r1,mlknn['Current'].values[volgorde ], height=barWidth,   label='Current')\n",
    "plt.barh(r1+barWidth,mlknn['VI-Binary'].values[volgorde], height=barWidth,   label='VI binary image')\n",
    "plt.yticks(r1+barWidth*0.5, mlknn.Appliances.values);\n",
    "\n",
    "ax = plt.gca() \n",
    "ax.axvline(x=0.9,color='orange', linewidth=1.0, linestyle=\"--\")\n",
    "ax.set_xlabel('$\\mathrm{eb}F_1$ score', fontsize=20)\n",
    "ax.set_ylabel(\"\",fontsize=18)\n",
    "ax.tick_params(axis='both', which='major', labelsize=18)\n",
    "format_axes(ax)\n",
    "ax.autoscale(tight=True)\n",
    "ax.set_xlim(0.5, 1);\n",
    "leg=legend(ax,ncol=2, pos=(0.5, -0.15))    \n",
    "#savefig(fig_path+\"plaid_mlknn_per_appliances\", format=\".pdf\", leg=leg)"
   ]
  },
  {
   "cell_type": "code",
   "execution_count": 219,
   "metadata": {},
   "outputs": [],
   "source": [
    "fig = figure(fig_width=6, fig_height=8)\n",
    "barWidth = 0.2\n",
    "r1 = np.arange(len(mlknn['Current'].values))\n",
    "volgorde = np.argsort(df['VI-Binary'].values)\n",
    "plt.barh(r1-barWidth,mlknn['VI-Binary'].values[volgorde ], height=barWidth,   label='VI-Binary')\n",
    "plt.barh(r1,mlknn['Decomposed-current'].values[volgorde ], height=barWidth,   label='Decomposed-current')\n",
    "plt.barh(r1+barWidth,mlknn['Distance-matrix'].values[volgorde], height=barWidth,   label='Distance')\n",
    "plt.barh(r1+barWidth*2,mlknn['Decomposed-distance'].values[volgorde], height=barWidth,   label='Decomposed-Distance')\n",
    "plt.yticks(r1+barWidth, mlknn.Appliances.values);\n",
    "\n",
    "ax = plt.gca() \n",
    "ax.axvline(x=0.9,color='orange', linewidth=1.0, linestyle=\"--\")\n",
    "ax.set_xlabel('$\\mathrm{eb}F_1$ score', fontsize=20)\n",
    "ax.set_ylabel(\"\",fontsize=18)\n",
    "ax.tick_params(axis='both', which='major', labelsize=18)\n",
    "format_axes(ax)\n",
    "ax.autoscale(tight=True)\n",
    "ax.set_xlim(0.5, 1);\n",
    "leg=legend(ax,ncol=2, pos=(0.5, -0.15))    \n",
    "savefig(fig_path+\"plaid_mlkknn_per_appliances_current_feature\", format=\".pdf\", leg=leg)"
   ]
  },
  {
   "cell_type": "code",
   "execution_count": 16,
   "metadata": {},
   "outputs": [
    {
     "data": {
      "image/png": "[encoded data removed]",
      "text/plain": [
       "<Figure size 432x576 with 1 Axes>"
      ]
     },
     "metadata": {
      "needs_background": "light"
     },
     "output_type": "display_data"
    }
   ],
   "source": [
    "fig = figure(fig_width=6, fig_height=8)\n",
    "barWidth = 0.4\n",
    "r1 = np.arange(len(mlknn['Current'].values))\n",
    "volgorde = np.argsort(df['VI-Binary'].values)\n",
    "plt.barh(r1,mlknn['Decomposed-distance'].values[volgorde ], height=barWidth,   label='MLkNN',color='C3')\n",
    "plt.barh(r1+barWidth,df['Decomposed-distance'].values[volgorde ], height=barWidth,   label='CNN', color='C2')\n",
    "plt.yticks(r1+barWidth, mlknn.Appliances.values);\n",
    "\n",
    "ax = plt.gca() \n",
    "ax.axvline(x=0.9,color='orange', linewidth=1.0, linestyle=\"--\")\n",
    "ax.set_xlabel('$\\mathrm{eb}F_1$ score', fontsize=20)\n",
    "ax.set_ylabel(\"\",fontsize=18)\n",
    "ax.tick_params(axis='both', which='major', labelsize=18)\n",
    "format_axes(ax)\n",
    "ax.autoscale(tight=True)\n",
    "ax.set_xlim(0.5, 1);\n",
    "leg=legend(ax,ncol=2, pos=(0.5, -0.15)) \n",
    "#savefig(fig_path+\"plaid_mlkknn_cnn_per_appliances_decomposed_distance\", format=\".png\", leg=leg)"
   ]
  },
  {
   "cell_type": "code",
   "execution_count": 222,
   "metadata": {},
   "outputs": [
    {
     "data": {
      "image/png": "[encoded data removed]",
      "text/plain": [
       "<Figure size 432x432 with 1 Axes>"
      ]
     },
     "metadata": {
      "needs_background": "light"
     },
     "output_type": "display_data"
    }
   ],
   "source": [
    "fig = figure(fig_width=6, fig_height=6)\n",
    "barWidth = 0.4\n",
    "r1 = np.arange(len(mlknn['Current'].values))\n",
    "volgorde = np.argsort(df['VI-Binary'].values)\n",
    "plt.barh(r1,mlknn['Decomposed-current'].values[volgorde ], height=barWidth,   label='MLkNN',color='C3')\n",
    "plt.barh(r1+barWidth,df['Decomposed-current'].values[volgorde ], height=barWidth,   label='CNN', color='C2')\n",
    "plt.yticks(r1+barWidth, mlknn.Appliances.values);\n",
    "\n",
    "ax = plt.gca() \n",
    "ax.axvline(x=0.9,color='orange', linewidth=1.0, linestyle=\"--\")\n",
    "ax.set_xlabel('$\\mathrm{eb}F_1$ score', fontsize=20)\n",
    "ax.set_ylabel(\"\",fontsize=18)\n",
    "ax.tick_params(axis='both', which='major', labelsize=18)\n",
    "format_axes(ax)\n",
    "ax.autoscale(tight=True)\n",
    "ax.set_xlim(0.5, 1);\n",
    "leg=legend(ax,ncol=2, pos=(0.5, -0.15)) \n",
    "#savefig(fig_path+\"plaid_mlkknn_cnn_per_appliances_decomposed_distance\", format=\".pdf\", leg=leg)"
   ]
  },
  {
   "cell_type": "code",
   "execution_count": 17,
   "metadata": {},
   "outputs": [
    {
     "data": {
      "image/png": "[encoded data removed]",
      "text/plain": [
       "<Figure size 432x576 with 1 Axes>"
      ]
     },
     "metadata": {
      "needs_background": "light"
     },
     "output_type": "display_data"
    }
   ],
   "source": [
    "fig = figure(fig_width=6, fig_height=8)\n",
    "barWidth = 0.2\n",
    "r1 = np.arange(len(df['Current'].values))\n",
    "volgorde = np.argsort(df['VI-Binary'].values)\n",
    "plt.barh(r1-barWidth,mlknn['VI-Binary'].values[volgorde ], height=barWidth,   label='V-I')\n",
    "plt.barh(r1,df['Decomposed-current'].values[volgorde ], height=barWidth,   label='Decomposed-current')\n",
    "plt.barh(r1+barWidth,df['Distance-matrix'].values[volgorde], height=barWidth,   label='Distance')\n",
    "plt.barh(r1+barWidth*2,df['Decomposed-distance'].values[volgorde], height=barWidth,   label='Decomposed-Distance')\n",
    "plt.yticks(r1+barWidth, df.Appliances.values);\n",
    "\n",
    "ax = plt.gca() \n",
    "ax.axvline(x=0.9,color='orange', linewidth=1.0, linestyle=\"--\")\n",
    "ax.set_xlabel('$\\mathrm{eb}F_1$ score', fontsize=20)\n",
    "ax.set_ylabel(\"\",fontsize=18)\n",
    "ax.tick_params(axis='both', which='major', labelsize=18)\n",
    "format_axes(ax)\n",
    "ax.autoscale(tight=True)\n",
    "ax.set_xlim(0.5, 1);\n",
    "leg=legend(ax,ncol=2, pos=(0.5, -0.15))    \n",
    "#savefig(fig_path+\"plaid_dnn_per_appliances_current_feature\", format=\".png\", leg=leg)"
   ]
  },
  {
   "cell_type": "markdown",
   "metadata": {},
   "source": [
    "## Per-appliances score"
   ]
  },
  {
   "cell_type": "markdown",
   "metadata": {},
   "source": [
    "## Error Analysis"
   ]
  },
  {
   "cell_type": "code",
   "execution_count": 18,
   "metadata": {},
   "outputs": [],
   "source": [
    "from sklearn.preprocessing import MultiLabelBinarizer, StandardScaler\n",
    "def to_categorical(classes):\n",
    "    \"\"\" 1-hot encodes a tensor \"\"\"\n",
    "    num_classes=len(classes)\n",
    "    return np.eye(num_classes, dtype='uint8')[[i for i in range(num_classes)]]\n",
    "\n",
    "\n",
    "def multilabel_hot_decoding(encoding, classes):\n",
    "    index, = np.where(encoding == 1)\n",
    "    appliance=np.array(classes)[index]\n",
    "    return list(appliance)\n",
    "\n",
    "def get_decode_labels(labels, classes):\n",
    "    decoded_label=[]\n",
    "    for label in labels:\n",
    "        decoded_label.append(multilabel_hot_decoding(label,classes))\n",
    "    return decoded_label\n"
   ]
  },
  {
   "cell_type": "code",
   "execution_count": 19,
   "metadata": {},
   "outputs": [],
   "source": [
    "def list_intersection(a, b): \n",
    "    a_set = set(a) \n",
    "    b_set = set(b) \n",
    "    return a_set.intersection(b_set) "
   ]
  },
  {
   "cell_type": "code",
   "execution_count": 20,
   "metadata": {},
   "outputs": [],
   "source": [
    "def errors_analysis(dataset=\"plaid\", image_type=\"current\"):\n",
    "\n",
    "    file_name = f\"CNNModel_{dataset}_{image_type}_softmax\" \n",
    "    pred = np.load(\"../results/\"+file_name+\"_pred.npy\")\n",
    "    true = np.load(\"../results/\"+file_name+\"_true.npy\")\n",
    "    predictions = get_decode_labels(pred, plaid_names)  \n",
    "    corrects     = get_decode_labels(true, plaid_names)\n",
    "    \n",
    "    \n",
    "    active_apps = np.array([len(set(x)) for x in corrects])\n",
    "    l, activations_count=np.unique(active_apps, return_counts=True)\n",
    "    three_activation = []\n",
    "    two_activation   = []\n",
    "    one_activation   = []\n",
    "\n",
    "    incorrect_ids = []\n",
    "    correct_ids = []\n",
    "    for idx in range(len(predictions)):\n",
    "        if set(predictions[idx])==set(corrects[idx]):\n",
    "            correct_ids.append(idx)\n",
    "        else:\n",
    "             incorrect_ids.append(idx)                                       \n",
    "    one_to_many_error = []\n",
    "    one_to_one_error =[]\n",
    "    many_to_one_error = []\n",
    "    many_to_many_error = []\n",
    "    zero_error = []\n",
    "    print(f'Total percentage error: {round(len(np.unique(incorrect_ids))*100/len(predictions), 2)}')\n",
    "    for ids in incorrect_ids:\n",
    "        #print(f\" pred:{str(predictions[ids])} :true:{str(corrects[ids])}\")\n",
    "        if len(predictions[ids])==1 and len(corrects[ids])==1:\n",
    "            one_to_one_error.append(ids)\n",
    "        elif len(predictions[ids])==0 and len(corrects[ids])>=1:\n",
    "            zero_error.append(ids)\n",
    "        else:\n",
    "            many_to_many_error.append(ids)\n",
    "        #if len(predictions[ids])>1 and len(corrects[ids])==1:\n",
    "            #one_to_many_error.append(ids)\n",
    "        #if len(predictions[ids])==1 and len(corrects[ids])>1:\n",
    "           # many_to_one_error.append(ids)\n",
    "        #if len(predictions[ids])>1 and len(corrects[ids])>1:\n",
    "            #many_to_many_error.append(ids)\n",
    "    complete_error = []\n",
    "    one_error = []\n",
    "    two_error = []\n",
    "    three_error =[]\n",
    "\n",
    "    for idx in many_to_many_error:\n",
    "        int_list=list_intersection(predictions[idx], corrects[idx])\n",
    "        if len(int_list)==0:\n",
    "            complete_error.append(idx)\n",
    "        if len(int_list)==2:\n",
    "            one_error.append(idx)\n",
    "        if len(int_list)==1:\n",
    "            two_error.append(idx)\n",
    "        if len(int_list)==3:\n",
    "            three_error.append(idx)\n",
    "    \n",
    "    fourth_activation = []\n",
    "    three_activation = []\n",
    "    two_activation   = []\n",
    "    one_activation   = []\n",
    "    for idx in correct_ids:\n",
    "        if len(corrects[idx])==3:\n",
    "            three_activation.append(idx)\n",
    "        if len(corrects[idx])==2:\n",
    "            two_activation.append(idx)\n",
    "        if len(corrects[idx])==1:\n",
    "            one_activation.append(idx)\n",
    "        if len(corrects[idx])==4:\n",
    "            fourth_activation.append(idx)\n",
    "    print(f'one-activation:{round(len(one_activation)*100/len(true), 2)}')\n",
    "    print(f'two-activation:{round(len(two_activation)*100/len(true), 2)}')\n",
    "    print(f'three-activation:{round(len(three_activation)*100/len(true), 2)}')\n",
    "\n",
    "\n",
    "    print(f'One-to-one error:{round(len(one_to_one_error)*100/len(np.unique(incorrect_ids)), 2)}')\n",
    "    print(f'Many-to-many error:{round(len(many_to_many_error)*100/len(np.unique(incorrect_ids)), 2)}')\n",
    "    print(f'Zero error:{round(len(zero_error)*100/len(np.unique(incorrect_ids)), 2)}')\n",
    "    print(f'one-error:{round(len(one_error)*100/len(many_to_many_error), 2)}')\n",
    "    print(f'two-error:{round(len(two_error)*100/len(many_to_many_error), 2)}')\n",
    "    print(f'three-error:{round(len(three_error)*100/len(many_to_many_error), 2)}')\n",
    "    print(f'complete-error:{round(len(complete_error)*100/len(many_to_many_error), 2)}')\n",
    "\n",
    "    group_names=['zero-to-n', 'one-to-one', 'n-to-n']\n",
    "    group_size=[round(len(zero_error)*100/len(np.unique(incorrect_ids)), 2), \n",
    "                round(len(one_to_one_error)*100/len(np.unique(incorrect_ids)), 2), \n",
    "                round(len(many_to_many_error)*100/len(np.unique(incorrect_ids)), 2)]\n",
    "    subgroup_names=['', '', 'S', 'D',\"T\", 'C']\n",
    "    subgroup_size=[round(len(zero_error)*100/len(np.unique(incorrect_ids)), 2),\n",
    "                  round(len(one_to_one_error)*100/len(np.unique(incorrect_ids)), 2), \n",
    "                  round(len(one_error)*100/len(many_to_many_error), 2), \n",
    "                  round(len(two_error)*100/len(many_to_many_error), 2), \n",
    "                  round(len(three_error)*100/len(many_to_many_error), 2),  \n",
    "                  round(len(complete_error)*100/len(many_to_many_error), 2)]\n",
    "\n",
    "    # Create colors\n",
    "    a, b, c=[plt.cm.Blues, plt.cm.Greys, plt.cm.Greens]\n",
    "\n",
    "    # First Ring (outside)\n",
    "    fig, ax = plt.subplots(1,1,figsize=set_figure_size(fig_width=5, fig_height=None, columns=1))\n",
    "    ax.axis('equal')\n",
    "    mypie, _ = ax.pie(group_size, radius=1.3, labels=group_names, colors=[a(0.6), b(0.6), c(0.6)] )\n",
    "    plt.setp( mypie, width=0.3, edgecolor='white')\n",
    "\n",
    "    # Second Ring (Inside)\n",
    "    mypie2, _ = ax.pie(subgroup_size, radius=1.3-0.3, labels=subgroup_names, labeldistance=0.7, colors=[a(0.5),  b(0.5),  c(0.5), c(0.4), c(0.3)])\n",
    "    plt.setp( mypie2, width=0.4, edgecolor='white')\n",
    "    plt.margins(0,0)\n",
    "    savefig(fig_path+f\"errors_{image_type}\", format=\".pdf\")\n",
    "    \n",
    "    errors = [zero_error, one_to_one_error, many_to_many_error]\n",
    "    many_errors = [one_error, two_error, complete_error]\n",
    "    correc_activations = [len(one_activation), len(two_activation), len(three_activation)]\n",
    "    \n",
    "    return errors, many_errors, len(true), predictions, corrects, correc_activations, activations_count"
   ]
  },
  {
   "cell_type": "code",
   "execution_count": 21,
   "metadata": {},
   "outputs": [
    {
     "name": "stdout",
     "output_type": "stream",
     "text": [
      "Total percentage error: 29.03\n",
      "one-activation:52.86\n",
      "two-activation:17.33\n",
      "three-activation:0.78\n",
      "One-to-one error:13.43\n",
      "Many-to-many error:85.67\n",
      "Zero error:0.9\n",
      "one-error:16.72\n",
      "two-error:73.52\n",
      "three-error:0.0\n",
      "complete-error:9.76\n",
      "Total percentage error: 15.94\n",
      "one-activation:57.63\n",
      "two-activation:24.61\n",
      "three-activation:1.82\n",
      "One-to-one error:3.8\n",
      "Many-to-many error:95.65\n",
      "Zero error:0.54\n",
      "one-error:27.84\n",
      "two-error:71.59\n",
      "three-error:0.0\n",
      "complete-error:0.57\n",
      "Total percentage error: 13.78\n",
      "one-activation:57.63\n",
      "two-activation:26.6\n",
      "three-activation:1.99\n",
      "One-to-one error:3.77\n",
      "Many-to-many error:96.23\n",
      "Zero error:0.0\n",
      "one-error:30.72\n",
      "two-error:68.63\n",
      "three-error:0.0\n",
      "complete-error:0.65\n"
     ]
    }
   ],
   "source": [
    "errors = {}\n",
    "multiple_errors = {}\n",
    "pred_total = []\n",
    "predictions = {}\n",
    "corrects = {}\n",
    "corrects_activations = {}\n",
    "activations_counts = {}\n",
    "for image_type in [\"vi-binary\", \"decomposed_current\",  \"decomposed_distance\"]:\n",
    "    err, merr, p_total, pred, corr, corr_activations, count= errors_analysis(\"plaid\", image_type)\n",
    "    errors[image_type] = err\n",
    "    multiple_errors[image_type] =merr\n",
    "    pred_total.append(p_total)\n",
    "    predictions[image_type]=pred\n",
    "    corrects[image_type]=corr\n",
    "    corrects_activations[image_type]= corr_activations\n",
    "    activations_counts[image_type]=count"
   ]
  },
  {
   "cell_type": "markdown",
   "metadata": {},
   "source": [
    "### plot percentage errors"
   ]
  },
  {
   "cell_type": "code",
   "execution_count": 22,
   "metadata": {},
   "outputs": [
    {
     "data": {
      "text/plain": [
       "<matplotlib.patches.Circle at 0x7fef39675a00>"
      ]
     },
     "execution_count": 22,
     "metadata": {},
     "output_type": "execute_result"
    },
    {
     "data": {
      "image/png": "[encoded data removed]",
      "text/plain": [
       "<Figure size 432x266.991 with 1 Axes>"
      ]
     },
     "metadata": {},
     "output_type": "display_data"
    }
   ],
   "source": [
    "names=[\"vi-binary\",  \"decomposed_current\", \"decomposed_distance\"]\n",
    "size=[sum([len(x) for x in errors[name]]) for name in names]\n",
    "names=[\"VI-binary\", \"Decomposed-current\", \"Decomposed-distance\"]\n",
    "my_circle=plt.Circle( (0,0), 0.7, color='white')\n",
    "from palettable.colorbrewer.qualitative import Pastel1_9\n",
    "fig=figure(fig_width=6)\n",
    "plt.pie(size, labels=names, colors=Pastel1_9.hex_colors)\n",
    "p=plt.gcf()\n",
    "p.gca().add_artist(my_circle)\n",
    "#savefig(fig_path+f\"percentage_errors\", format=\".pdf\")"
   ]
  },
  {
   "cell_type": "code",
   "execution_count": 23,
   "metadata": {},
   "outputs": [],
   "source": [
    "names=[\"vi-binary\", \"decomposed_current\", \"decomposed_distance\"]\n",
    "group_names=[\"VI-binary\", \"Decomposed-current\", \"Decomposed-distance\"]\n",
    "group_size=[sum([len(x) for x in errors[name]]) for name in names]\n",
    "subgroup_names=['0-err', '1-error', 'N-error']*len(names)\n",
    "subgroup_size=[[len(l) for l in multiple_errors[name]] for name in names]\n",
    "error_types=[[len(x) for x in errors[name]] for name in names]"
   ]
  },
  {
   "cell_type": "code",
   "execution_count": 24,
   "metadata": {},
   "outputs": [
    {
     "data": {
      "text/html": [
       "<div>\n",
       "<style scoped>\n",
       "    .dataframe tbody tr th:only-of-type {\n",
       "        vertical-align: middle;\n",
       "    }\n",
       "\n",
       "    .dataframe tbody tr th {\n",
       "        vertical-align: top;\n",
       "    }\n",
       "\n",
       "    .dataframe thead th {\n",
       "        text-align: right;\n",
       "    }\n",
       "</style>\n",
       "<table border=\"1\" class=\"dataframe\">\n",
       "  <thead>\n",
       "    <tr style=\"text-align: right;\">\n",
       "      <th></th>\n",
       "      <th>Feature</th>\n",
       "      <th>total-errors</th>\n",
       "      <th>zero-error</th>\n",
       "      <th>one-error</th>\n",
       "      <th>many-error</th>\n",
       "      <th>single</th>\n",
       "      <th>double</th>\n",
       "      <th>complete</th>\n",
       "      <th>sum</th>\n",
       "    </tr>\n",
       "  </thead>\n",
       "  <tbody>\n",
       "    <tr>\n",
       "      <th>0</th>\n",
       "      <td>VI-binary</td>\n",
       "      <td>335</td>\n",
       "      <td>3</td>\n",
       "      <td>45</td>\n",
       "      <td>287</td>\n",
       "      <td>48</td>\n",
       "      <td>211</td>\n",
       "      <td>28</td>\n",
       "      <td>1154</td>\n",
       "    </tr>\n",
       "    <tr>\n",
       "      <th>1</th>\n",
       "      <td>Decomposed-current</td>\n",
       "      <td>184</td>\n",
       "      <td>1</td>\n",
       "      <td>7</td>\n",
       "      <td>176</td>\n",
       "      <td>49</td>\n",
       "      <td>126</td>\n",
       "      <td>1</td>\n",
       "      <td>1154</td>\n",
       "    </tr>\n",
       "    <tr>\n",
       "      <th>2</th>\n",
       "      <td>Decomposed-distance</td>\n",
       "      <td>159</td>\n",
       "      <td>0</td>\n",
       "      <td>6</td>\n",
       "      <td>153</td>\n",
       "      <td>47</td>\n",
       "      <td>105</td>\n",
       "      <td>1</td>\n",
       "      <td>1154</td>\n",
       "    </tr>\n",
       "  </tbody>\n",
       "</table>\n",
       "</div>"
      ],
      "text/plain": [
       "               Feature  total-errors  zero-error  one-error  many-error  \\\n",
       "0            VI-binary           335           3         45         287   \n",
       "1   Decomposed-current           184           1          7         176   \n",
       "2  Decomposed-distance           159           0          6         153   \n",
       "\n",
       "   single  double  complete   sum  \n",
       "0      48     211        28  1154  \n",
       "1      49     126         1  1154  \n",
       "2      47     105         1  1154  "
      ]
     },
     "execution_count": 24,
     "metadata": {},
     "output_type": "execute_result"
    }
   ],
   "source": [
    "df = pd.DataFrame(group_names, columns=[\"Feature\"]) \n",
    "df['total-errors']=group_size\n",
    "df['zero-error']=[l[0] for i,l in enumerate(error_types)]\n",
    "df['one-error']=[l[1] for l in error_types]\n",
    "df['many-error']=[l[2] for l in error_types]\n",
    "df['single']=[l[0] for l in subgroup_size]\n",
    "df['double']=[l[1] for l in subgroup_size]\n",
    "df['complete']=[l[2] for l in subgroup_size]\n",
    "#df['complete-one']=df['one-error']+df['complete']\n",
    "df['sum'] = pred_total\n",
    "df"
   ]
  },
  {
   "cell_type": "code",
   "execution_count": 25,
   "metadata": {},
   "outputs": [
    {
     "data": {
      "image/png": "[encoded data removed]",
      "text/plain": [
       "<Figure size 432x266.991 with 1 Axes>"
      ]
     },
     "metadata": {
      "needs_background": "light"
     },
     "output_type": "display_data"
    }
   ],
   "source": [
    "#error=df[[\"zero-error\", \"single\" , \"double\",  \"complete\" ]].iloc[:3]\n",
    "ax = df.plot.bar(x='Feature', y=[\"zero-error\", 'one-error', \"single\" , \"double\", \"total-errors\", \"complete\", ], rot=0, \n",
    "                          figsize=set_figure_size(fig_width=6, fig_height=None, columns=1))\n",
    "#ax.set_ylim(0, 300)\n",
    "for p in ax.patches:\n",
    "        #ax.annotate('{:.0%}'.format(height), (p.get_x()+.15*width, p.get_y() + height + 0.01))\n",
    "        ax.annotate(\"${}$\".format(p.get_height()), (p.get_x() + p.get_width() / 2., p.get_height()),\n",
    "                    ha='center', va='center', xytext=(0, 10), textcoords='offset points')\n",
    "for spine in ax.spines.values():\n",
    "        spine.set_visible(False)\n",
    "plt.yticks([])\n",
    "plt.tight_layout()        \n",
    "ax.tick_params(axis=\"both\", which=\"both\", bottom=False, \n",
    "               top=False, labelbottom=True, left=False, right=False, labelleft=True)\n",
    "leg=legend(ax,ncol=3, pos=(0.5, -0.15)) \n",
    "#savefig(fig_path+f\"percentage_errors_types\", format=\".pdf\")\n"
   ]
  },
  {
   "cell_type": "markdown",
   "metadata": {},
   "source": [
    "### Correct activations"
   ]
  },
  {
   "cell_type": "code",
   "execution_count": 27,
   "metadata": {},
   "outputs": [],
   "source": [
    "dic = {'VI-binary':corrects_activations['vi-binary'],\n",
    "#'Current':corrects_activations['current'],\n",
    "'Decomposed-current':corrects_activations['decomposed_current'],\n",
    "      # 'Distance':corrects_activations['distance'],\n",
    "  'Decomposed-distance':corrects_activations['decomposed_distance']\n",
    "}"
   ]
  },
  {
   "cell_type": "code",
   "execution_count": 28,
   "metadata": {},
   "outputs": [],
   "source": [
    "df=pd.DataFrame.from_dict(dic, orient='index', columns=[\"1\", '2', '3'])\n",
    "df['Feature']=group_names\n",
    "df['1inc']=674-df['1'].values\n",
    "df['2inc']=413-df['2'].values\n",
    "df['3inc']=67-df['3'].values"
   ]
  },
  {
   "cell_type": "code",
   "execution_count": 29,
   "metadata": {},
   "outputs": [
    {
     "data": {
      "image/png": "[encoded data removed]",
      "text/plain": [
       "<Figure size 504x288 with 1 Axes>"
      ]
     },
     "metadata": {
      "needs_background": "light"
     },
     "output_type": "display_data"
    }
   ],
   "source": [
    "\n",
    "ax = df.plot.bar(x='Feature', y=[\"1\", '2', \"3\", ], rot=0, \n",
    "                          figsize=set_figure_size(fig_width=7, fig_height=4, columns=1))\n",
    "for p in ax.patches:\n",
    "        #ax.annotate('{:.0%}'.format(height), (p.get_x()+.15*width, p.get_y() + height + 0.01))\n",
    "        ax.annotate(\"${}$\".format(p.get_height()), (p.get_x() + p.get_width() / 2., p.get_height()),\n",
    "                    ha='center', va='center', xytext=(0, 10), textcoords='offset points')\n",
    "for spine in ax.spines.values():\n",
    "        spine.set_visible(False)\n",
    "plt.yticks([])\n",
    "plt.tight_layout()        \n",
    "ax.tick_params(axis=\"both\", which=\"both\", bottom=False, \n",
    "               top=False, labelbottom=True, left=False, right=False, labelleft=True)\n",
    "leg=legend(ax,ncol=3, pos=(0.5, -0.15)) \n",
    "#savefig(fig_path+f\"correct_activations\", format=\".pdf\", leg=leg)"
   ]
  },
  {
   "cell_type": "code",
   "execution_count": 30,
   "metadata": {},
   "outputs": [],
   "source": [
    "data=pd.DataFrame({'Feature': ['VI-binary','VI-binary','VI-binary',\n",
    "                      #'Current', 'Current', 'Current', \n",
    "                      'Decomposed-current', 'Decomposed-current', 'Decomposed-current',\n",
    "                     #'Distance', 'Distance', 'Distance',\n",
    "                     'Decomposed-distance', 'Decomposed-distance', 'Decomposed-distance'],\n",
    "                 'Active-appliances': ['1', '2', '3']*3,\n",
    "                'total': [674, 413,  67]*3,\n",
    "                 'correct': [610, 200, 9,\n",
    "                           \n",
    "                             665, 284, 21,\n",
    "                             \n",
    "                             665, 307, 23\n",
    "                            ]})"
   ]
  },
  {
   "cell_type": "markdown",
   "metadata": {},
   "source": [
    "## Complexity Analysis"
   ]
  },
  {
   "cell_type": "code",
   "execution_count": 3,
   "metadata": {},
   "outputs": [],
   "source": [
    "from matplotlib.ticker import (MultipleLocator, FormatStrFormatter,\n",
    "                               AutoMinorLocator, FuncFormatter)"
   ]
  },
  {
   "cell_type": "code",
   "execution_count": 4,
   "metadata": {},
   "outputs": [],
   "source": [
    "baseline = np.load(\"../results/MLKNNbaseline_decomposed_distance_complexity_results.npy\", allow_pickle=True)\n",
    "cnn = np.load(\"../results/CNN_decomposed_distance_complexity_results.npy\", allow_pickle=True)\n",
    "fig = figure(columns=1)\n",
    "plt.plot(cnn[:,0]*100,cnn[:,1]/60, marker='v',   color=colors[1], markersize=3, label=\"CNN-Train\")\n",
    "plt.plot(cnn[:,0]*100,cnn[:,2]/60, marker='v', linestyle=\"--\", color=colors[1], markersize=3, label=\"CNN-Inference\")\n",
    "plt.plot(cnn[:,0]*100,baseline[:,1]/60, marker='v',markersize=3,color=colors[0], label=\"MLkNN-Train\")\n",
    "plt.plot(cnn[:,0]*100,baseline[:,2]/60, marker='v',linestyle=\"--\", color=colors[0],markersize=3, label=\"MLkNN-Inference\")\n",
    "plt.ylabel('Time ($m$)')\n",
    "plt.yscale('log')\n",
    "ax = plt.gca()\n",
    "ax.minorticks_on()\n",
    "ax.xaxis.set_major_locator(MultipleLocator(10))\n",
    "ax.xaxis.set_major_formatter(FormatStrFormatter('%d'))\n",
    "ax.xaxis.set_minor_locator(MultipleLocator(25))\n",
    "leg=legend(ax,ncol=2, pos=(0.5, -0.18)) \n",
    "plt.xlabel('Training data samples ($\\%$)')\n",
    "plt.ylabel('Time ($\\log m$)')\n",
    "savefig(fig_path+f\"complexity_model\", format=\".pdf\", leg=leg)"
   ]
  },
  {
   "cell_type": "code",
   "execution_count": 5,
   "metadata": {},
   "outputs": [
    {
     "data": {
      "text/plain": [
       "Text(0, 0.5, 'Time ($\\\\log m$)')"
      ]
     },
     "execution_count": 5,
     "metadata": {},
     "output_type": "execute_result"
    },
    {
     "data": {
      "image/png": "[encoded data removed]",
      "text/plain": [
       "<Figure size 288x177.994 with 1 Axes>"
      ]
     },
     "metadata": {
      "needs_background": "light"
     },
     "output_type": "display_data"
    }
   ],
   "source": [
    "fig = figure(columns=1)\n",
    "plt.plot(100-cnn[:,0]*100,cnn[:,2]/60, marker='v',markersize=3, label=\"CNN\")\n",
    "#plt.plot(cnn[:,0]*100,cnn[:,2]/60, color=colors[1], linestyle='--', marker='v',markersize=3, label=\"Inference CNN\")\n",
    "plt.plot(100-cnn[:,0]*100,baseline[:,2]/60, marker='v',markersize=3, label=\"MLkNN\")\n",
    "#plt.plot(cnn[:,0]*100,baseline[:,2]/60, color=colors[0], marker='v', linestyle='--', markersize=3, label=\"Inference MLkNN\")\n",
    "plt.ylabel('Time ($m$)')\n",
    "plt.yscale('log')\n",
    "ax = plt.gca()\n",
    "ax.minorticks_on()\n",
    "ax.xaxis.set_major_locator(MultipleLocator(10))\n",
    "ax.xaxis.set_major_formatter(FormatStrFormatter('%d'))\n",
    "ax.xaxis.set_minor_locator(MultipleLocator(25))\n",
    "leg=legend(ax,ncol=2, pos=(0.5, -0.18)) \n",
    "plt.xlabel('Training data samples ($\\%$)')\n",
    "plt.ylabel('Time ($\\log m$)')\n",
    "#savefig(fig_path+f\"complexity_model_prediction\", format=\".pdf\", leg=leg)"
   ]
  },
  {
   "cell_type": "code",
   "execution_count": 6,
   "metadata": {},
   "outputs": [],
   "source": [
    "fig = figure(columns=1)\n",
    "plt.plot(cnn[:,0]*100,cnn[:,3]*100, color=colors[1], marker='v',markersize=3, label=\"Train CNN\")\n",
    "plt.plot(cnn[:,0]*100,baseline[:,3]*100, color=colors[0], marker='v',markersize=3, label=\"Train MLkNN\")\n",
    "plt.ylabel(\"$F_1$ macro score ($\\%$)\")\n",
    "ax = plt.gca()\n",
    "ax.minorticks_on()\n",
    "ax.xaxis.set_major_locator(MultipleLocator(10))\n",
    "ax.xaxis.set_major_formatter(FormatStrFormatter('%d'))\n",
    "ax.xaxis.set_minor_locator(MultipleLocator(25))\n",
    "leg=legend(ax,ncol=2, pos=(0.5, -0.18)) \n",
    "plt.xlabel('Data samples ($\\%$)')\n",
    "savefig(fig_path+f\"complexity_model_prediction_score\", format=\".pdf\", leg=leg)"
   ]
  },
  {
   "cell_type": "markdown",
   "metadata": {},
   "source": [
    "## Visualize Prediction"
   ]
  },
  {
   "cell_type": "code",
   "execution_count": 175,
   "metadata": {},
   "outputs": [],
   "source": [
    "import torch\n",
    "from utils.utils import generate_input_feature, create_paa,\\\n",
    "compute_active_non_active_features, generate_input_feature\n",
    "from utils.data_generator import get_data"
   ]
  },
  {
   "cell_type": "code",
   "execution_count": 176,
   "metadata": {},
   "outputs": [],
   "source": [
    "from net.modules import MultilabelConv2D, MultilabelConv1D\n",
    "from sklearn.preprocessing import MultiLabelBinarizer"
   ]
  },
  {
   "cell_type": "code",
   "execution_count": 177,
   "metadata": {},
   "outputs": [
    {
     "name": "stdout",
     "output_type": "stream",
     "text": [
      "Load plaid aggregated data from ../data/plaid/\n"
     ]
    },
    {
     "name": "stderr",
     "output_type": "stream",
     "text": [
      "frze processed: 100 percent: : 1154it [01:25, 13.54it/s]\n"
     ]
    }
   ],
   "source": [
    "current, voltage, labels, I_max = get_data(data_type=\"plaid\")\n",
    "feature = \"decomposed_current\"\n",
    "input_feature = generate_input_feature(current, voltage, feature, width=50,  p=2)"
   ]
  },
  {
   "cell_type": "code",
   "execution_count": 178,
   "metadata": {},
   "outputs": [],
   "source": [
    "mlb = MultiLabelBinarizer()\n",
    "mlb.fit(labels)\n",
    "y = mlb.transform(labels)\n",
    "classes=list(np.unique(np.hstack(labels)))\n",
    "num_class=len(classes)\n",
    "net =  MultilabelConv1D(in_size=input_feature.size(1), d_model=128, out_size=num_class*2,  dropout=0.25)"
   ]
  },
  {
   "cell_type": "code",
   "execution_count": 179,
   "metadata": {},
   "outputs": [],
   "source": [
    "saved_model_path= \"../checkpoints/CNNModel_plaid_decomposed_current_softmax_fold_10_checkpoint.pt\""
   ]
  },
  {
   "cell_type": "code",
   "execution_count": 180,
   "metadata": {},
   "outputs": [
    {
     "data": {
      "text/plain": [
       "<All keys matched successfully>"
      ]
     },
     "execution_count": 180,
     "metadata": {},
     "output_type": "execute_result"
    }
   ],
   "source": [
    "checkpoint = torch.load(saved_model_path,  map_location=lambda storage, loc: storage)\n",
    "net.load_state_dict(checkpoint['state_dict'])"
   ]
  },
  {
   "cell_type": "code",
   "execution_count": 181,
   "metadata": {},
   "outputs": [],
   "source": [
    "net = net.eval()"
   ]
  },
  {
   "cell_type": "code",
   "execution_count": 172,
   "metadata": {},
   "outputs": [],
   "source": [
    "idx = []\n",
    "for i in range(len(y)):\n",
    "    if np.unique(y[i], return_counts=1)[-1][-1]==1:\n",
    "        idx.append(i)\n",
    "        break\n",
    "pred = net(input_feature[idx[0]].unsqueeze(0))\n",
    "batch_size = pred.size(0)\n",
    "pred = pred.view(batch_size, 2, -1)\n",
    "pred = torch.max(torch.nn.functional.softmax(pred, 1), 1)[1]\n",
    "pred = pred.numpy()  \n",
    "fig = figure(columns=1)\n",
    "plt.plot(input_feature[idx[0]][0])\n",
    "plt.ylabel(\"$i_f(t)$\")\n",
    "plt.title(f\"True: {mlb.inverse_transform(y[idx])[0]}, \\n Pred: {mlb.inverse_transform(pred)[0]}\")\n",
    "savefig(fig_path+\"fan_prediction\", format=\".pdf\")"
   ]
  },
  {
   "cell_type": "code",
   "execution_count": 40,
   "metadata": {},
   "outputs": [],
   "source": [
    "## Two appliance prediction"
   ]
  },
  {
   "cell_type": "code",
   "execution_count": 66,
   "metadata": {},
   "outputs": [],
   "source": [
    "for i in range(len(y)):\n",
    "    if np.unique(y[i], return_counts=1)[-1][-1]==2:\n",
    "        idx.append(i)\n",
    "        break\n",
    "pred = net(input_feature[idx[0]].unsqueeze(0))\n",
    "batch_size = pred.size(0)\n",
    "pred = pred.view(batch_size, 2, -1)\n",
    "pred = torch.max(torch.nn.functional.softmax(pred, 1), 1)[1]\n",
    "pred = pred.numpy()  \n",
    "fig = figure(columns=1)\n",
    "plt.plot(input_feature[idx[0]][0])\n",
    "plt.ylabel(\"$i_f(t)$\")\n",
    "plt.title(f\"True: {mlb.inverse_transform(y[idx])[0]}, \\n Pred: {mlb.inverse_transform(pred)[0]}\")\n",
    "savefig(fig_path+\"fan_ac_prediction\", format=\".pdf\")"
   ]
  },
  {
   "cell_type": "code",
   "execution_count": 182,
   "metadata": {},
   "outputs": [],
   "source": [
    "idx = []\n",
    "for i in range(len(y)):\n",
    "    if np.unique(y[i], return_counts=1)[-1][-1]==3:\n",
    "        idx.append(i)\n",
    "        "
   ]
  },
  {
   "cell_type": "code",
   "execution_count": 183,
   "metadata": {},
   "outputs": [],
   "source": [
    "pred = net(input_feature[idx[-2]].unsqueeze(0))\n",
    "batch_size = pred.size(0)\n",
    "pred = pred.view(batch_size, 2, -1)\n",
    "pred = torch.max(torch.nn.functional.softmax(pred, 1), 1)[1]\n",
    "pred = pred.numpy()\n",
    "fig = figure(fig_width=3.0)\n",
    "plt.plot(input_feature[idx[-2]][1]/10, label=\"$i(t)_a$\")\n",
    "plt.plot(input_feature[idx[-2]][0], label=\"$i(t)_f$\")\n",
    "plt.legend()\n",
    "plt.ylabel(\"Current $A$\")\n",
    "plt.title(f\"True: {set(labels[idx[-2]])}, \\n Pred: {set(mlb.inverse_transform(pred)[0])}\")\n",
    "savefig(fig_path+\"three_appliance_prediction_2\", format=\".png\")"
   ]
  },
  {
   "cell_type": "code",
   "execution_count": 185,
   "metadata": {},
   "outputs": [
    {
     "name": "stderr",
     "output_type": "stream",
     "text": [
      "processed: 1154: : 1154it [00:15, 74.35it/s]\n"
     ]
    }
   ],
   "source": [
    "feature = \"vi\"\n",
    "input_feature = generate_input_feature(current, voltage, feature, width=50,  p=2)"
   ]
  },
  {
   "cell_type": "code",
   "execution_count": 186,
   "metadata": {},
   "outputs": [
    {
     "data": {
      "text/plain": [
       "<All keys matched successfully>"
      ]
     },
     "execution_count": 186,
     "metadata": {},
     "output_type": "execute_result"
    }
   ],
   "source": [
    "net_vi =  MultilabelConv2D(in_size=1, d_model=128, out_size=num_class*2,  dropout=0.25)\n",
    "saved_model_path= \"../checkpoints/CNNModel_plaid_vi-binary_softmax_fold_10_checkpoint.pt\"\n",
    "checkpoint=torch.load(saved_model_path,  map_location=lambda storage, loc: storage)\n",
    "net_vi.load_state_dict(checkpoint['state_dict'])"
   ]
  },
  {
   "cell_type": "code",
   "execution_count": 187,
   "metadata": {},
   "outputs": [],
   "source": [
    "net_vi.eval()\n",
    "pred = net_vi(input_feature[idx[-2]].unsqueeze(0))\n",
    "batch_size = pred.size(0)\n",
    "pred = pred.view(batch_size, 2, -1)\n",
    "pred = torch.max(torch.nn.functional.softmax(pred, 1), 1)[1]\n",
    "pred = pred.numpy()\n",
    "fig = figure(columns=1)\n",
    "plt.imshow(input_feature[idx[-2]][0], cmap=\"gray\")\n",
    "plt.title(f\"True: {set(labels[idx[-2]])}, \\n Pred: {set(mlb.inverse_transform(pred)[0])}\")\n",
    "savefig(fig_path+\"three_appliance_prediction_vi\", format=\".png\")"
   ]
  },
  {
   "cell_type": "code",
   "execution_count": 188,
   "metadata": {},
   "outputs": [
    {
     "name": "stderr",
     "output_type": "stream",
     "text": [
      "frze processed: 100 percent: : 1154it [00:58, 19.72it/s]\n"
     ]
    }
   ],
   "source": [
    "feature = \"decomposed_distance\"\n",
    "input_feature = generate_input_feature(current, voltage, feature, width=50,  p=2)"
   ]
  },
  {
   "cell_type": "code",
   "execution_count": 189,
   "metadata": {},
   "outputs": [
    {
     "data": {
      "text/plain": [
       "<All keys matched successfully>"
      ]
     },
     "execution_count": 189,
     "metadata": {},
     "output_type": "execute_result"
    }
   ],
   "source": [
    "net_distance_decomposed =  MultilabelConv2D(in_size=2, d_model=128, out_size=num_class*2,  dropout=0.25)\n",
    "saved_model_path= \"../checkpoints/CNNModel_plaid_decomposed_distance_softmax_fold_10_checkpoint.pt\"\n",
    "checkpoint=torch.load(saved_model_path,  map_location=lambda storage, loc: storage)\n",
    "net_distance_decomposed.load_state_dict(checkpoint['state_dict'])"
   ]
  },
  {
   "cell_type": "code",
   "execution_count": 194,
   "metadata": {},
   "outputs": [],
   "source": [
    "net_distance_decomposed.eval()\n",
    "pred = net_distance_decomposed(input_feature[idx[-2]].unsqueeze(0))\n",
    "batch_size = pred.size(0)\n",
    "pred = pred.view(batch_size, 2, -1)\n",
    "pred = torch.max(torch.nn.functional.softmax(pred, 1), 1)[1]\n",
    "pred = pred.numpy()\n",
    "fig = figure(columns=1)\n",
    "plt.imshow(input_feature[idx[-2]][0], cmap=\"Spectral\")\n",
    "plt.title(f\"True: {set(labels[idx[-2]])}, \\n Pred: {set(mlb.inverse_transform(pred)[0])}\")\n",
    "savefig(fig_path+\"three_appliance_prediction_decomposed_distance\", format=\".png\")"
   ]
  },
  {
   "cell_type": "code",
   "execution_count": 161,
   "metadata": {},
   "outputs": [
    {
     "name": "stderr",
     "output_type": "stream",
     "text": [
      "processed: 100 percent: : 1154it [00:36, 31.56it/s]\n"
     ]
    }
   ],
   "source": [
    "feature = \"current\"\n",
    "input_feature = generate_input_feature(current, voltage, feature, width=50,  p=2)"
   ]
  },
  {
   "cell_type": "code",
   "execution_count": 166,
   "metadata": {},
   "outputs": [],
   "source": [
    "net_current =  MultilabelConv1D(in_size=1, d_model=128, out_size=num_class*2,  dropout=0.25)\n",
    "saved_model_path= \"../checkpoints/CNNModel_plaid_current_softmax_fold_10_checkpoint.pt\"\n",
    "checkpoint=torch.load(saved_model_path,  map_location=lambda storage, loc: storage)\n",
    "net_current.load_state_dict(checkpoint['state_dict'])\n",
    "net_current =net_current.eval()\n",
    "pred = net_current(input_feature[idx[-2]].unsqueeze(0))\n",
    "batch_size = pred.size(0)\n",
    "pred = pred.view(batch_size, 2, -1)\n",
    "pred = torch.max(torch.nn.functional.softmax(pred, 1), 1)[1]\n",
    "pred = pred.numpy()\n",
    "fig = figure(fig_width=3)\n",
    "plt.plot(input_feature[idx[-2]][0]/10)\n",
    "plt.ylabel(\"Current $A$\")\n",
    "plt.title(f\"True: {set(labels[idx[-2]])}, \\n Pred: {set(mlb.inverse_transform(pred)[0])}\")\n",
    "savefig(fig_path+\"three_appliance_prediction_current\", format=\".pdf\")"
   ]
  },
  {
   "cell_type": "code",
   "execution_count": null,
   "metadata": {},
   "outputs": [],
   "source": []
  }
 ],
 "metadata": {
  "kernelspec": {
   "display_name": "Python 3",
   "language": "python",
   "name": "python3"
  },
  "language_info": {
   "codemirror_mode": {
    "name": "ipython",
    "version": 3
   },
   "file_extension": ".py",
   "mimetype": "text/x-python",
   "name": "python",
   "nbconvert_exporter": "python",
   "pygments_lexer": "ipython3",
   "version": "3.8.5"
  },
  "latex_envs": {
   "LaTeX_envs_menu_present": true,
   "autoclose": false,
   "autocomplete": true,
   "bibliofile": "biblio.bib",
   "cite_by": "apalike",
   "current_citInitial": 1,
   "eqLabelWithNumbers": true,
   "eqNumInitial": 1,
   "hotkeys": {
    "equation": "Ctrl-E",
    "itemize": "Ctrl-I"
   },
   "labels_anchors": false,
   "latex_user_defs": false,
   "report_style_numbering": false,
   "user_envs_cfg": false
  }
 },
 "nbformat": 4,
 "nbformat_minor": 4
}

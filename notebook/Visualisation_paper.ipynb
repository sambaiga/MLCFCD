{
 "cells": [
  {
   "cell_type": "code",
   "execution_count": 1,
   "metadata": {},
   "outputs": [
    {
     "ename": "ModuleNotFoundError",
     "evalue": "No module named 'pre_processing'",
     "output_type": "error",
     "traceback": [
      "\u001b[0;31m---------------------------------------------------------------------------\u001b[0m",
      "\u001b[0;31mModuleNotFoundError\u001b[0m                       Traceback (most recent call last)",
      "\u001b[0;32m<ipython-input-1-ef616ccabb3a>\u001b[0m in \u001b[0;36m<module>\u001b[0;34m\u001b[0m\n\u001b[1;32m     17\u001b[0m \u001b[0mplaid_names\u001b[0m \u001b[0;34m=\u001b[0m \u001b[0;34m[\u001b[0m\u001b[0;34m'CFL'\u001b[0m\u001b[0;34m,\u001b[0m\u001b[0;34m'ILB'\u001b[0m\u001b[0;34m,\u001b[0m\u001b[0;34m'Waterkettle'\u001b[0m\u001b[0;34m,\u001b[0m\u001b[0;34m'Fan'\u001b[0m\u001b[0;34m,\u001b[0m\u001b[0;34m'AC'\u001b[0m\u001b[0;34m,\u001b[0m\u001b[0;34m'HairIron'\u001b[0m\u001b[0;34m,\u001b[0m\u001b[0;34m'LaptopCharger'\u001b[0m\u001b[0;34m,\u001b[0m\u001b[0;34m'SolderingIron'\u001b[0m\u001b[0;34m,\u001b[0m\u001b[0;34m'Fridge'\u001b[0m\u001b[0;34m,\u001b[0m\u001b[0;34m'Vacuum'\u001b[0m\u001b[0;34m,\u001b[0m\u001b[0;34m'CoffeeMaker'\u001b[0m\u001b[0;34m,\u001b[0m\u001b[0;34m'FridgeDefroster'\u001b[0m\u001b[0;34m]\u001b[0m\u001b[0;34m\u001b[0m\u001b[0;34m\u001b[0m\u001b[0m\n\u001b[1;32m     18\u001b[0m \u001b[0;34m\u001b[0m\u001b[0m\n\u001b[0;32m---> 19\u001b[0;31m \u001b[0;32mfrom\u001b[0m \u001b[0mpre_processing\u001b[0m\u001b[0;34m.\u001b[0m\u001b[0mload_multilabel_plaid\u001b[0m \u001b[0;32mimport\u001b[0m \u001b[0;34m*\u001b[0m\u001b[0;34m\u001b[0m\u001b[0;34m\u001b[0m\u001b[0m\n\u001b[0m\u001b[1;32m     20\u001b[0m \u001b[0;32mfrom\u001b[0m \u001b[0mpre_processing\u001b[0m\u001b[0;34m.\u001b[0m\u001b[0mload_multilabel_lilac\u001b[0m \u001b[0;32mimport\u001b[0m \u001b[0;34m*\u001b[0m\u001b[0;34m\u001b[0m\u001b[0;34m\u001b[0m\u001b[0m\n\u001b[1;32m     21\u001b[0m \u001b[0;32mfrom\u001b[0m \u001b[0mutils\u001b[0m\u001b[0;34m.\u001b[0m\u001b[0mutils\u001b[0m \u001b[0;32mimport\u001b[0m \u001b[0;34m*\u001b[0m\u001b[0;34m\u001b[0m\u001b[0;34m\u001b[0m\u001b[0m\n",
      "\u001b[0;31mModuleNotFoundError\u001b[0m: No module named 'pre_processing'"
     ]
    }
   ],
   "source": [
    "import sys\n",
    "sys.path.append(\"../src\")\n",
    "import numpy as np\n",
    "import matplotlib.pyplot as plt\n",
    "import matplotlib.ticker as ticker\n",
    "import pandas as pd\n",
    "import seaborn as sns\n",
    "sns.color_palette('husl', n_colors=20)\n",
    "from utils.visual_functions import *\n",
    "%matplotlib inline\n",
    "fig_path=\"../figure/paper/\"\n",
    "lilac_names=['1-phase-motor', '3-phase-motor', 'Bulb',\n",
    "       'Coffee-machine', 'Drilling', 'Dumper',\n",
    "       'Fluorescent-lamp', 'Freq-conv-squirrel-3-2x', 'Hair-dryer',\n",
    "       'Kettle', 'Raclette', 'Refrigerator', 'Resistor',\n",
    "       'Squirrel-3-async', 'Squirrel-3-async-2x', 'Vacuum']\n",
    "plaid_names = ['CFL','ILB','Waterkettle','Fan','AC','HairIron','LaptopCharger','SolderingIron','Fridge','Vacuum','CoffeeMaker','FridgeDefroster']\n",
    "\n",
    "from pre_processing.load_multilabel_plaid import *\n",
    "from pre_processing.load_multilabel_lilac import *\n",
    "from utils.utils import *"
   ]
  },
  {
   "cell_type": "code",
   "execution_count": null,
   "metadata": {},
   "outputs": [],
   "source": [
    "def zero_crossings(voltage): \n",
    "    return np.where(np.diff(np.sign(voltage)))[0]\n",
    "\n",
    "def get_zero_crossing(voltage, NN=1000):\n",
    "      \n",
    "    zero_crossing = zero_crossings(voltage)\n",
    "    \n",
    "    if len(zero_crossing)>0:\n",
    "        if voltage[zero_crossing[0]+1] > 0:\n",
    "            zero_crossing = zero_crossing[0:]\n",
    "        else:\n",
    "            zero_crossing = zero_crossing[1:]\n",
    "        if len(zero_crossing) % 2 == 1:\n",
    "            zero_crossing = zero_crossing[:-1]\n",
    "\n",
    "        if zero_crossing[-1] + NN >= len(voltage):\n",
    "            zero_crossing = zero_crossing[:-2]\n",
    "    else:\n",
    "        zero_crossing = None\n",
    "        \n",
    "    return zero_crossing\n",
    "\n",
    "def align_IV_zero_crossing(i,v, TS, app=None):\n",
    "    ks = []\n",
    "    cs = []\n",
    "    current, voltage = np.copy(i), np.copy(v)\n",
    "    \n",
    "    zc = get_zero_crossing(voltage, TS)[1:]\n",
    "    ks = []\n",
    "    crs = []\n",
    "    \n",
    "    for j in range(2, len(zc)-2):\n",
    "        ts=zc[-j]-zc[-(j+2)]\n",
    "        I=current[zc[-(j+2)]:zc[-j]]\n",
    "        if app=='Iron':\n",
    "            diff=round(np.max(abs(current)), 3) - round(np.max(abs(I)), 3)\n",
    "            diff=diff*100/round(np.max(abs(i)), 3)\n",
    "            \n",
    "        ic=ic=zero_crossings(I)\n",
    "        \n",
    "        if ts==TS:\n",
    "            if len(ic)>1:\n",
    "                k=j\n",
    "                break\n",
    "       \n",
    "        elif ts>3*TS//2 and ts<TS-1:\n",
    "            if len(ic)>1:\n",
    "                if app=='Iron' and diff<=3:\n",
    "                    k=j\n",
    "                    break\n",
    "                else:\n",
    "                    k=j\n",
    "                    break\n",
    "                \n",
    "        \n",
    "        elif ts>TS//2:\n",
    "            if len(ic)>1:\n",
    "                if app=='Iron' and diff<=3:\n",
    "                    k=j\n",
    "                    break\n",
    "                else:\n",
    "                    k=j\n",
    "                    break\n",
    "        \n",
    "    \n",
    "    voltage = voltage[zc[-(k+2)]:zc[-k]]\n",
    "    current = current[zc[-(k+2)]:zc[-k]]\n",
    "    return current, voltage, [zc[-(k+2)], zc[-(k)]]\n",
    "\n",
    "\n",
    "\n",
    "def align_voltage_current(i, v, NS):\n",
    "    current, voltage = np.copy(i), np.copy(v)\n",
    "    zc = get_zero_crossing(voltage, NS)[1:]\n",
    "    \n",
    "    for j in range(2, len(zc)-2):\n",
    "        ts=zc[-j]-zc[-(j+2)]\n",
    "        ic=zero_crossings(current[zc[-(j+2)]:zc[-j]])\n",
    "        if ts==NS and len(ic)>=2:\n",
    "            c, v =current[zc[-(j+2)]:zc[-j]], voltage[zc[-(j+2)]:zc[-j]]\n",
    "            break\n",
    "        if ts>NS//2 and len(ic)>=2:\n",
    "            c, v = current[zc[-(j+4)]:zc[-j]], voltage[zc[-(j+4)]:zc[-j]]\n",
    "            break\n",
    "    return c[:NS], v[:NS]"
   ]
  },
  {
   "cell_type": "markdown",
   "metadata": {},
   "source": [
    "## PLAID"
   ]
  },
  {
   "cell_type": "code",
   "execution_count": 3,
   "metadata": {},
   "outputs": [
    {
     "name": "stderr",
     "output_type": "stream",
     "text": [
      "  0%|          | 0/324 [00:15<?, ?it/s]\n"
     ]
    }
   ],
   "source": [
    "names = ['CFL','ILB','Waterkettle','Fan','AC','HairIron','LaptopCharger','SolderingIron','Fridge','Vacuum','CoffeeMaker','FridgeDefroster']\n",
    "\n",
    "folder = \"FINALAGGREGATED\"\n",
    "file1 = folder + '_events'\n",
    "file2 = folder + '_labels'\n",
    "data_path='../../data/Data/'\n",
    "final_currents = []\n",
    "final_voltages = []\n",
    "i_max = []\n",
    "targets = []\n",
    "count = 0\n",
    "cycles = 20*int(30e3/60)\n",
    "events, labels = read_events_labels(file1, file2, data_path)\n",
    "with tqdm(total=len(events)) as pbar:\n",
    "    for index, e, l in zip(events.keys(), events.values(), labels.values()):\n",
    "        events_appliance_id = np.array(e)\n",
    "\n",
    "        #print(count)\n",
    "        \n",
    "\n",
    "        f = data_path+folder+'/'+str(index+1)\n",
    "        a = pd.read_csv(f,names=['current','voltage'])\n",
    "\n",
    "        if 9 in l:\n",
    "            on_event = [1,1,1,0,0] if len(e)==5 else [1,1,1,1,0,0,0]\n",
    "        else:\n",
    "            on_event =[1,1,0,0] if len(e)==4 else [1,1,1,0, 0,0]\n",
    "        #multi_labels = create_multi_labels(appliances, on_pattern, on_events)\n",
    "        #visualize(events_appliance_id, a, on_event, names, l)\n",
    "        labels=get_multilabel(on_event, l)\n",
    "        targets +=labels\n",
    "        count+=1\n",
    "        if 1 in l:\n",
    "            break\n",
    "        \n",
    "                    "
   ]
  },
  {
   "cell_type": "code",
   "execution_count": 4,
   "metadata": {},
   "outputs": [],
   "source": [
    "NP=20\n",
    "NS=int(30e3/60)\n",
    "NC = NP*NS\n",
    "I = []\n",
    "V = []\n",
    "for idx in range(len(events_appliance_id)):\n",
    "    if idx!=len(events_appliance_id)-1:\n",
    "        i =a['current'].values[events_appliance_id[idx]:events_appliance_id[idx]+NC]\n",
    "        v =a['voltage'].values[events_appliance_id[idx]:events_appliance_id[idx]+NC]\n",
    "        I.append(i)\n",
    "        V.append(v)\n",
    "        \n",
    "        "
   ]
  },
  {
   "cell_type": "code",
   "execution_count": 5,
   "metadata": {},
   "outputs": [],
   "source": [
    "n = len(I)\n",
    "rep_I = np.empty([n, NS])\n",
    "rep_V = np.empty([n, NS])\n",
    "\n",
    "for i in range(n):\n",
    "    tempI = np.sum(np.reshape(I[i], [NP, NS]), 0)/NP\n",
    "    tempV = np.sum(np.reshape(V[i], [NP, NS]), 0)/NP\n",
    "    ix = np.argsort(np.abs(tempI))\n",
    "    j = 0\n",
    "    while True:\n",
    "        if ix[j] < 499 and tempI[ix[j]+1] > tempI[ix[j]]:\n",
    "            real_ix = ix[j]\n",
    "            break\n",
    "        else:\n",
    "            j += 1\n",
    "    rep_I[i, ] = np.hstack([tempI[real_ix:], tempI[:real_ix]])\n",
    "    rep_V[i, ] = np.hstack([tempV[real_ix:], tempV[:real_ix]])"
   ]
  },
  {
   "cell_type": "markdown",
   "metadata": {},
   "source": [
    "## Visualize"
   ]
  },
  {
   "cell_type": "code",
   "execution_count": 6,
   "metadata": {},
   "outputs": [
    {
     "data": {
      "image/png": "[encoded data removed]",
      "text/plain": [
       "<Figure size 504x311.489 with 1 Axes>"
      ]
     },
     "metadata": {
      "needs_background": "light"
     },
     "output_type": "display_data"
    }
   ],
   "source": [
    "fig = figure(fig_width=7)\n",
    "ev = np.zeros(len(a['current']))\n",
    "ev[events_appliance_id[0]] = 0.8\n",
    "ev[events_appliance_id[1]] = 1\n",
    "ev[events_appliance_id[2]] = 0.5\n",
    "plt.plot(a['current'].values)\n",
    "plt.plot(ev)\n",
    "plt.text(events_appliance_id[0]+cycles,1,[names[i-1] for i in labels[0]])\n",
    "plt.text(events_appliance_id[1]+cycles,1.2,[names[i-1] for i in labels[1]])\n",
    "plt.text(events_appliance_id[2]+cycles,0.75,[names[i-1] for i in labels[2]])\n",
    "plt.savefig(\"events.pdf\")\n",
    "plt.ylabel(\"current\")\n",
    "plt.xlabel(\"sample\")\n",
    "plt.tight_layout()\n",
    "plt.xlim(0, 250000)\n",
    "plt.ylim(-2, 4);\n",
    "#savefig(fig_path+\"plaid_events\", format=\".pdf\")"
   ]
  },
  {
   "cell_type": "code",
   "execution_count": 7,
   "metadata": {},
   "outputs": [],
   "source": [
    "fig = figure(fig_width=4)\n",
    "plt.plot(rep_I[0],label=f\"{[names[i-1] for i in labels[0]]}\")\n",
    "plt.plot(rep_I[1], label=f\"{[names[i-1] for i in labels[1]]}\")\n",
    "plt.plot(rep_I[2], label=f\"{[names[i-1] for i in labels[2]]}\")\n",
    "plt.legend()\n",
    "plt.tight_layout()\n",
    "plt.ylabel(\"current $A$\")\n",
    "plt.xlabel(\"smaple $T_s$\")\n",
    "savefig(fig_path+\"plaid_event_currents\", format=\".pdf\")"
   ]
  },
  {
   "cell_type": "code",
   "execution_count": 8,
   "metadata": {},
   "outputs": [],
   "source": [
    "fig = figure(fig_width=4)\n",
    "plt.plot(rep_I[0],rep_V[0], label=f\"{[names[i-1] for i in labels[0]]}\")\n",
    "plt.plot(rep_I[1],rep_V[1], label=f\"{[names[i-1] for i in labels[1]]}\")\n",
    "plt.plot(rep_I[2],rep_V[2], label=f\"{[names[i-1] for i in labels[2]]}\")\n",
    "plt.legend()\n",
    "plt.tight_layout()\n",
    "plt.ylabel(\"current $A$\")\n",
    "plt.xlabel(\"volatge $V$\")\n",
    "savefig(fig_path+\"plaid_event_currents_vi\", format=\".pdf\")"
   ]
  },
  {
   "cell_type": "code",
   "execution_count": 15,
   "metadata": {},
   "outputs": [
    {
     "data": {
      "text/plain": [
       "array([0.40365727, 0.79766097, 0.6571315 ])"
      ]
     },
     "execution_count": 15,
     "metadata": {},
     "output_type": "execute_result"
    }
   ],
   "source": [
    "rep_I.max(1)"
   ]
  },
  {
   "cell_type": "markdown",
   "metadata": {},
   "source": [
    "### VI"
   ]
  },
  {
   "cell_type": "code",
   "execution_count": 29,
   "metadata": {},
   "outputs": [],
   "source": [
    "img_1=get_img_from_VI(rep_I[0],rep_V[0], 50,True,1)\n",
    "img_2=get_img_from_VI(rep_I[1],rep_V[1], 50,True,1)\n",
    "img_3=get_img_from_VI(rep_I[2],rep_V[2], 50,True,1)\n",
    "\n",
    "fig = figure(fig_width=2.75, fig_height=2.75)\n",
    "plt.imshow(np.where(img_1>0, 0, 1), cmap=\"gray\")\n",
    "plt.xlabel(\"$W$\")\n",
    "plt.ylabel(\"$H$\")\n",
    "#plt.title(f\"{[names[i-1] for i in labels[0]]}\")\n",
    "plt.tight_layout()\n",
    "savefig(fig_path+\"plaid_vi_event_one\", format=\".pdf\")"
   ]
  },
  {
   "cell_type": "code",
   "execution_count": 30,
   "metadata": {},
   "outputs": [],
   "source": [
    "fig = figure(fig_width=2.75, fig_height=2.75)\n",
    "plt.imshow(np.where(img_2>0, 0, 1), cmap=\"gray\")\n",
    "plt.xlabel(\"$W$\")\n",
    "plt.ylabel(\"$H$\")\n",
    "#plt.title(f\"{[names[i-1] for i in labels[1]]}\")\n",
    "plt.tight_layout()\n",
    "savefig(fig_path+\"plaid_vi_event_two\", format=\".pdf\")"
   ]
  },
  {
   "cell_type": "code",
   "execution_count": 31,
   "metadata": {},
   "outputs": [],
   "source": [
    "fig = figure(fig_width=2.75, fig_height=2.75)\n",
    "plt.imshow(np.where(img_3>0, 0, 1), cmap=\"gray\")\n",
    "plt.xlabel(\"$W$\")\n",
    "plt.ylabel(\"$H$\")\n",
    "#plt.title(f\"{[names[i-1] for i in labels[2]]}\")\n",
    "plt.tight_layout()\n",
    "savefig(fig_path+\"plaid_vi_event_three\", format=\".pdf\")"
   ]
  },
  {
   "cell_type": "code",
   "execution_count": 43,
   "metadata": {},
   "outputs": [],
   "source": [
    "fig = figure(fig_width=2.75, fig_height=2.75)\n",
    "plt.imshow(np.where(img_3>0, 0, 1), cmap=\"gray\")\n",
    "plt.xlabel(\"$W$\")\n",
    "plt.ylabel(\"$H$\")\n",
    "#plt.title(f\"{[names[i-1] for i in labels[2]]}\")\n",
    "plt.tight_layout()\n",
    "savefig(fig_path+\"plaid_vi_event_t\", format=\".png\")"
   ]
  },
  {
   "cell_type": "code",
   "execution_count": 61,
   "metadata": {},
   "outputs": [
    {
     "name": "stderr",
     "output_type": "stream",
     "text": [
      "processed: 1: : 1it [00:00, 108.06it/s]\n",
      "processed: 1: : 1it [00:00, 88.81it/s]\n",
      "processed: 1: : 1it [00:00, 134.76it/s]\n"
     ]
    }
   ],
   "source": [
    "from utils.utils import generate_input_feature, get_weighted_reccurrence_graph\n",
    "\n",
    "def wrg(x, eps=10, delta=1):\n",
    "    x = x[:, None]\n",
    "    dist = generate_input_feature(x.T, None, \"wrg\", 50, True)\n",
    "    wrg  = get_weighted_reccurrence_graph(dist, eps, delta)\n",
    "    return wrg\n",
    "\n",
    "wrg_1=wrg(rep_I[0])\n",
    "wrg_2=wrg(rep_I[1])\n",
    "wrg_3=wrg(rep_I[2])"
   ]
  },
  {
   "cell_type": "code",
   "execution_count": 67,
   "metadata": {},
   "outputs": [],
   "source": [
    "fig = figure(fig_width=2.75, fig_height=2.75)\n",
    "plt.imshow(wrg_1[0][0], cmap='gray')\n",
    "plt.xlabel(\"$W$\")\n",
    "plt.ylabel(\"$H$\")\n",
    "savefig(fig_path+\"plaid_wrg_event_one\", format=\".pdf\")"
   ]
  },
  {
   "cell_type": "code",
   "execution_count": 66,
   "metadata": {},
   "outputs": [],
   "source": [
    "fig = figure(fig_width=2.75, fig_height=2.75)\n",
    "plt.imshow(wrg_2[0][0], cmap='gray')\n",
    "plt.xlabel(\"$W$\")\n",
    "plt.ylabel(\"$H$\")\n",
    "savefig(fig_path+\"plaid_wrg_event_two\", format=\".pdf\")"
   ]
  },
  {
   "cell_type": "code",
   "execution_count": 65,
   "metadata": {},
   "outputs": [],
   "source": [
    "fig = figure(fig_width=2.75, fig_height=2.75)\n",
    "plt.imshow(wrg_3[0][0], cmap='gray')\n",
    "plt.xlabel(\"$W$\")\n",
    "plt.ylabel(\"$H$\")\n",
    "savefig(fig_path+\"plaid_wrg_event_three\", format=\".pdf\")"
   ]
  },
  {
   "cell_type": "markdown",
   "metadata": {},
   "source": [
    "## Current"
   ]
  },
  {
   "cell_type": "code",
   "execution_count": 17,
   "metadata": {},
   "outputs": [
    {
     "name": "stdout",
     "output_type": "stream",
     "text": [
      "Load plaid aggregated data from ../data/plaid/\n"
     ]
    }
   ],
   "source": [
    "from utils.data_generator import get_data, get_loaders\n",
    "current, voltage, labels, I_max = get_data(data_type=\"plaid\")"
   ]
  },
  {
   "cell_type": "markdown",
   "metadata": {},
   "source": [
    "## LILAC"
   ]
  },
  {
   "cell_type": "code",
   "execution_count": null,
   "metadata": {},
   "outputs": [],
   "source": [
    "full_path = '../../data/Triple/1/Squirrel-3-async-2x_Squirrel-3-async_Bulb_231.tdms'\n",
    "file_id = \"1\"\n",
    "c, v, events, appliances,  on_pattern = get_data(full_path, file_id)"
   ]
  },
  {
   "cell_type": "code",
   "execution_count": null,
   "metadata": {},
   "outputs": [],
   "source": [
    "events_appliance_id = events.index.values\n",
    "on_events = np.where(events.values == 1, 1, 0).tolist()\n",
    "appliances = appliances_check(appliances)\n",
    "labels = create_multi_labels(appliances, on_pattern, on_events)"
   ]
  },
  {
   "cell_type": "code",
   "execution_count": null,
   "metadata": {},
   "outputs": [],
   "source": [
    "labels=[['Bulb'],\n",
    " ['Bulb', 'Squirrel'],\n",
    " ['Bulb', 'Squirrel', 'Squirrel-2x'],\n",
    " ['Squirrel', 'Squirrel-2x'],\n",
    " ['Squirrel-2x']]"
   ]
  },
  {
   "cell_type": "code",
   "execution_count": null,
   "metadata": {},
   "outputs": [],
   "source": [
    "period = int(50e3/50)\n",
    "cycles = period*5\n",
    "fig = figure(fig_width=6)\n",
    "ev = np.zeros(len(c))\n",
    "ev[events_appliance_id[0]] = 10\n",
    "ev[events_appliance_id[1]] = 12\n",
    "ev[events_appliance_id[2]] = 12\n",
    "ev[events_appliance_id[3]] = 12\n",
    "ev[events_appliance_id[4]] = 12\n",
    "#ev[events_appliance_id[5]] = 12\n",
    "plt.text(events_appliance_id[0]-cycles,10,[i for i in labels[0]])\n",
    "plt.text(events_appliance_id[1]+cycles,20,[i for i in labels[1]])\n",
    "plt.text(events_appliance_id[2]+cycles,-30,[i for i in labels[2]])\n",
    "plt.text(events_appliance_id[3],30,[i for i in labels[3]])\n",
    "plt.text(events_appliance_id[4]+cycles,20,[i for i in labels[4]])\n",
    "#plt.text(events_appliance_id[5]+cycles,-30,[i for i in labels[5]])\n",
    "plt.plot(c[:,2])\n",
    "plt.plot(ev)\n",
    "plt.ylabel(\"current $A$\")\n",
    "plt.xlabel(\"sample\")\n",
    "plt.xlim(0, 3000000)\n",
    "savefig(fig_path+\"lilac_events\", format=\".pdf\")"
   ]
  },
  {
   "cell_type": "code",
   "execution_count": null,
   "metadata": {},
   "outputs": [],
   "source": [
    "NP=20\n",
    "NS=int(50e3/50)\n",
    "NC = NP*NS\n",
    "I = []\n",
    "V = []\n",
    "for idx in range(len(events_appliance_id)):\n",
    "    if idx!=len(events_appliance_id)-1:\n",
    "        i =c[events_appliance_id[idx]:events_appliance_id[idx]+NC]\n",
    "        u =v[events_appliance_id[idx]:events_appliance_id[idx]+NC]\n",
    "        I.append(i)\n",
    "        V.append(u)\n",
    "        \n",
    "        \n",
    "I = np.array(I)\n",
    "V = np.array(V)\n",
    "        "
   ]
  },
  {
   "cell_type": "code",
   "execution_count": null,
   "metadata": {},
   "outputs": [],
   "source": [
    "def get_i_c(I, V, NS, NP):\n",
    "    n = len(I)\n",
    "    rep_I = np.empty([n, NS])\n",
    "    rep_V = np.empty([n, NS])\n",
    "\n",
    "    for i in range(n):\n",
    "        tempI = np.sum(np.reshape(I[i], [NP, NS]), 0)/NP\n",
    "        tempV = np.sum(np.reshape(V[i], [NP, NS]), 0)/NP\n",
    "        ix = np.argsort(np.abs(tempI))\n",
    "        j = 0\n",
    "        while True:\n",
    "            if ix[j] < NS-1 and tempI[ix[j]+1] > tempI[ix[j]]:\n",
    "                real_ix = ix[j]\n",
    "                break\n",
    "            else:\n",
    "                j += 1\n",
    "        rep_I[i, ] = np.hstack([tempI[real_ix:], tempI[:real_ix]])\n",
    "        rep_V[i, ] = np.hstack([tempV[real_ix:], tempV[:real_ix]])\n",
    "        \n",
    "    return rep_I, rep_V"
   ]
  },
  {
   "cell_type": "code",
   "execution_count": 2,
   "metadata": {},
   "outputs": [],
   "source": [
    "from utils.data_generator import *\n",
    "from sklearn.preprocessing import MultiLabelBinarizer"
   ]
  },
  {
   "cell_type": "code",
   "execution_count": 3,
   "metadata": {},
   "outputs": [
    {
     "name": "stdout",
     "output_type": "stream",
     "text": [
      "Load plaid aggregated data from ../data/plaid/\n"
     ]
    }
   ],
   "source": [
    "current, voltage, labels, I = get_data( data_type=\"plaid\")"
   ]
  },
  {
   "cell_type": "code",
   "execution_count": 4,
   "metadata": {},
   "outputs": [],
   "source": [
    "slb = MultiLabelBinarizer()\n",
    "slb.fit(labels)\n",
    "y = slb.transform(labels)\n",
    "classes=list(np.unique(np.hstack(labels)))\n",
    "num_class=len(classes)"
   ]
  },
  {
   "cell_type": "code",
   "execution_count": 7,
   "metadata": {},
   "outputs": [],
   "source": [
    "fig = plt.figure(figsize=(8, 4))\n",
    "for i, app in enumerate(classes):\n",
    "    ax  = fig.add_subplot(3,4,i+1)\n",
    "    ax  = get_label_distribution(ax, y[:,i], title=app)\n",
    "    \n",
    "fig.tight_layout()\n",
    "savefig(fig_path+\"plaid_label_distribution\", format=\".pdf\")"
   ]
  },
  {
   "cell_type": "code",
   "execution_count": 9,
   "metadata": {},
   "outputs": [
    {
     "name": "stdout",
     "output_type": "stream",
     "text": [
      "Load lilac aggregated data from ../data/lilac/\n"
     ]
    }
   ],
   "source": [
    "current, voltage, labels, I = get_data( data_type=\"lilac\")\n",
    "slb = MultiLabelBinarizer()\n",
    "slb.fit(labels)\n",
    "y = slb.transform(labels)\n",
    "classes=list(np.unique(np.hstack(labels)))\n",
    "num_class=len(classes)"
   ]
  },
  {
   "cell_type": "code",
   "execution_count": 13,
   "metadata": {},
   "outputs": [],
   "source": [
    "fig = plt.figure(figsize=(8, 5))\n",
    "for i, app in enumerate(classes):\n",
    "    ax  = fig.add_subplot(4,4,i+1)\n",
    "    ax  = get_label_distribution(ax, y[:,i], title=app)\n",
    "    \n",
    "fig.tight_layout()\n",
    "savefig(fig_path+\"lilac_label_distribution\", format=\".pdf\")"
   ]
  },
  {
   "cell_type": "code",
   "execution_count": null,
   "metadata": {},
   "outputs": [],
   "source": []
  }
 ],
 "metadata": {
  "kernelspec": {
   "display_name": "Python 3",
   "language": "python",
   "name": "python3"
  },
  "language_info": {
   "codemirror_mode": {
    "name": "ipython",
    "version": 3
   },
   "file_extension": ".py",
   "mimetype": "text/x-python",
   "name": "python",
   "nbconvert_exporter": "python",
   "pygments_lexer": "ipython3",
   "version": "3.7.7"
  },
  "latex_envs": {
   "LaTeX_envs_menu_present": true,
   "autoclose": false,
   "autocomplete": true,
   "bibliofile": "biblio.bib",
   "cite_by": "apalike",
   "current_citInitial": 1,
   "eqLabelWithNumbers": true,
   "eqNumInitial": 1,
   "hotkeys": {
    "equation": "Ctrl-E",
    "itemize": "Ctrl-I"
   },
   "labels_anchors": false,
   "latex_user_defs": false,
   "report_style_numbering": false,
   "user_envs_cfg": false
  }
 },
 "nbformat": 4,
 "nbformat_minor": 4
}

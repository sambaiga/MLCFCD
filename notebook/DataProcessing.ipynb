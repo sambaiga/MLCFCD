{
 "cells": [
  {
   "cell_type": "code",
   "execution_count": 1,
   "metadata": {},
   "outputs": [],
   "source": [
    "import sys\n",
    "sys.path.append(\"../src/\")\n",
    "from net.modules import ConvEncoder, MultilabelVI\n",
    "from utils.utils import *\n",
    "from utils.data_generator import *\n",
    "import matplotlib.pyplot as plt\n",
    "from utils.visual_functions import *\n",
    "from sklearn.preprocessing import MultiLabelBinarizer, StandardScaler\n",
    "%matplotlib inline"
   ]
  },
  {
   "cell_type": "code",
   "execution_count": 2,
   "metadata": {},
   "outputs": [
    {
     "name": "stdout",
     "output_type": "stream",
     "text": [
      "Load lilac_isc aggregated data from ../data/lilac_isc/\n"
     ]
    }
   ],
   "source": [
    "current, voltage, labels, I = get_data( data_type=\"lilac_isc\")"
   ]
  },
  {
   "cell_type": "code",
   "execution_count": 3,
   "metadata": {},
   "outputs": [
    {
     "data": {
      "text/plain": [
       "(1015, 1000, 3)"
      ]
     },
     "execution_count": 3,
     "metadata": {},
     "output_type": "execute_result"
    }
   ],
   "source": [
    "current.shape"
   ]
  },
  {
   "cell_type": "code",
   "execution_count": 4,
   "metadata": {},
   "outputs": [
    {
     "name": "stderr",
     "output_type": "stream",
     "text": [
      "processed: 1015: : 1015it [00:04, 218.74it/s]\n",
      "processed: 1015: : 1015it [00:04, 211.08it/s]\n",
      "processed: 1015: : 1015it [00:04, 216.32it/s]\n"
     ]
    }
   ],
   "source": [
    "input_feature = generate_input_feature(current, voltage, \"vi\", 50, True)"
   ]
  },
  {
   "cell_type": "code",
   "execution_count": 10,
   "metadata": {},
   "outputs": [
    {
     "data": {
      "text/plain": [
       "array(['1-phase-async-motor', '3-phase-async-motor', 'Bulb',\n",
       "       'Coffee-machine', 'Drilling-machine', 'Dumper-machine',\n",
       "       'Fluorescent-lamp', 'Freq-conv-squirrel-3-2x', 'Hair-dryer',\n",
       "       'Kettle', 'Raclette', 'Refrigerator', 'Resistor',\n",
       "       'Squirrel-3-async', 'Squirrel-3-async-2x', 'Vacuum-cleaner'],\n",
       "      dtype='<U23')"
      ]
     },
     "execution_count": 10,
     "metadata": {},
     "output_type": "execute_result"
    }
   ],
   "source": [
    "np.unique(np.hstack(labels))"
   ]
  },
  {
   "cell_type": "code",
   "execution_count": null,
   "metadata": {},
   "outputs": [],
   "source": []
  }
 ],
 "metadata": {
  "kernelspec": {
   "display_name": "Python 3",
   "language": "python",
   "name": "python3"
  },
  "language_info": {
   "codemirror_mode": {
    "name": "ipython",
    "version": 3
   },
   "file_extension": ".py",
   "mimetype": "text/x-python",
   "name": "python",
   "nbconvert_exporter": "python",
   "pygments_lexer": "ipython3",
   "version": "3.7.4"
  }
 },
 "nbformat": 4,
 "nbformat_minor": 4
}

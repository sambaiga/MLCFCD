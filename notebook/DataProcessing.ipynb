{
 "cells": [
  {
   "cell_type": "code",
   "execution_count": 1,
   "metadata": {},
   "outputs": [],
   "source": [
    "import sys\n",
    "sys.path.append(\"../src/\")\n",
    "from net.modules import ConvEncoder, MultilabelVI, MultilabelBinaryVI, MultilabelMaxI, MultilabelVItrajectory\n",
    "from utils.utils import *\n",
    "from utils.data_generator import *\n",
    "import matplotlib.pyplot as plt\n",
    "from utils.visual_functions import *\n",
    "from tqdm import tqdm\n",
    "from sklearn.preprocessing import MultiLabelBinarizer, StandardScaler\n",
    "%matplotlib inline"
   ]
  },
  {
   "cell_type": "code",
   "execution_count": 2,
   "metadata": {},
   "outputs": [
    {
     "name": "stdout",
     "output_type": "stream",
     "text": [
      "Load plaid aggregated data from ../data/plaid/\n"
     ]
    }
   ],
   "source": [
    "current, voltage, labels, I = get_data( data_type=\"plaid\")"
   ]
  },
  {
   "cell_type": "code",
   "execution_count": 3,
   "metadata": {},
   "outputs": [
    {
     "name": "stderr",
     "output_type": "stream",
     "text": [
      "frze processed: 100 percent: : 1154it [00:50, 22.80it/s]\n",
      "processed: 1154: : 1154it [00:05, 212.98it/s]\n"
     ]
    }
   ],
   "source": [
    "I_max  = compute_active_non_active_features(current, voltage, emb_size=50)  \n",
    "input_feature = generate_input_feature(current, voltage, 'vi', 50, True) "
   ]
  },
  {
   "cell_type": "code",
   "execution_count": 7,
   "metadata": {},
   "outputs": [
    {
     "data": {
      "text/plain": [
       "(1154, 2600)"
      ]
     },
     "execution_count": 7,
     "metadata": {},
     "output_type": "execute_result"
    }
   ],
   "source": [
    "img_tra=np.concatenate([input_feature.reshape(len(input_feature), -1), I_max.reshape(len(I_max), -1)], 1)\n",
    "img_tra.shape                    "
   ]
  },
  {
   "cell_type": "code",
   "execution_count": null,
   "metadata": {},
   "outputs": [],
   "source": [
    "def fryze_power_decomposition(i, v, T=500):\n",
    "    pact = i[:,None]*v[:, None]\n",
    "    pact = np.sum(pact)/T\n",
    "    vrms = np.sum(v[:,None]**2)/T\n",
    "    i_active = pact*v/vrms\n",
    "    i_non_active = i- i_active \n",
    "    return i_active, i_non_active\n",
    "\n",
    "\n",
    "def compute_active_non_active_features(current, voltage, emb_size=50):\n",
    "    n = len(current)\n",
    "    features = np.zeros((n, emb_size, 2))\n",
    "    with tqdm(n) as pbar:\n",
    "        for k in range(n):\n",
    "            i_active, i_non_active = fryze_power_decomposition(current[k], voltage[k], T=500)\n",
    "            i_active=paa(i_active.flatten(), emb_size)\n",
    "            i_non_active=paa(i_non_active.flatten(), emb_size)\n",
    "            features[k]=np.hstack([i_non_active[:,None], i_active[:,None]]).astype(float)\n",
    "            pbar.set_description('frze processed: %d percent' % round((1 + k)*100/n, 2))\n",
    "            pbar.update(1)\n",
    "        pbar.close() \n",
    "    features = torch.tensor(features).float()\n",
    "    features = features.view(-1, 2, emb_size)\n",
    "    return features"
   ]
  },
  {
   "cell_type": "code",
   "execution_count": null,
   "metadata": {},
   "outputs": [],
   "source": [
    "features = compute_active_non_active_features(current, voltage, emb_size=50)"
   ]
  },
  {
   "cell_type": "code",
   "execution_count": null,
   "metadata": {},
   "outputs": [],
   "source": []
  },
  {
   "cell_type": "code",
   "execution_count": null,
   "metadata": {},
   "outputs": [],
   "source": [
    "plt.subplot(3,1,1)\n",
    "plt.plot(i, v)\n",
    "plt.subplot(3,1,2)\n",
    "plt.plot(ia, v)\n",
    "plt.subplot(3,1,3)\n",
    "plt.plot(ip, v)"
   ]
  },
  {
   "cell_type": "code",
   "execution_count": null,
   "metadata": {},
   "outputs": [],
   "source": [
    "\n",
    "emb_size=50\n",
    "\n",
    "inputs = []\n",
    "for i in range(len(current)):\n",
    "    series = current[i].T\n",
    "    dist = torch.empty(d, emb_size)\n",
    "    d, T =  series.shape\n",
    "    dist = []\n",
    "    for k in range(d):\n",
    "         dist+=[create_paa(series[k,:], emb_size)]\n",
    "    inputs+=[dist]\n",
    "\n",
    " "
   ]
  },
  {
   "cell_type": "code",
   "execution_count": null,
   "metadata": {},
   "outputs": [],
   "source": [
    "inputs"
   ]
  },
  {
   "cell_type": "code",
   "execution_count": null,
   "metadata": {},
   "outputs": [],
   "source": [
    "paa_curent=create_paa(current, 50)"
   ]
  },
  {
   "cell_type": "code",
   "execution_count": null,
   "metadata": {},
   "outputs": [],
   "source": [
    "paa_curent.shape"
   ]
  },
  {
   "cell_type": "code",
   "execution_count": null,
   "metadata": {},
   "outputs": [],
   "source": [
    "model=MultilabelVItrajectory(in_size=1, out_size=12)"
   ]
  },
  {
   "cell_type": "code",
   "execution_count": null,
   "metadata": {},
   "outputs": [],
   "source": [
    "x=paa_curent[:4].unsqueeze(1)\n",
    "x.shape"
   ]
  },
  {
   "cell_type": "code",
   "execution_count": null,
   "metadata": {},
   "outputs": [],
   "source": [
    "model(x, None)"
   ]
  },
  {
   "cell_type": "code",
   "execution_count": null,
   "metadata": {},
   "outputs": [],
   "source": [
    "input_feature = generate_input_feature(current, voltage, \"vi\", 50, True)"
   ]
  },
  {
   "cell_type": "code",
   "execution_count": null,
   "metadata": {},
   "outputs": [],
   "source": [
    "np.unique(np.hstack(labels))"
   ]
  },
  {
   "cell_type": "code",
   "execution_count": null,
   "metadata": {},
   "outputs": [],
   "source": []
  }
 ],
 "metadata": {
  "kernelspec": {
   "display_name": "Python 3",
   "language": "python",
   "name": "python3"
  },
  "language_info": {
   "codemirror_mode": {
    "name": "ipython",
    "version": 3
   },
   "file_extension": ".py",
   "mimetype": "text/x-python",
   "name": "python",
   "nbconvert_exporter": "python",
   "pygments_lexer": "ipython3",
   "version": "3.7.7"
  },
  "latex_envs": {
   "LaTeX_envs_menu_present": true,
   "autoclose": false,
   "autocomplete": true,
   "bibliofile": "biblio.bib",
   "cite_by": "apalike",
   "current_citInitial": 1,
   "eqLabelWithNumbers": true,
   "eqNumInitial": 1,
   "hotkeys": {
    "equation": "Ctrl-E",
    "itemize": "Ctrl-I"
   },
   "labels_anchors": false,
   "latex_user_defs": false,
   "report_style_numbering": false,
   "user_envs_cfg": false
  }
 },
 "nbformat": 4,
 "nbformat_minor": 4
}
